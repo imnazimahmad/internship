{
 "cells": [
  {
   "cell_type": "markdown",
   "id": "6b4707ed",
   "metadata": {},
   "source": [
    "#                                                   Regular Expressions Assignment"
   ]
  },
  {
   "cell_type": "markdown",
   "id": "92ddab10",
   "metadata": {},
   "source": [
    "# Question No 1"
   ]
  },
  {
   "cell_type": "code",
   "execution_count": 1,
   "id": "ba70cfc2",
   "metadata": {},
   "outputs": [],
   "source": [
    "import re"
   ]
  },
  {
   "cell_type": "code",
   "execution_count": 4,
   "id": "e33983b3",
   "metadata": {},
   "outputs": [],
   "source": [
    "def contains_only_allowed_chars(input_str):\n",
    "    pattern = r'^[a-zA-Z0-9]+$'\n",
    "    if re.match(pattern, input_str):\n",
    "        return True\n",
    "    else:\n",
    "        return False"
   ]
  },
  {
   "cell_type": "code",
   "execution_count": 9,
   "id": "21e36fed",
   "metadata": {},
   "outputs": [],
   "source": [
    "live_string = \"HelloData123\""
   ]
  },
  {
   "cell_type": "code",
   "execution_count": 10,
   "id": "68b3e61f",
   "metadata": {},
   "outputs": [
    {
     "name": "stdout",
     "output_type": "stream",
     "text": [
      "The string contains only allowed characters.\n"
     ]
    }
   ],
   "source": [
    "if contains_only_allowed_chars(live_string):\n",
    "    print(\"The string contains only allowed characters.\")\n",
    "else:\n",
    "    print(\"The string contains some characters that are not allowed.\")"
   ]
  },
  {
   "cell_type": "markdown",
   "id": "1f525ace",
   "metadata": {},
   "source": [
    "# Question No 2"
   ]
  },
  {
   "cell_type": "code",
   "execution_count": 11,
   "id": "e08ddb6f",
   "metadata": {},
   "outputs": [],
   "source": [
    "import re"
   ]
  },
  {
   "cell_type": "code",
   "execution_count": 33,
   "id": "8f69219a",
   "metadata": {},
   "outputs": [],
   "source": [
    "def match_pattern(txt):\n",
    "    pattern = r'ab*'\n",
    "    matches = re.findall(pattern, txt)\n",
    "    return matches"
   ]
  },
  {
   "cell_type": "code",
   "execution_count": 36,
   "id": "cf8cc6d7",
   "metadata": {},
   "outputs": [
    {
     "name": "stdout",
     "output_type": "stream",
     "text": [
      "['abb', 'ab', 'abbbbb']\n"
     ]
    }
   ],
   "source": [
    "txt = \"abb ab abbbbb\"\n",
    "result = match_pattern(txt)\n",
    "print(result)"
   ]
  },
  {
   "cell_type": "markdown",
   "id": "41b48a37",
   "metadata": {},
   "source": [
    "# Question No 3"
   ]
  },
  {
   "cell_type": "code",
   "execution_count": 37,
   "id": "ebb60180",
   "metadata": {},
   "outputs": [],
   "source": [
    "import re"
   ]
  },
  {
   "cell_type": "code",
   "execution_count": 42,
   "id": "cd1dab6f",
   "metadata": {},
   "outputs": [
    {
     "name": "stdout",
     "output_type": "stream",
     "text": [
      "Found a match!\n",
      "Found a match!\n"
     ]
    }
   ],
   "source": [
    "def text_match(text):\n",
    "        patterns = 'ab+?'\n",
    "        if re.search(patterns,  text):\n",
    "                return 'Found a match!'\n",
    "        else:\n",
    "                return('Not matched!')\n",
    "\n",
    "print(text_match(\"ab\"))\n",
    "print(text_match(\"abc\"))"
   ]
  },
  {
   "cell_type": "markdown",
   "id": "1d13daa1",
   "metadata": {},
   "source": [
    "# Question No 4"
   ]
  },
  {
   "cell_type": "code",
   "execution_count": 44,
   "id": "401bacbb",
   "metadata": {},
   "outputs": [],
   "source": [
    "import re"
   ]
  },
  {
   "cell_type": "code",
   "execution_count": 48,
   "id": "78b601bc",
   "metadata": {},
   "outputs": [
    {
     "name": "stdout",
     "output_type": "stream",
     "text": [
      "Found a match!\n",
      "Found a match!\n",
      "Found a match!\n",
      "Found a match!\n"
     ]
    }
   ],
   "source": [
    "def string_match(string):\n",
    "        patterns = 'ab?'\n",
    "        if re.search(patterns,  string):\n",
    "                return 'Found a match!'\n",
    "        else:\n",
    "                return('Not matched!')\n",
    "\n",
    "print(text_match(\"ab\"))\n",
    "print(text_match(\"abc\"))\n",
    "print(text_match(\"abbc\"))\n",
    "print(text_match(\"aabbc\"))"
   ]
  },
  {
   "cell_type": "markdown",
   "id": "403f5ab6",
   "metadata": {},
   "source": [
    "# Question No 5"
   ]
  },
  {
   "cell_type": "code",
   "execution_count": 49,
   "id": "8def6ce5",
   "metadata": {},
   "outputs": [],
   "source": [
    "import re"
   ]
  },
  {
   "cell_type": "code",
   "execution_count": 58,
   "id": "a8679c3c",
   "metadata": {},
   "outputs": [
    {
     "name": "stdout",
     "output_type": "stream",
     "text": [
      "Found a match!\n",
      "Found a match!\n"
     ]
    }
   ],
   "source": [
    "def text_match(text):\n",
    "        patterns = 'ab{3}?'\n",
    "        if re.search(patterns,  text):\n",
    "                return 'Found a match!'\n",
    "        else:\n",
    "                return('Not matched!')\n",
    "\n",
    "print(text_match(\"abbb\"))\n",
    "print(text_match(\"aabbbbbc\"))"
   ]
  },
  {
   "cell_type": "markdown",
   "id": "ee44564f",
   "metadata": {},
   "source": [
    "# Question No 6"
   ]
  },
  {
   "cell_type": "code",
   "execution_count": 51,
   "id": "e781b6cb",
   "metadata": {},
   "outputs": [],
   "source": [
    "import re"
   ]
  },
  {
   "cell_type": "code",
   "execution_count": 56,
   "id": "551229cd",
   "metadata": {},
   "outputs": [
    {
     "name": "stdout",
     "output_type": "stream",
     "text": [
      "['Importance ', 'Of ', 'Regular ', 'Expressions ', 'In ', 'Python']\n"
     ]
    }
   ],
   "source": [
    "txt= \"Importance Of Regular Expressions In Python\"\n",
    "pattern = re.findall('[A-Z][^A-Z]*', txt)\n",
    "print(pattern)"
   ]
  },
  {
   "cell_type": "markdown",
   "id": "fc5906f0",
   "metadata": {},
   "source": [
    "# Question No 7"
   ]
  },
  {
   "cell_type": "markdown",
   "id": "b4f9607c",
   "metadata": {},
   "source": [
    "Write a Python program that matches a string that has an a followed by two to three 'b'"
   ]
  },
  {
   "cell_type": "code",
   "execution_count": 57,
   "id": "ad01a2e4",
   "metadata": {},
   "outputs": [],
   "source": [
    "import re"
   ]
  },
  {
   "cell_type": "code",
   "execution_count": 88,
   "id": "1e5db5ce",
   "metadata": {},
   "outputs": [
    {
     "name": "stdout",
     "output_type": "stream",
     "text": [
      "Not match!\n",
      "Not match!\n"
     ]
    }
   ],
   "source": [
    "def txt_match(text):\n",
    "        pattern = 'ab{2,3}'\n",
    "        if re.search(pattern,  txt):\n",
    "                return 'Found a match!'\n",
    "        else:\n",
    "                return('Not match!')\n",
    "\n",
    "print(text_match(\"ab\"))\n",
    "print(text_match(\"aabbbbbc\"))"
   ]
  },
  {
   "cell_type": "markdown",
   "id": "b5281cb8",
   "metadata": {},
   "source": [
    "# Question No 8"
   ]
  },
  {
   "cell_type": "code",
   "execution_count": 67,
   "id": "9c99c331",
   "metadata": {},
   "outputs": [],
   "source": [
    "import re"
   ]
  },
  {
   "cell_type": "code",
   "execution_count": 87,
   "id": "7e4f8adb",
   "metadata": {},
   "outputs": [],
   "source": [
    "def text_match(text):\n",
    "        pattern = '^[a-z]+_[a-z]+$'\n",
    "        if re.search(pattern,  text):\n",
    "                return 'Found a match!'\n",
    "        else:\n",
    "                return('Not match!')"
   ]
  },
  {
   "cell_type": "code",
   "execution_count": 72,
   "id": "462a0dcc",
   "metadata": {},
   "outputs": [
    {
     "name": "stdout",
     "output_type": "stream",
     "text": [
      "Found a match!\n",
      "Not matched!\n",
      "Not matched!\n"
     ]
    }
   ],
   "source": [
    "print(text_match(\"aab_cbbbc\"))\n",
    "print(text_match(\"aab_Abbbc\"))\n",
    "print(text_match(\"Aaab_abbbc\"))"
   ]
  },
  {
   "cell_type": "markdown",
   "id": "c01ae2ff",
   "metadata": {},
   "source": [
    "# Question No 9"
   ]
  },
  {
   "cell_type": "code",
   "execution_count": 70,
   "id": "358e8282",
   "metadata": {},
   "outputs": [],
   "source": [
    "import re"
   ]
  },
  {
   "cell_type": "code",
   "execution_count": 85,
   "id": "44bf8b1f",
   "metadata": {},
   "outputs": [],
   "source": [
    "def txt_match(txt):\n",
    "    patterns = 'a.*?b$'\n",
    "    if re.search(patterns,  txt):\n",
    "        return 'Found a match!'\n",
    "    else:\n",
    "        return 'Not match!'"
   ]
  },
  {
   "cell_type": "code",
   "execution_count": 86,
   "id": "992462a4",
   "metadata": {},
   "outputs": [
    {
     "name": "stdout",
     "output_type": "stream",
     "text": [
      "Not match!\n",
      "Not match!\n",
      "Found a match!\n"
     ]
    }
   ],
   "source": [
    "print(txt_match(\"aabbbbd\"))\n",
    "print(txt_match(\"aabAbbbc\"))\n",
    "print(txt_match(\"accddbbnnnb\"))"
   ]
  },
  {
   "cell_type": "markdown",
   "id": "4b212e1c",
   "metadata": {},
   "source": [
    "# Question No 10"
   ]
  },
  {
   "cell_type": "code",
   "execution_count": 89,
   "id": "a5b3f37f",
   "metadata": {},
   "outputs": [],
   "source": [
    "import re"
   ]
  },
  {
   "cell_type": "code",
   "execution_count": 103,
   "id": "edce9ba2",
   "metadata": {},
   "outputs": [
    {
     "name": "stdout",
     "output_type": "stream",
     "text": [
      "Found a match!\n",
      "Found a match!\n"
     ]
    }
   ],
   "source": [
    "def txt_match(text):\n",
    "        patterns = '^\\w+'\n",
    "        if re.search(patterns,  txt):\n",
    "                return 'Found a match!'\n",
    "        else:\n",
    "                return('Not matched!')\n",
    "\n",
    "print(txt_match(\"Found word at the beginning of the text.\"))\n",
    "print(txt_match(\"Not found at the beginning of the text.\"))"
   ]
  },
  {
   "cell_type": "markdown",
   "id": "9a42d92f",
   "metadata": {},
   "source": [
    "# Question No 11"
   ]
  },
  {
   "cell_type": "code",
   "execution_count": 118,
   "id": "aed1e084",
   "metadata": {},
   "outputs": [],
   "source": [
    "import re"
   ]
  },
  {
   "cell_type": "code",
   "execution_count": 121,
   "id": "a11ea410",
   "metadata": {},
   "outputs": [
    {
     "name": "stdout",
     "output_type": "stream",
     "text": [
      "Not matched!\n",
      "Not matched!\n",
      "Not matched!\n",
      "Found a match!\n"
     ]
    }
   ],
   "source": [
    "def text_match(text):\n",
    "        patterns = '^[a-zA-Z0-9_]*$'\n",
    "        if re.search(patterns,  text):\n",
    "                return 'Found a match!'\n",
    "        else:\n",
    "                return('Not matched!')\n",
    "\n",
    "print(text_match(\"Hello_World123.\"))\n",
    "print(text_match(\"Hello-World!\"))\n",
    "print(text_match(\"12345.\"))\n",
    "print(text_match(\"___\"))"
   ]
  },
  {
   "cell_type": "markdown",
   "id": "9862641e",
   "metadata": {},
   "source": [
    "# Question No 12"
   ]
  },
  {
   "cell_type": "code",
   "execution_count": 122,
   "id": "d1e96472",
   "metadata": {},
   "outputs": [],
   "source": [
    "import re"
   ]
  },
  {
   "cell_type": "code",
   "execution_count": 142,
   "id": "d81a9e6b",
   "metadata": {},
   "outputs": [
    {
     "name": "stdout",
     "output_type": "stream",
     "text": [
      "True\n",
      "False\n"
     ]
    }
   ],
   "source": [
    "def match_num(string):\n",
    "    text = re.compile(r\"^1\")\n",
    "    if text.match(string):\n",
    "        return True\n",
    "    else:\n",
    "        return False\n",
    "print(match_num('12345'))\n",
    "print(match_num('67890'))"
   ]
  },
  {
   "cell_type": "markdown",
   "id": "6f9615f2",
   "metadata": {},
   "source": [
    "# Question No 13"
   ]
  },
  {
   "cell_type": "code",
   "execution_count": 143,
   "id": "9eaffe67",
   "metadata": {},
   "outputs": [],
   "source": [
    "import re"
   ]
  },
  {
   "cell_type": "code",
   "execution_count": 154,
   "id": "b0cc2a1f",
   "metadata": {},
   "outputs": [
    {
     "name": "stdout",
     "output_type": "stream",
     "text": [
      "113.74.34.114\n"
     ]
    }
   ],
   "source": [
    "ip = \"113.074.34.114\"\n",
    "string = re.sub('\\.[0]*', '.', ip)\n",
    "print(string)"
   ]
  },
  {
   "cell_type": "markdown",
   "id": "0a1e86a2",
   "metadata": {},
   "source": [
    "# Question No 14"
   ]
  },
  {
   "cell_type": "markdown",
   "id": "c286fec6",
   "metadata": {},
   "source": [
    "# Question No 15"
   ]
  },
  {
   "cell_type": "code",
   "execution_count": 176,
   "id": "6e989100",
   "metadata": {},
   "outputs": [],
   "source": [
    "import re"
   ]
  },
  {
   "cell_type": "code",
   "execution_count": 182,
   "id": "1bfe2b47",
   "metadata": {},
   "outputs": [
    {
     "name": "stdout",
     "output_type": "stream",
     "text": [
      "Searching for \"fox\" in \"The quick brown fox jumps over the lazy dog.\" ->\n",
      "Matched!\n",
      "Searching for \"dog\" in \"The quick brown fox jumps over the lazy dog.\" ->\n",
      "Matched!\n",
      "Searching for \"horse\" in \"The quick brown fox jumps over the lazy dog.\" ->\n",
      "Not Matched!\n"
     ]
    }
   ],
   "source": [
    "patterns = [ 'fox', 'dog', 'horse' ]\n",
    "txt = 'The quick brown fox jumps over the lazy dog.'\n",
    "for pattern in patterns:\n",
    "    print('Searching for \"%s\" in \"%s\" ->' % (pattern, txt),)\n",
    "    if re.search(pattern,  txt):\n",
    "        print('Matched!')\n",
    "    else:\n",
    "        print('Not Matched!')"
   ]
  },
  {
   "cell_type": "markdown",
   "id": "5140d42a",
   "metadata": {},
   "source": [
    "# Question No 16"
   ]
  },
  {
   "cell_type": "code",
   "execution_count": 165,
   "id": "baf1a7bd",
   "metadata": {},
   "outputs": [],
   "source": [
    "import re"
   ]
  },
  {
   "cell_type": "code",
   "execution_count": 183,
   "id": "80b18b99",
   "metadata": {},
   "outputs": [
    {
     "name": "stdout",
     "output_type": "stream",
     "text": [
      "Found \"fox\" in \"The quick brown fox jumps over the lazy dog.\" from 16 to 19 \n"
     ]
    }
   ],
   "source": [
    "pattern = 'fox'\n",
    "txt = 'The quick brown fox jumps over the lazy dog.'\n",
    "match = re.search(pattern, txt)\n",
    "s = match.start()\n",
    "e = match.end()\n",
    "print('Found \"%s\" in \"%s\" from %d to %d ' % \\\n",
    "    (match.re.pattern, match.string, s, e))"
   ]
  },
  {
   "cell_type": "markdown",
   "id": "a80ff375",
   "metadata": {},
   "source": [
    "# Question No 17"
   ]
  },
  {
   "cell_type": "code",
   "execution_count": 170,
   "id": "f3b5106e",
   "metadata": {},
   "outputs": [],
   "source": [
    "import re"
   ]
  },
  {
   "cell_type": "code",
   "execution_count": 173,
   "id": "a06fc254",
   "metadata": {},
   "outputs": [
    {
     "name": "stdout",
     "output_type": "stream",
     "text": [
      "Found \"exercises\"\n",
      "Found \"exercises\"\n",
      "Found \"exercises\"\n"
     ]
    }
   ],
   "source": [
    "text = 'Python exercises, PHP exercises, C# exercises'\n",
    "pattern = 'exercises'\n",
    "for match in re.findall(pattern, text):\n",
    "    print('Found \"%s\"' % match)"
   ]
  },
  {
   "cell_type": "markdown",
   "id": "a3475c81",
   "metadata": {},
   "source": [
    "# Question No 18"
   ]
  },
  {
   "cell_type": "code",
   "execution_count": 2,
   "id": "58e863e4",
   "metadata": {},
   "outputs": [],
   "source": [
    "import re"
   ]
  },
  {
   "cell_type": "code",
   "execution_count": 175,
   "id": "2f4a6236",
   "metadata": {},
   "outputs": [
    {
     "name": "stdout",
     "output_type": "stream",
     "text": [
      "Found \"exercises\" at 7:16\n",
      "Found \"exercises\" at 22:31\n",
      "Found \"exercises\" at 36:45\n"
     ]
    }
   ],
   "source": [
    "text = 'Python exercises, PHP exercises, C# exercises'\n",
    "pattern = 'exercises'\n",
    "for match in re.finditer(pattern, text):\n",
    "    s = match.start()\n",
    "    e = match.end()\n",
    "    print('Found \"%s\" at %d:%d' % (text[s:e], s, e))"
   ]
  },
  {
   "cell_type": "markdown",
   "id": "737c5895",
   "metadata": {},
   "source": [
    "# Question No 19"
   ]
  },
  {
   "cell_type": "markdown",
   "id": "2987b769",
   "metadata": {},
   "source": [
    "Write a Python program to convert a date of yyyy-mm-dd format to dd-mm-yyyy format."
   ]
  },
  {
   "cell_type": "code",
   "execution_count": 26,
   "id": "010a8d86",
   "metadata": {},
   "outputs": [],
   "source": [
    "import re"
   ]
  },
  {
   "cell_type": "code",
   "execution_count": 29,
   "id": "22ede5dc",
   "metadata": {},
   "outputs": [
    {
     "name": "stdout",
     "output_type": "stream",
     "text": [
      "Original date in yyyy-mm-dd Format:  2023-07-16\n",
      "New date in dd-mm-yyyy Format:  16-07-2023\n"
     ]
    }
   ],
   "source": [
    "def convert_date(dt):\n",
    "        return re.sub(r'(\\d{4})-(\\d{1,2})-(\\d{1,2})', '\\\\3-\\\\2-\\\\1', dt)\n",
    "dt1 = \"2023-07-16\"\n",
    "print(\"Original date in yyyy-mm-dd Format: \",dt1)\n",
    "print(\"New date in dd-mm-yyyy Format: \",convert_date(dt1))"
   ]
  },
  {
   "cell_type": "markdown",
   "id": "e545819b",
   "metadata": {},
   "source": [
    "# Question No 20"
   ]
  },
  {
   "cell_type": "markdown",
   "id": "f27ba3e1",
   "metadata": {},
   "source": [
    "Write a Python program to find all words starting with 'a' or 'e' in a given string."
   ]
  },
  {
   "cell_type": "code",
   "execution_count": 30,
   "id": "9cf759b1",
   "metadata": {},
   "outputs": [],
   "source": [
    "import re"
   ]
  },
  {
   "cell_type": "code",
   "execution_count": 51,
   "id": "f7f82c9f",
   "metadata": {},
   "outputs": [
    {
     "name": "stdout",
     "output_type": "stream",
     "text": [
      "['ake', 'ars', 'attempt']\n"
     ]
    }
   ],
   "source": [
    "text_line = \"India is the first country in the world to make it to the Mars orbit in the 1st attempt.\"\n",
    "#find all the words starting with 'a' or 'e'\n",
    "txt = re.findall(\"[ae]\\w+\", text_line)\n",
    "print(txt)"
   ]
  },
  {
   "cell_type": "markdown",
   "id": "ce91604e",
   "metadata": {},
   "source": [
    "# Question No 21"
   ]
  },
  {
   "cell_type": "markdown",
   "id": "eb4c7efa",
   "metadata": {},
   "source": [
    "Write a Python program to separate and print the numbers and their position of a given string."
   ]
  },
  {
   "cell_type": "code",
   "execution_count": 38,
   "id": "54cd4965",
   "metadata": {},
   "outputs": [],
   "source": [
    "import re"
   ]
  },
  {
   "cell_type": "code",
   "execution_count": 49,
   "id": "d2a2504e",
   "metadata": {},
   "outputs": [
    {
     "name": "stdout",
     "output_type": "stream",
     "text": [
      "1\n",
      "Position: 76\n"
     ]
    }
   ],
   "source": [
    "text_line = \"India is the first country in the world to make it to the Mars orbit in the 1st attempt.\"\n",
    "for m in re.finditer(\"\\d+\", text_line):\n",
    "    print(m.group(0))\n",
    "    print(\"Position:\", m.start())"
   ]
  },
  {
   "cell_type": "markdown",
   "id": "0bc7ac92",
   "metadata": {},
   "source": [
    "# Question No 22"
   ]
  },
  {
   "cell_type": "markdown",
   "id": "e5e49552",
   "metadata": {},
   "source": [
    "Write a regular expression in python program to extract maximum numeric value from a string."
   ]
  },
  {
   "cell_type": "code",
   "execution_count": 52,
   "id": "e4d14792",
   "metadata": {},
   "outputs": [],
   "source": [
    "import re"
   ]
  },
  {
   "cell_type": "code",
   "execution_count": null,
   "id": "f6060132",
   "metadata": {},
   "outputs": [],
   "source": []
  },
  {
   "cell_type": "markdown",
   "id": "578b9382",
   "metadata": {},
   "source": [
    "# Question No 23"
   ]
  },
  {
   "cell_type": "markdown",
   "id": "7fd8c4f2",
   "metadata": {},
   "source": [
    "Write a Regex in Python to put spaces between words starting with capital letters."
   ]
  },
  {
   "cell_type": "code",
   "execution_count": 57,
   "id": "7ddc4c2c",
   "metadata": {},
   "outputs": [],
   "source": [
    "import re"
   ]
  },
  {
   "cell_type": "code",
   "execution_count": 58,
   "id": "0e2b304b",
   "metadata": {},
   "outputs": [
    {
     "name": "stdout",
     "output_type": "stream",
     "text": [
      "Hello\n",
      "How Are Your\n",
      "I Am Fine What About You\n"
     ]
    }
   ],
   "source": [
    "def words_spaces(txt):\n",
    "  return re.sub(r\"(\\w)([A-Z])\", r\"\\1 \\2\", txt)\n",
    "\n",
    "print(words_spaces(\"Hello\"))\n",
    "print(words_spaces(\"HowAreYour\"))\n",
    "print(words_spaces(\"IAmFineWhatAboutYou\"))"
   ]
  },
  {
   "cell_type": "markdown",
   "id": "0ecf492e",
   "metadata": {},
   "source": [
    "# Question No 24"
   ]
  },
  {
   "cell_type": "markdown",
   "id": "eafe679a",
   "metadata": {},
   "source": [
    "Python regex to find sequences of one upper case letter followed by lower case letters."
   ]
  },
  {
   "cell_type": "code",
   "execution_count": 60,
   "id": "4d0ffee2",
   "metadata": {},
   "outputs": [],
   "source": [
    "import re"
   ]
  },
  {
   "cell_type": "code",
   "execution_count": 62,
   "id": "3dc17235",
   "metadata": {},
   "outputs": [
    {
     "name": "stdout",
     "output_type": "stream",
     "text": [
      "Found a match!\n",
      "Found a match!\n",
      "Not matched!\n",
      "Not matched!\n",
      "Not matched!\n",
      "Found a match!\n"
     ]
    }
   ],
   "source": [
    "def text_match(text):\n",
    "        patterns = '[A-Z]+[a-z]+$'\n",
    "        if re.search(patterns, text):\n",
    "                return 'Found a match!'\n",
    "        else:\n",
    "                return('Not matched!')\n",
    "print(text_match(\"AaBbGg\"))\n",
    "print(text_match(\"Python\"))\n",
    "print(text_match(\"python\"))\n",
    "print(text_match(\"PYTHON\"))\n",
    "print(text_match(\"aA\"))\n",
    "print(text_match(\"Aa\"))"
   ]
  },
  {
   "cell_type": "markdown",
   "id": "8aafcaa5",
   "metadata": {},
   "source": [
    "# Question No 25"
   ]
  },
  {
   "cell_type": "markdown",
   "id": "55cf2a37",
   "metadata": {},
   "source": [
    "Write a Python program to remove duplicate words from Sentence using Regular Expression."
   ]
  },
  {
   "cell_type": "code",
   "execution_count": 1,
   "id": "c46f5f36",
   "metadata": {},
   "outputs": [],
   "source": [
    "import re"
   ]
  },
  {
   "cell_type": "code",
   "execution_count": 2,
   "id": "d0b54100",
   "metadata": {},
   "outputs": [
    {
     "name": "stdout",
     "output_type": "stream",
     "text": [
      "Original String:\n",
      "Python Exercises Practice Solution Exercises\n",
      "\n",
      "Removing duplicate words from the string:\n",
      "Python Exercises Practice Solution\n"
     ]
    }
   ],
   "source": [
    "def unique_list(text_str):\n",
    "    l = text_str.split()\n",
    "    temp = []\n",
    "    for x in l:\n",
    "        if x not in temp:\n",
    "            temp.append(x)\n",
    "    return ' '.join(temp)\n",
    "\n",
    "text_str = \"Python Exercises Practice Solution Exercises\"\n",
    "print(\"Original String:\")\n",
    "print(text_str)\n",
    "print(\"\\nRemoving duplicate words from the string:\")\n",
    "print(unique_list(text_str))"
   ]
  },
  {
   "cell_type": "markdown",
   "id": "27b1bc82",
   "metadata": {},
   "source": [
    "# Question No 30"
   ]
  },
  {
   "cell_type": "code",
   "execution_count": 4,
   "id": "8ba3bae2",
   "metadata": {},
   "outputs": [],
   "source": [
    "import re"
   ]
  },
  {
   "cell_type": "code",
   "execution_count": 9,
   "id": "383c34dd",
   "metadata": {},
   "outputs": [
    {
     "name": "stdout",
     "output_type": "stream",
     "text": [
      "Python:Exercises::PHP:exercises:\n"
     ]
    }
   ],
   "source": [
    "txt = 'Python Exercises, PHP exercises.'\n",
    "txt = re.sub(r'[\\s,.]', ':', txt)\n",
    "print(txt)"
   ]
  }
 ],
 "metadata": {
  "kernelspec": {
   "display_name": "Python 3 (ipykernel)",
   "language": "python",
   "name": "python3"
  },
  "language_info": {
   "codemirror_mode": {
    "name": "ipython",
    "version": 3
   },
   "file_extension": ".py",
   "mimetype": "text/x-python",
   "name": "python",
   "nbconvert_exporter": "python",
   "pygments_lexer": "ipython3",
   "version": "3.9.13"
  }
 },
 "nbformat": 4,
 "nbformat_minor": 5
}
