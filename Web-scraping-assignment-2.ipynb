{
 "cells": [
  {
   "cell_type": "code",
   "execution_count": 1,
   "id": "a4c1f576",
   "metadata": {},
   "outputs": [
    {
     "name": "stdout",
     "output_type": "stream",
     "text": [
      "Collecting package metadata (current_repodata.json): ...working... done\n",
      "Solving environment: ...working... done\n",
      "\n",
      "# All requested packages already installed.\n",
      "\n",
      "\n",
      "Note: you may need to restart the kernel to use updated packages.\n"
     ]
    }
   ],
   "source": [
    "conda update --all"
   ]
  },
  {
   "cell_type": "code",
   "execution_count": 3,
   "id": "175811fa",
   "metadata": {},
   "outputs": [
    {
     "name": "stdout",
     "output_type": "stream",
     "text": [
      "Requirement already satisfied: selenium in c:\\users\\nazim\\anaconda3\\lib\\site-packages (4.10.0)\n",
      "Requirement already satisfied: trio~=0.17 in c:\\users\\nazim\\anaconda3\\lib\\site-packages (from selenium) (0.22.2)\n",
      "Requirement already satisfied: urllib3[socks]<3,>=1.26 in c:\\users\\nazim\\anaconda3\\lib\\site-packages (from selenium) (1.26.11)\n",
      "Requirement already satisfied: certifi>=2021.10.8 in c:\\users\\nazim\\anaconda3\\lib\\site-packages (from selenium) (2022.9.14)\n",
      "Requirement already satisfied: trio-websocket~=0.9 in c:\\users\\nazim\\anaconda3\\lib\\site-packages (from selenium) (0.10.3)\n",
      "Requirement already satisfied: sniffio in c:\\users\\nazim\\anaconda3\\lib\\site-packages (from trio~=0.17->selenium) (1.2.0)\n",
      "Requirement already satisfied: attrs>=20.1.0 in c:\\users\\nazim\\anaconda3\\lib\\site-packages (from trio~=0.17->selenium) (21.4.0)\n",
      "Requirement already satisfied: exceptiongroup>=1.0.0rc9 in c:\\users\\nazim\\anaconda3\\lib\\site-packages (from trio~=0.17->selenium) (1.1.2)\n",
      "Requirement already satisfied: outcome in c:\\users\\nazim\\anaconda3\\lib\\site-packages (from trio~=0.17->selenium) (1.2.0)\n",
      "Requirement already satisfied: cffi>=1.14 in c:\\users\\nazim\\anaconda3\\lib\\site-packages (from trio~=0.17->selenium) (1.15.1)\n",
      "Requirement already satisfied: idna in c:\\users\\nazim\\anaconda3\\lib\\site-packages (from trio~=0.17->selenium) (3.3)\n",
      "Requirement already satisfied: sortedcontainers in c:\\users\\nazim\\anaconda3\\lib\\site-packages (from trio~=0.17->selenium) (2.4.0)\n",
      "Requirement already satisfied: wsproto>=0.14 in c:\\users\\nazim\\anaconda3\\lib\\site-packages (from trio-websocket~=0.9->selenium) (1.2.0)\n",
      "Requirement already satisfied: PySocks!=1.5.7,<2.0,>=1.5.6 in c:\\users\\nazim\\anaconda3\\lib\\site-packages (from urllib3[socks]<3,>=1.26->selenium) (1.7.1)\n",
      "Requirement already satisfied: pycparser in c:\\users\\nazim\\anaconda3\\lib\\site-packages (from cffi>=1.14->trio~=0.17->selenium) (2.21)\n",
      "Requirement already satisfied: h11<1,>=0.9.0 in c:\\users\\nazim\\anaconda3\\lib\\site-packages (from wsproto>=0.14->trio-websocket~=0.9->selenium) (0.14.0)\n"
     ]
    }
   ],
   "source": [
    "!pip install selenium"
   ]
  },
  {
   "cell_type": "code",
   "execution_count": 10,
   "id": "e82ef912",
   "metadata": {},
   "outputs": [],
   "source": [
    "import selenium "
   ]
  },
  {
   "cell_type": "code",
   "execution_count": 11,
   "id": "9c38334a",
   "metadata": {},
   "outputs": [],
   "source": [
    "from selenium import webdriver "
   ]
  },
  {
   "cell_type": "code",
   "execution_count": 12,
   "id": "82f4f5dd",
   "metadata": {},
   "outputs": [],
   "source": [
    "import pandas as pd "
   ]
  },
  {
   "cell_type": "code",
   "execution_count": 13,
   "id": "e3f17b03",
   "metadata": {},
   "outputs": [],
   "source": [
    "from selenium.webdriver.common.by import By"
   ]
  },
  {
   "cell_type": "code",
   "execution_count": 15,
   "id": "68321a2d",
   "metadata": {},
   "outputs": [],
   "source": [
    "import warnings  "
   ]
  },
  {
   "cell_type": "code",
   "execution_count": 16,
   "id": "475c35df",
   "metadata": {},
   "outputs": [],
   "source": [
    "warnings.filterwarnings(\"ignore\")"
   ]
  },
  {
   "cell_type": "code",
   "execution_count": 17,
   "id": "fa1c1eb3",
   "metadata": {},
   "outputs": [],
   "source": [
    "import time"
   ]
  },
  {
   "cell_type": "code",
   "execution_count": 18,
   "id": "152b9636",
   "metadata": {
    "scrolled": true
   },
   "outputs": [],
   "source": [
    "driver = webdriver.Chrome()"
   ]
  },
  {
   "cell_type": "markdown",
   "id": "41eee5c0",
   "metadata": {},
   "source": [
    "# Question No 1"
   ]
  },
  {
   "cell_type": "code",
   "execution_count": 10,
   "id": "f06143c2",
   "metadata": {},
   "outputs": [],
   "source": [
    "driver.get(\"https://www.naukri.com/\")"
   ]
  },
  {
   "cell_type": "code",
   "execution_count": 11,
   "id": "6f4240d3",
   "metadata": {},
   "outputs": [],
   "source": [
    "designation= driver.find_element(By.CLASS_NAME,\"suggestor-input\")\n",
    "designation.send_keys(\"Data Analyst\")"
   ]
  },
  {
   "cell_type": "code",
   "execution_count": 12,
   "id": "154fcfc0",
   "metadata": {},
   "outputs": [],
   "source": [
    "location=driver.find_element(By.XPATH,\"/html/body/div[1]/div[7]/div/div/div[5]/div/div/div/div[1]/div/input\")\n",
    "location.send_keys('Bangalore')"
   ]
  },
  {
   "cell_type": "code",
   "execution_count": 13,
   "id": "8bd0cf4c",
   "metadata": {},
   "outputs": [],
   "source": [
    "search=driver.find_element(By.CLASS_NAME,'qsbSubmit')\n",
    "search.click()"
   ]
  },
  {
   "cell_type": "code",
   "execution_count": 14,
   "id": "0cb7632d",
   "metadata": {},
   "outputs": [],
   "source": [
    "job_title=[]\n",
    "job_location=[]\n",
    "company_name=[]\n",
    "experience_requried=[]"
   ]
  },
  {
   "cell_type": "code",
   "execution_count": 15,
   "id": "c2017145",
   "metadata": {},
   "outputs": [
    {
     "name": "stdout",
     "output_type": "stream",
     "text": [
      "['Data Analyst', 'Data Analyst', 'HCL hiring For GCP Data Analyst', 'Data Analyst', 'Data Analyst', 'Data Analyst', 'Data Analyst', 'Data Analyst I', 'Data Analyst', 'Data Analyst']\n"
     ]
    }
   ],
   "source": [
    "title_tag=driver.find_elements(By.XPATH,'//a[@class=\"title ellipsis\"]')\n",
    "\n",
    "for i in title_tag[0:10]:\n",
    "    title=i.text\n",
    "    job_title.append(title)\n",
    "\n",
    "print(job_title)"
   ]
  },
  {
   "cell_type": "code",
   "execution_count": 16,
   "id": "7273dd42",
   "metadata": {},
   "outputs": [
    {
     "name": "stdout",
     "output_type": "stream",
     "text": [
      "['Bangalore/Bengaluru', 'Bangalore/ Bengaluru, Karnataka, Gurgaon/ Gurugram, Haryana', 'Bangalore/ Bengaluru, Karnataka, Hyderabad/ Secunderabad, Telangana, Chennai, Tamil Nadu', 'Bangalore/Bengaluru', 'Bangalore/Bengaluru, Kolkata, Mumbai, New Delhi, Hyderabad/Secunderabad, Pune, Chennai', 'Bangalore/Bengaluru, Hyderabad/Secunderabad, Pune', 'Bangalore/Bengaluru, Hyderabad/Secunderabad, Pune', 'Bangalore/Bengaluru', 'Bangalore/Bengaluru', 'Bangalore/Bengaluru, Kolkata, Mumbai, New Delhi, Hyderabad/Secunderabad, Pune, Chennai']\n"
     ]
    }
   ],
   "source": [
    "location_tag=driver.find_elements(By.XPATH,'//span[@class=\"ellipsis fleft locWdth\"]')\n",
    "\n",
    "for i in location_tag[0:10]:\n",
    "    location=i.text\n",
    "    job_location.append(location)\n",
    "    \n",
    "print(job_location)"
   ]
  },
  {
   "cell_type": "code",
   "execution_count": 17,
   "id": "106b31cf",
   "metadata": {},
   "outputs": [
    {
     "name": "stdout",
     "output_type": "stream",
     "text": [
      "['Eastvantage', 'Delhivery', 'HCLTech', 'Everest Vacuum', 'Boomi Software', 'Synechron', 'Synchron Infotech', 'Cerner', 'Persolkelly India', 'Truthfools']\n"
     ]
    }
   ],
   "source": [
    "company_tag=driver.find_elements(By.XPATH,'//a[@class=\"subTitle ellipsis fleft\"]')\n",
    "\n",
    "for i in company_tag[0:10]:\n",
    "    company=i.text\n",
    "    company_name.append(company)\n",
    "    \n",
    "print(company_name)"
   ]
  },
  {
   "cell_type": "code",
   "execution_count": 18,
   "id": "17521f05",
   "metadata": {},
   "outputs": [
    {
     "name": "stdout",
     "output_type": "stream",
     "text": [
      "['4-6 Yrs', '1-3 Yrs', '5-10 Yrs', '2-5 Yrs', '1-5 Yrs', '5-8 Yrs', '5-8 Yrs', '5-10 Yrs', '0-2 Yrs', '3-8 Yrs']\n"
     ]
    }
   ],
   "source": [
    "exp_tag=driver.find_elements(By.XPATH,'//span[@class=\"ellipsis fleft expwdth\"]')\n",
    "\n",
    "for i in exp_tag[0:10]:\n",
    "    exp=i.text\n",
    "    experience_requried.append(exp)\n",
    "    \n",
    "print(experience_requried)"
   ]
  },
  {
   "cell_type": "code",
   "execution_count": 19,
   "id": "0a9358aa",
   "metadata": {},
   "outputs": [
    {
     "name": "stdout",
     "output_type": "stream",
     "text": [
      "10 10 10 10\n"
     ]
    }
   ],
   "source": [
    "print(len(job_title),len(job_location),len(company_name),len(experience_requried))"
   ]
  },
  {
   "cell_type": "code",
   "execution_count": 20,
   "id": "8e64494a",
   "metadata": {},
   "outputs": [
    {
     "data": {
      "text/html": [
       "<div>\n",
       "<style scoped>\n",
       "    .dataframe tbody tr th:only-of-type {\n",
       "        vertical-align: middle;\n",
       "    }\n",
       "\n",
       "    .dataframe tbody tr th {\n",
       "        vertical-align: top;\n",
       "    }\n",
       "\n",
       "    .dataframe thead th {\n",
       "        text-align: right;\n",
       "    }\n",
       "</style>\n",
       "<table border=\"1\" class=\"dataframe\">\n",
       "  <thead>\n",
       "    <tr style=\"text-align: right;\">\n",
       "      <th></th>\n",
       "      <th>Job Title</th>\n",
       "      <th>Job Location</th>\n",
       "      <th>Company Name</th>\n",
       "      <th>Experiance Requried</th>\n",
       "    </tr>\n",
       "  </thead>\n",
       "  <tbody>\n",
       "    <tr>\n",
       "      <th>0</th>\n",
       "      <td>Data Analyst</td>\n",
       "      <td>Bangalore/Bengaluru</td>\n",
       "      <td>Eastvantage</td>\n",
       "      <td>4-6 Yrs</td>\n",
       "    </tr>\n",
       "    <tr>\n",
       "      <th>1</th>\n",
       "      <td>Data Analyst</td>\n",
       "      <td>Bangalore/ Bengaluru, Karnataka, Gurgaon/ Guru...</td>\n",
       "      <td>Delhivery</td>\n",
       "      <td>1-3 Yrs</td>\n",
       "    </tr>\n",
       "    <tr>\n",
       "      <th>2</th>\n",
       "      <td>HCL hiring For GCP Data Analyst</td>\n",
       "      <td>Bangalore/ Bengaluru, Karnataka, Hyderabad/ Se...</td>\n",
       "      <td>HCLTech</td>\n",
       "      <td>5-10 Yrs</td>\n",
       "    </tr>\n",
       "    <tr>\n",
       "      <th>3</th>\n",
       "      <td>Data Analyst</td>\n",
       "      <td>Bangalore/Bengaluru</td>\n",
       "      <td>Everest Vacuum</td>\n",
       "      <td>2-5 Yrs</td>\n",
       "    </tr>\n",
       "    <tr>\n",
       "      <th>4</th>\n",
       "      <td>Data Analyst</td>\n",
       "      <td>Bangalore/Bengaluru, Kolkata, Mumbai, New Delh...</td>\n",
       "      <td>Boomi Software</td>\n",
       "      <td>1-5 Yrs</td>\n",
       "    </tr>\n",
       "    <tr>\n",
       "      <th>5</th>\n",
       "      <td>Data Analyst</td>\n",
       "      <td>Bangalore/Bengaluru, Hyderabad/Secunderabad, Pune</td>\n",
       "      <td>Synechron</td>\n",
       "      <td>5-8 Yrs</td>\n",
       "    </tr>\n",
       "    <tr>\n",
       "      <th>6</th>\n",
       "      <td>Data Analyst</td>\n",
       "      <td>Bangalore/Bengaluru, Hyderabad/Secunderabad, Pune</td>\n",
       "      <td>Synchron Infotech</td>\n",
       "      <td>5-8 Yrs</td>\n",
       "    </tr>\n",
       "    <tr>\n",
       "      <th>7</th>\n",
       "      <td>Data Analyst I</td>\n",
       "      <td>Bangalore/Bengaluru</td>\n",
       "      <td>Cerner</td>\n",
       "      <td>5-10 Yrs</td>\n",
       "    </tr>\n",
       "    <tr>\n",
       "      <th>8</th>\n",
       "      <td>Data Analyst</td>\n",
       "      <td>Bangalore/Bengaluru</td>\n",
       "      <td>Persolkelly India</td>\n",
       "      <td>0-2 Yrs</td>\n",
       "    </tr>\n",
       "    <tr>\n",
       "      <th>9</th>\n",
       "      <td>Data Analyst</td>\n",
       "      <td>Bangalore/Bengaluru, Kolkata, Mumbai, New Delh...</td>\n",
       "      <td>Truthfools</td>\n",
       "      <td>3-8 Yrs</td>\n",
       "    </tr>\n",
       "  </tbody>\n",
       "</table>\n",
       "</div>"
      ],
      "text/plain": [
       "                         Job Title  \\\n",
       "0                     Data Analyst   \n",
       "1                     Data Analyst   \n",
       "2  HCL hiring For GCP Data Analyst   \n",
       "3                     Data Analyst   \n",
       "4                     Data Analyst   \n",
       "5                     Data Analyst   \n",
       "6                     Data Analyst   \n",
       "7                   Data Analyst I   \n",
       "8                     Data Analyst   \n",
       "9                     Data Analyst   \n",
       "\n",
       "                                        Job Location       Company Name  \\\n",
       "0                                Bangalore/Bengaluru        Eastvantage   \n",
       "1  Bangalore/ Bengaluru, Karnataka, Gurgaon/ Guru...          Delhivery   \n",
       "2  Bangalore/ Bengaluru, Karnataka, Hyderabad/ Se...            HCLTech   \n",
       "3                                Bangalore/Bengaluru     Everest Vacuum   \n",
       "4  Bangalore/Bengaluru, Kolkata, Mumbai, New Delh...     Boomi Software   \n",
       "5  Bangalore/Bengaluru, Hyderabad/Secunderabad, Pune          Synechron   \n",
       "6  Bangalore/Bengaluru, Hyderabad/Secunderabad, Pune  Synchron Infotech   \n",
       "7                                Bangalore/Bengaluru             Cerner   \n",
       "8                                Bangalore/Bengaluru  Persolkelly India   \n",
       "9  Bangalore/Bengaluru, Kolkata, Mumbai, New Delh...         Truthfools   \n",
       "\n",
       "  Experiance Requried  \n",
       "0             4-6 Yrs  \n",
       "1             1-3 Yrs  \n",
       "2            5-10 Yrs  \n",
       "3             2-5 Yrs  \n",
       "4             1-5 Yrs  \n",
       "5             5-8 Yrs  \n",
       "6             5-8 Yrs  \n",
       "7            5-10 Yrs  \n",
       "8             0-2 Yrs  \n",
       "9             3-8 Yrs  "
      ]
     },
     "execution_count": 20,
     "metadata": {},
     "output_type": "execute_result"
    }
   ],
   "source": [
    "df=pd.DataFrame({'Job Title':job_title,'Job Location':job_location,'Company Name':company_name,'Experiance Requried':experience_requried})\n",
    "df"
   ]
  },
  {
   "cell_type": "markdown",
   "id": "3b1b07ff",
   "metadata": {},
   "source": [
    "# Question No 2"
   ]
  },
  {
   "cell_type": "code",
   "execution_count": 19,
   "id": "35455456",
   "metadata": {
    "scrolled": true
   },
   "outputs": [],
   "source": [
    "driver = webdriver.Chrome()"
   ]
  },
  {
   "cell_type": "code",
   "execution_count": 20,
   "id": "df652f02",
   "metadata": {},
   "outputs": [],
   "source": [
    "driver.get(\"https://www.naukri.com/\")"
   ]
  },
  {
   "cell_type": "code",
   "execution_count": 23,
   "id": "5f40ef18",
   "metadata": {},
   "outputs": [],
   "source": [
    "designation= driver.find_element(By.CLASS_NAME,\"suggestor-input\")\n",
    "designation.send_keys(\"Data Scientist\")"
   ]
  },
  {
   "cell_type": "code",
   "execution_count": 25,
   "id": "e2016896",
   "metadata": {},
   "outputs": [],
   "source": [
    "location=driver.find_element(By.XPATH,\"/html/body/div[1]/div[7]/div/div/div[5]/div/div/div/div[1]/div/input\")\n",
    "location.send_keys('Bangalore')"
   ]
  },
  {
   "cell_type": "code",
   "execution_count": 26,
   "id": "739203f2",
   "metadata": {},
   "outputs": [],
   "source": [
    "search=driver.find_element(By.CLASS_NAME,'qsbSubmit')\n",
    "search.click()"
   ]
  },
  {
   "cell_type": "code",
   "execution_count": 27,
   "id": "dc615788",
   "metadata": {},
   "outputs": [],
   "source": [
    "job_title=[]\n",
    "job_location=[]\n",
    "company_name=[]"
   ]
  },
  {
   "cell_type": "code",
   "execution_count": 28,
   "id": "01c3b37e",
   "metadata": {},
   "outputs": [
    {
     "name": "stdout",
     "output_type": "stream",
     "text": [
      "['Analystics & Modeling Specialist', 'Data Science Specialist', 'Senior Data Scientist', 'Senior Data Scientist', 'Data Scientist', 'Data Scientist Lead', 'Data Scientist', 'Data Scientist', 'ACN - Applied Intelligence - Finance - Data Science - 09', 'Senior Data Scientist']\n"
     ]
    }
   ],
   "source": [
    "title_tag=driver.find_elements(By.XPATH,'//a[@class=\"title ellipsis\"]')\n",
    "\n",
    "for i in title_tag[0:10]:\n",
    "    title=i.text\n",
    "    job_title.append(title)\n",
    "\n",
    "print(job_title)"
   ]
  },
  {
   "cell_type": "code",
   "execution_count": 29,
   "id": "006e8d83",
   "metadata": {},
   "outputs": [
    {
     "name": "stdout",
     "output_type": "stream",
     "text": [
      "['Bangalore/Bengaluru, Kolkata, Mumbai, Hyderabad/Secunderabad, Pune, Chennai', 'Bangalore/Bengaluru, Kolkata, Mumbai, Hyderabad/Secunderabad, Pune, Chennai', 'Bangalore/Bengaluru, Kolkata, Mumbai, New Delhi, Hyderabad/Secunderabad, Pune, Chennai', 'Bangalore/Bengaluru, Kolkata, Mumbai, New Delhi, Hyderabad/Secunderabad, Pune, Chennai', 'Bangalore/Bengaluru, Mumbai (All Areas)', 'Bangalore/Bengaluru, Kolkata, Mumbai, New Delhi, Hyderabad/Secunderabad, Pune, Chennai', 'Bangalore/Bengaluru, Kolkata, Mumbai, New Delhi, Hyderabad/Secunderabad, Pune, Chennai', 'Bangalore/Bengaluru, Kolkata, Mumbai, New Delhi, Hyderabad/Secunderabad, Pune, Chennai', 'Bangalore/Bengaluru, Hyderabad/Secunderabad, Pune, Chennai, Gurgaon/Gurugram', 'Bangalore/Bengaluru, Mumbai']\n"
     ]
    }
   ],
   "source": [
    "location_tag=driver.find_elements(By.XPATH,'//span[@class=\"ellipsis fleft locWdth\"]')\n",
    "\n",
    "for i in location_tag[0:10]:\n",
    "    location=i.text\n",
    "    job_location.append(location)\n",
    "    \n",
    "print(job_location)"
   ]
  },
  {
   "cell_type": "code",
   "execution_count": 30,
   "id": "9c606428",
   "metadata": {},
   "outputs": [
    {
     "name": "stdout",
     "output_type": "stream",
     "text": [
      "['Accenture', 'Accenture', 'Sophos', 'Sophos', 'PwC', 'Pluralsight', 'Tredence', 'IBS Software Services', 'Accenture', 'Fractal Analytics']\n"
     ]
    }
   ],
   "source": [
    "company_tag=driver.find_elements(By.XPATH,'//a[@class=\"subTitle ellipsis fleft\"]')\n",
    "\n",
    "for i in company_tag[0:10]:\n",
    "    company=i.text\n",
    "    company_name.append(company)\n",
    "    \n",
    "print(company_name)"
   ]
  },
  {
   "cell_type": "code",
   "execution_count": 31,
   "id": "bc45d50b",
   "metadata": {},
   "outputs": [
    {
     "name": "stdout",
     "output_type": "stream",
     "text": [
      "10 10 10\n"
     ]
    }
   ],
   "source": [
    "print(len(job_title),len(job_location),len(company_name))"
   ]
  },
  {
   "cell_type": "code",
   "execution_count": 32,
   "id": "76f35e55",
   "metadata": {},
   "outputs": [
    {
     "data": {
      "text/html": [
       "<div>\n",
       "<style scoped>\n",
       "    .dataframe tbody tr th:only-of-type {\n",
       "        vertical-align: middle;\n",
       "    }\n",
       "\n",
       "    .dataframe tbody tr th {\n",
       "        vertical-align: top;\n",
       "    }\n",
       "\n",
       "    .dataframe thead th {\n",
       "        text-align: right;\n",
       "    }\n",
       "</style>\n",
       "<table border=\"1\" class=\"dataframe\">\n",
       "  <thead>\n",
       "    <tr style=\"text-align: right;\">\n",
       "      <th></th>\n",
       "      <th>Job Title</th>\n",
       "      <th>Job Location</th>\n",
       "      <th>Company Name</th>\n",
       "    </tr>\n",
       "  </thead>\n",
       "  <tbody>\n",
       "    <tr>\n",
       "      <th>0</th>\n",
       "      <td>Analystics &amp; Modeling Specialist</td>\n",
       "      <td>Bangalore/Bengaluru, Kolkata, Mumbai, Hyderaba...</td>\n",
       "      <td>Accenture</td>\n",
       "    </tr>\n",
       "    <tr>\n",
       "      <th>1</th>\n",
       "      <td>Data Science Specialist</td>\n",
       "      <td>Bangalore/Bengaluru, Kolkata, Mumbai, Hyderaba...</td>\n",
       "      <td>Accenture</td>\n",
       "    </tr>\n",
       "    <tr>\n",
       "      <th>2</th>\n",
       "      <td>Senior Data Scientist</td>\n",
       "      <td>Bangalore/Bengaluru, Kolkata, Mumbai, New Delh...</td>\n",
       "      <td>Sophos</td>\n",
       "    </tr>\n",
       "    <tr>\n",
       "      <th>3</th>\n",
       "      <td>Senior Data Scientist</td>\n",
       "      <td>Bangalore/Bengaluru, Kolkata, Mumbai, New Delh...</td>\n",
       "      <td>Sophos</td>\n",
       "    </tr>\n",
       "    <tr>\n",
       "      <th>4</th>\n",
       "      <td>Data Scientist</td>\n",
       "      <td>Bangalore/Bengaluru, Mumbai (All Areas)</td>\n",
       "      <td>PwC</td>\n",
       "    </tr>\n",
       "    <tr>\n",
       "      <th>5</th>\n",
       "      <td>Data Scientist Lead</td>\n",
       "      <td>Bangalore/Bengaluru, Kolkata, Mumbai, New Delh...</td>\n",
       "      <td>Pluralsight</td>\n",
       "    </tr>\n",
       "    <tr>\n",
       "      <th>6</th>\n",
       "      <td>Data Scientist</td>\n",
       "      <td>Bangalore/Bengaluru, Kolkata, Mumbai, New Delh...</td>\n",
       "      <td>Tredence</td>\n",
       "    </tr>\n",
       "    <tr>\n",
       "      <th>7</th>\n",
       "      <td>Data Scientist</td>\n",
       "      <td>Bangalore/Bengaluru, Kolkata, Mumbai, New Delh...</td>\n",
       "      <td>IBS Software Services</td>\n",
       "    </tr>\n",
       "    <tr>\n",
       "      <th>8</th>\n",
       "      <td>ACN - Applied Intelligence - Finance - Data Sc...</td>\n",
       "      <td>Bangalore/Bengaluru, Hyderabad/Secunderabad, P...</td>\n",
       "      <td>Accenture</td>\n",
       "    </tr>\n",
       "    <tr>\n",
       "      <th>9</th>\n",
       "      <td>Senior Data Scientist</td>\n",
       "      <td>Bangalore/Bengaluru, Mumbai</td>\n",
       "      <td>Fractal Analytics</td>\n",
       "    </tr>\n",
       "  </tbody>\n",
       "</table>\n",
       "</div>"
      ],
      "text/plain": [
       "                                           Job Title  \\\n",
       "0                   Analystics & Modeling Specialist   \n",
       "1                            Data Science Specialist   \n",
       "2                              Senior Data Scientist   \n",
       "3                              Senior Data Scientist   \n",
       "4                                     Data Scientist   \n",
       "5                                Data Scientist Lead   \n",
       "6                                     Data Scientist   \n",
       "7                                     Data Scientist   \n",
       "8  ACN - Applied Intelligence - Finance - Data Sc...   \n",
       "9                              Senior Data Scientist   \n",
       "\n",
       "                                        Job Location           Company Name  \n",
       "0  Bangalore/Bengaluru, Kolkata, Mumbai, Hyderaba...              Accenture  \n",
       "1  Bangalore/Bengaluru, Kolkata, Mumbai, Hyderaba...              Accenture  \n",
       "2  Bangalore/Bengaluru, Kolkata, Mumbai, New Delh...                 Sophos  \n",
       "3  Bangalore/Bengaluru, Kolkata, Mumbai, New Delh...                 Sophos  \n",
       "4            Bangalore/Bengaluru, Mumbai (All Areas)                    PwC  \n",
       "5  Bangalore/Bengaluru, Kolkata, Mumbai, New Delh...            Pluralsight  \n",
       "6  Bangalore/Bengaluru, Kolkata, Mumbai, New Delh...               Tredence  \n",
       "7  Bangalore/Bengaluru, Kolkata, Mumbai, New Delh...  IBS Software Services  \n",
       "8  Bangalore/Bengaluru, Hyderabad/Secunderabad, P...              Accenture  \n",
       "9                        Bangalore/Bengaluru, Mumbai      Fractal Analytics  "
      ]
     },
     "execution_count": 32,
     "metadata": {},
     "output_type": "execute_result"
    }
   ],
   "source": [
    "df=pd.DataFrame({'Job Title':job_title,'Job Location':job_location,'Company Name':company_name})\n",
    "df"
   ]
  },
  {
   "cell_type": "markdown",
   "id": "32355ebc",
   "metadata": {},
   "source": [
    "# Question No 3"
   ]
  },
  {
   "cell_type": "code",
   "execution_count": 33,
   "id": "242f3e96",
   "metadata": {
    "scrolled": true
   },
   "outputs": [],
   "source": [
    "driver = webdriver.Chrome()"
   ]
  },
  {
   "cell_type": "code",
   "execution_count": 34,
   "id": "1d09ce10",
   "metadata": {},
   "outputs": [],
   "source": [
    "driver.get(\"https://www.naukri.com/\")"
   ]
  },
  {
   "cell_type": "code",
   "execution_count": 35,
   "id": "6a53817f",
   "metadata": {},
   "outputs": [],
   "source": [
    "designation= driver.find_element(By.CLASS_NAME,\"suggestor-input\")\n",
    "designation.send_keys(\"Data Scientist\")"
   ]
  },
  {
   "cell_type": "code",
   "execution_count": 36,
   "id": "3762387f",
   "metadata": {},
   "outputs": [],
   "source": [
    "search=driver.find_element(By.CLASS_NAME,'qsbSubmit')\n",
    "search.click()"
   ]
  },
  {
   "cell_type": "code",
   "execution_count": 37,
   "id": "98bb8320",
   "metadata": {},
   "outputs": [],
   "source": [
    "checkBoxSelected = driver.find_element(By.XPATH,'/html/body/div[1]/div[4]/div/div/section[1]/div[2]/div[5]/div[2]/div[2]/label/i')\n",
    "checkBoxSelected.click()"
   ]
  },
  {
   "cell_type": "code",
   "execution_count": 38,
   "id": "60d1e65d",
   "metadata": {},
   "outputs": [],
   "source": [
    "salary = driver.find_element(By.XPATH,'/html/body/div[1]/div[4]/div/div/section[1]/div[2]/div[6]/div[2]/div[2]/label/i')\n",
    "salary.click()"
   ]
  },
  {
   "cell_type": "code",
   "execution_count": 39,
   "id": "276dcde8",
   "metadata": {},
   "outputs": [],
   "source": [
    "job_title=[]\n",
    "job_location=[]\n",
    "company_name=[]\n",
    "experience_requried=[]"
   ]
  },
  {
   "cell_type": "code",
   "execution_count": 40,
   "id": "36aca3e7",
   "metadata": {},
   "outputs": [
    {
     "name": "stdout",
     "output_type": "stream",
     "text": [
      "['Junior Data Scientist', 'Data Scientist', 'Data Scientist/ Senior Data Scientist/ Manager Data Scientist', 'Data Scientist', 'Data Scientist', 'Python and ML Trainer', 'Hiring For Data Scientist', 'Junior Data Scientist', 'Data Scientist', 'Associate Data Scientist - ML & NLP']\n"
     ]
    }
   ],
   "source": [
    "title_tag=driver.find_elements(By.XPATH,'//a[@class=\"title ellipsis\"]')\n",
    "\n",
    "for i in title_tag[0:10]:\n",
    "    title=i.text\n",
    "    job_title.append(title)\n",
    "\n",
    "print(job_title)"
   ]
  },
  {
   "cell_type": "code",
   "execution_count": 41,
   "id": "690622ac",
   "metadata": {},
   "outputs": [
    {
     "name": "stdout",
     "output_type": "stream",
     "text": [
      "['Kolkata, Mumbai, New Delhi, Hyderabad/Secunderabad, Pune, Chennai, Bangalore/Bengaluru', 'Gurgaon/Gurugram, Bangalore/Bengaluru', 'Noida, Kolkata, Mumbai, Chandigarh, Hyderabad/Secunderabad, Pune, Chennai, Bangalore/Bengaluru', 'Kolkata, Mumbai, New Delhi, Hyderabad/Secunderabad, Pune, Chennai, Bangalore/Bengaluru', 'Noida', 'Hyderabad/Secunderabad, New Delhi, Pune, Gurgaon/Gurugram, Bangalore/Bengaluru', 'Remote', 'Gurgaon/Gurugram, United States (USA), Bulgaria', 'Noida', 'Gurgaon/Gurugram']\n"
     ]
    }
   ],
   "source": [
    "location_tag=driver.find_elements(By.XPATH,'//span[@class=\"ellipsis fleft locWdth\"]')\n",
    "\n",
    "for i in location_tag[0:10]:\n",
    "    location=i.text\n",
    "    job_location.append(location)\n",
    "    \n",
    "print(job_location)"
   ]
  },
  {
   "cell_type": "code",
   "execution_count": 42,
   "id": "1525bca0",
   "metadata": {},
   "outputs": [
    {
     "name": "stdout",
     "output_type": "stream",
     "text": [
      "[]\n"
     ]
    }
   ],
   "source": [
    "print(company_name)"
   ]
  },
  {
   "cell_type": "code",
   "execution_count": 43,
   "id": "b587aa56",
   "metadata": {},
   "outputs": [
    {
     "name": "stdout",
     "output_type": "stream",
     "text": [
      "['Analytos', 'Blackbuck', 'Dreambig It Solutions India', 'Analytos', 'Times Internet', 'Thescholar', 'Infogain', 'Adidas', 'SquadRun, Inc', 'Gartner']\n"
     ]
    }
   ],
   "source": [
    "company_tag=driver.find_elements(By.XPATH,'//a[@class=\"subTitle ellipsis fleft\"]')\n",
    "\n",
    "for i in company_tag[0:10]:\n",
    "    company=i.text\n",
    "    company_name.append(company)\n",
    "    \n",
    "print(company_name)"
   ]
  },
  {
   "cell_type": "code",
   "execution_count": 44,
   "id": "69324569",
   "metadata": {},
   "outputs": [
    {
     "name": "stdout",
     "output_type": "stream",
     "text": [
      "['0-2 Yrs', '3-7 Yrs', '1-6 Yrs', '2-4 Yrs', '3-8 Yrs', '3-8 Yrs', '4-9 Yrs', '1-6 Yrs', '1-4 Yrs', '2-4 Yrs']\n"
     ]
    }
   ],
   "source": [
    "exp_tag=driver.find_elements(By.XPATH,'//span[@class=\"ellipsis fleft expwdth\"]')\n",
    "\n",
    "for i in exp_tag[0:10]:\n",
    "    exp=i.text\n",
    "    experience_requried.append(exp)\n",
    "    \n",
    "print(experience_requried)"
   ]
  },
  {
   "cell_type": "code",
   "execution_count": 45,
   "id": "38dc8c60",
   "metadata": {},
   "outputs": [
    {
     "name": "stdout",
     "output_type": "stream",
     "text": [
      "10 10 10 10\n"
     ]
    }
   ],
   "source": [
    "print(len(job_title),len(job_location),len(company_name),len(experience_requried))"
   ]
  },
  {
   "cell_type": "code",
   "execution_count": 46,
   "id": "2d6e6f31",
   "metadata": {},
   "outputs": [
    {
     "data": {
      "text/html": [
       "<div>\n",
       "<style scoped>\n",
       "    .dataframe tbody tr th:only-of-type {\n",
       "        vertical-align: middle;\n",
       "    }\n",
       "\n",
       "    .dataframe tbody tr th {\n",
       "        vertical-align: top;\n",
       "    }\n",
       "\n",
       "    .dataframe thead th {\n",
       "        text-align: right;\n",
       "    }\n",
       "</style>\n",
       "<table border=\"1\" class=\"dataframe\">\n",
       "  <thead>\n",
       "    <tr style=\"text-align: right;\">\n",
       "      <th></th>\n",
       "      <th>Job Title</th>\n",
       "      <th>Job Location</th>\n",
       "      <th>Company Name</th>\n",
       "      <th>Experience Requried</th>\n",
       "    </tr>\n",
       "  </thead>\n",
       "  <tbody>\n",
       "    <tr>\n",
       "      <th>0</th>\n",
       "      <td>Junior Data Scientist</td>\n",
       "      <td>Kolkata, Mumbai, New Delhi, Hyderabad/Secunder...</td>\n",
       "      <td>Analytos</td>\n",
       "      <td>0-2 Yrs</td>\n",
       "    </tr>\n",
       "    <tr>\n",
       "      <th>1</th>\n",
       "      <td>Data Scientist</td>\n",
       "      <td>Gurgaon/Gurugram, Bangalore/Bengaluru</td>\n",
       "      <td>Blackbuck</td>\n",
       "      <td>3-7 Yrs</td>\n",
       "    </tr>\n",
       "    <tr>\n",
       "      <th>2</th>\n",
       "      <td>Data Scientist/ Senior Data Scientist/ Manager...</td>\n",
       "      <td>Noida, Kolkata, Mumbai, Chandigarh, Hyderabad/...</td>\n",
       "      <td>Dreambig It Solutions India</td>\n",
       "      <td>1-6 Yrs</td>\n",
       "    </tr>\n",
       "    <tr>\n",
       "      <th>3</th>\n",
       "      <td>Data Scientist</td>\n",
       "      <td>Kolkata, Mumbai, New Delhi, Hyderabad/Secunder...</td>\n",
       "      <td>Analytos</td>\n",
       "      <td>2-4 Yrs</td>\n",
       "    </tr>\n",
       "    <tr>\n",
       "      <th>4</th>\n",
       "      <td>Data Scientist</td>\n",
       "      <td>Noida</td>\n",
       "      <td>Times Internet</td>\n",
       "      <td>3-8 Yrs</td>\n",
       "    </tr>\n",
       "    <tr>\n",
       "      <th>5</th>\n",
       "      <td>Python and ML Trainer</td>\n",
       "      <td>Hyderabad/Secunderabad, New Delhi, Pune, Gurga...</td>\n",
       "      <td>Thescholar</td>\n",
       "      <td>3-8 Yrs</td>\n",
       "    </tr>\n",
       "    <tr>\n",
       "      <th>6</th>\n",
       "      <td>Hiring For Data Scientist</td>\n",
       "      <td>Remote</td>\n",
       "      <td>Infogain</td>\n",
       "      <td>4-9 Yrs</td>\n",
       "    </tr>\n",
       "    <tr>\n",
       "      <th>7</th>\n",
       "      <td>Junior Data Scientist</td>\n",
       "      <td>Gurgaon/Gurugram, United States (USA), Bulgaria</td>\n",
       "      <td>Adidas</td>\n",
       "      <td>1-6 Yrs</td>\n",
       "    </tr>\n",
       "    <tr>\n",
       "      <th>8</th>\n",
       "      <td>Data Scientist</td>\n",
       "      <td>Noida</td>\n",
       "      <td>SquadRun, Inc</td>\n",
       "      <td>1-4 Yrs</td>\n",
       "    </tr>\n",
       "    <tr>\n",
       "      <th>9</th>\n",
       "      <td>Associate Data Scientist - ML &amp; NLP</td>\n",
       "      <td>Gurgaon/Gurugram</td>\n",
       "      <td>Gartner</td>\n",
       "      <td>2-4 Yrs</td>\n",
       "    </tr>\n",
       "  </tbody>\n",
       "</table>\n",
       "</div>"
      ],
      "text/plain": [
       "                                           Job Title  \\\n",
       "0                              Junior Data Scientist   \n",
       "1                                     Data Scientist   \n",
       "2  Data Scientist/ Senior Data Scientist/ Manager...   \n",
       "3                                     Data Scientist   \n",
       "4                                     Data Scientist   \n",
       "5                              Python and ML Trainer   \n",
       "6                          Hiring For Data Scientist   \n",
       "7                              Junior Data Scientist   \n",
       "8                                     Data Scientist   \n",
       "9                Associate Data Scientist - ML & NLP   \n",
       "\n",
       "                                        Job Location  \\\n",
       "0  Kolkata, Mumbai, New Delhi, Hyderabad/Secunder...   \n",
       "1              Gurgaon/Gurugram, Bangalore/Bengaluru   \n",
       "2  Noida, Kolkata, Mumbai, Chandigarh, Hyderabad/...   \n",
       "3  Kolkata, Mumbai, New Delhi, Hyderabad/Secunder...   \n",
       "4                                              Noida   \n",
       "5  Hyderabad/Secunderabad, New Delhi, Pune, Gurga...   \n",
       "6                                             Remote   \n",
       "7    Gurgaon/Gurugram, United States (USA), Bulgaria   \n",
       "8                                              Noida   \n",
       "9                                   Gurgaon/Gurugram   \n",
       "\n",
       "                  Company Name Experience Requried  \n",
       "0                     Analytos             0-2 Yrs  \n",
       "1                    Blackbuck             3-7 Yrs  \n",
       "2  Dreambig It Solutions India             1-6 Yrs  \n",
       "3                     Analytos             2-4 Yrs  \n",
       "4               Times Internet             3-8 Yrs  \n",
       "5                   Thescholar             3-8 Yrs  \n",
       "6                     Infogain             4-9 Yrs  \n",
       "7                       Adidas             1-6 Yrs  \n",
       "8                SquadRun, Inc             1-4 Yrs  \n",
       "9                      Gartner             2-4 Yrs  "
      ]
     },
     "execution_count": 46,
     "metadata": {},
     "output_type": "execute_result"
    }
   ],
   "source": [
    "df=pd.DataFrame({'Job Title':job_title,'Job Location':job_location,'Company Name':company_name,'Experience Requried':experience_requried})\n",
    "df"
   ]
  },
  {
   "cell_type": "markdown",
   "id": "e0dfb34f",
   "metadata": {},
   "source": [
    "# Question No 4"
   ]
  },
  {
   "cell_type": "code",
   "execution_count": 54,
   "id": "4ea21d12",
   "metadata": {
    "scrolled": true
   },
   "outputs": [],
   "source": [
    "driver = webdriver.Chrome()"
   ]
  },
  {
   "cell_type": "code",
   "execution_count": 55,
   "id": "fd95665f",
   "metadata": {},
   "outputs": [],
   "source": [
    "driver.get(\"https://www.flipkart.com/\")"
   ]
  },
  {
   "cell_type": "code",
   "execution_count": 58,
   "id": "64c47ab8",
   "metadata": {},
   "outputs": [],
   "source": [
    "product= driver.find_element(By.CLASS_NAME,\"Pke_EE\")\n",
    "product.send_keys('sunglasses')"
   ]
  },
  {
   "cell_type": "code",
   "execution_count": 60,
   "id": "30eac211",
   "metadata": {},
   "outputs": [],
   "source": [
    "search=driver.find_element(By.CLASS_NAME,'_2iLD__')\n",
    "search.click()"
   ]
  },
  {
   "cell_type": "code",
   "execution_count": 61,
   "id": "14803e63",
   "metadata": {},
   "outputs": [],
   "source": [
    "brand=[]\n",
    "product_des=[]\n",
    "price=[]\n",
    "offer=[]"
   ]
  },
  {
   "cell_type": "code",
   "execution_count": 74,
   "id": "72e8aa64",
   "metadata": {},
   "outputs": [],
   "source": [
    "brand.clear()"
   ]
  },
  {
   "cell_type": "code",
   "execution_count": 64,
   "id": "94dbb305",
   "metadata": {},
   "outputs": [
    {
     "name": "stdout",
     "output_type": "stream",
     "text": [
      "120\n"
     ]
    }
   ],
   "source": [
    "print(len(brand))"
   ]
  },
  {
   "cell_type": "code",
   "execution_count": 63,
   "id": "f7525cfd",
   "metadata": {},
   "outputs": [
    {
     "name": "stdout",
     "output_type": "stream",
     "text": [
      "['PIRASO', 'ROZZETTA CRAFT', 'Fastrack', 'SRPM', 'Elligator', 'iCopertina', 'Shiv', 'VINCENT CHASE', 'Elligator', 'Fastrack', 'john jacobs', 'PIRASO', 'Elligator', 'RELIZA', 'SRPM', 'Cool enter', 'ROYAL SON', 'VINCENT CHASE', 'RELIZA', 'Fastrack', 'VINCENT CHASE', 'VINCENT CHASE', 'ROADWAY', 'Rich Club', 'ROADWAY', 'Shiv', 'ROYAL SON', 'john jacobs', 'Fastrack', 'Sukart', 'style guru', 'PIRASO', 'BKGE', 'RELIZA', 'Sukart', 'VINCENT CHASE', 'VINCENT CHASE', 'style guru', 'New Specs', 'METRONAUT', 'VOLRIX', 'VINCENT CHASE', 'METRONAUT', 'GANSTA', 'Elligator', 'Sukart', 'VINCENT CHASE', 'Eyenaks', 'Rich Club', 'LIZA ANGEL', 'VINCENT CHASE', 'ROYAL SON', 'VINCENT CHASE', 'Ray-Ban', 'PROVOGUE', 'kingsunglasses', 'Eyewearlabs', 'Eyewearlabs', 'Elligator', 'Resist', 'Cruze', 'Eyewearlabs', 'Fastrack', 'DEIXELS', 'MODE', 'Elligator', 'RESIST EYEWEAR', 'ROYAL SON', 'LIZA ANGEL', 'PIRASO', 'DEIXELS', 'Eyewearlabs', 'Eyewearlabs', 'Fastrack', 'ROZZETTA CRAFT', 'ROZZETTA CRAFT', 'style guru', 'john jacobs', 'LIZA ANGEL', 'PIRASO', 'PIRASO', 'ROZZETTA CRAFT', 'SRPM', 'Fastrack', 'Elligator', 'iCopertina', 'Shiv', 'VINCENT CHASE', 'Fastrack', 'Elligator', 'john jacobs', 'PIRASO', 'Elligator', 'RELIZA', 'SRPM', 'Cool enter', 'ROYAL SON', 'ROYAL SON', 'RELIZA', 'ROADWAY', 'VINCENT CHASE', 'VINCENT CHASE', 'ROADWAY', 'Rich Club', 'Sukart', 'Fastrack', 'VINCENT CHASE', 'john jacobs', 'Shiv', 'Fastrack', 'john jacobs', 'ROYAL SON', 'BKGE', 'RELIZA', 'Fastrack', 'VINCENT CHASE', 'style guru', 'PIRASO', 'New Specs', 'METRONAUT']\n"
     ]
    }
   ],
   "source": [
    "start=0\n",
    "end=3\n",
    "\n",
    "for page in range(start,end):\n",
    "    bd_tag=driver.find_elements(By.XPATH,'//div[@class=\"_2WkVRV\"]')\n",
    "    for i in bd_tag:\n",
    "        brand.append(i.text)\n",
    "    next_button=driver.find_element(By.XPATH,'//a[@class=\"_1LKTO3\"]')\n",
    "    next_button.click()\n",
    "    time.sleep(3)\n",
    "\n",
    "print(brand)\n"
   ]
  },
  {
   "cell_type": "code",
   "execution_count": 65,
   "id": "68571b1b",
   "metadata": {},
   "outputs": [
    {
     "name": "stdout",
     "output_type": "stream",
     "text": [
      "['PIRASO', 'ROZZETTA CRAFT', 'Fastrack', 'SRPM', 'Elligator', 'iCopertina', 'Shiv', 'VINCENT CHASE', 'Elligator', 'Fastrack', 'john jacobs', 'PIRASO', 'Elligator', 'RELIZA', 'SRPM', 'Cool enter', 'ROYAL SON', 'VINCENT CHASE', 'RELIZA', 'Fastrack', 'VINCENT CHASE', 'VINCENT CHASE', 'ROADWAY', 'Rich Club', 'ROADWAY', 'Shiv', 'ROYAL SON', 'john jacobs', 'Fastrack', 'Sukart', 'style guru', 'PIRASO', 'BKGE', 'RELIZA', 'Sukart', 'VINCENT CHASE', 'VINCENT CHASE', 'style guru', 'New Specs', 'METRONAUT', 'VOLRIX', 'VINCENT CHASE', 'METRONAUT', 'GANSTA', 'Elligator', 'Sukart', 'VINCENT CHASE', 'Eyenaks', 'Rich Club', 'LIZA ANGEL', 'VINCENT CHASE', 'ROYAL SON', 'VINCENT CHASE', 'Ray-Ban', 'PROVOGUE', 'kingsunglasses', 'Eyewearlabs', 'Eyewearlabs', 'Elligator', 'Resist', 'Cruze', 'Eyewearlabs', 'Fastrack', 'DEIXELS', 'MODE', 'Elligator', 'RESIST EYEWEAR', 'ROYAL SON', 'LIZA ANGEL', 'PIRASO', 'DEIXELS', 'Eyewearlabs', 'Eyewearlabs', 'Fastrack', 'ROZZETTA CRAFT', 'ROZZETTA CRAFT', 'style guru', 'john jacobs', 'LIZA ANGEL', 'PIRASO', 'PIRASO', 'ROZZETTA CRAFT', 'SRPM', 'Fastrack', 'Elligator', 'iCopertina', 'Shiv', 'VINCENT CHASE', 'Fastrack', 'Elligator', 'john jacobs', 'PIRASO', 'Elligator', 'RELIZA', 'SRPM', 'Cool enter', 'ROYAL SON', 'ROYAL SON', 'RELIZA', 'ROADWAY']\n"
     ]
    }
   ],
   "source": [
    "del brand[100:]\n",
    "\n",
    "print(brand)"
   ]
  },
  {
   "cell_type": "code",
   "execution_count": 69,
   "id": "cdbac122",
   "metadata": {},
   "outputs": [
    {
     "name": "stdout",
     "output_type": "stream",
     "text": [
      "100\n"
     ]
    }
   ],
   "source": [
    "print(len(brand))"
   ]
  },
  {
   "cell_type": "code",
   "execution_count": 71,
   "id": "764f929b",
   "metadata": {},
   "outputs": [],
   "source": [
    "search=driver.find_element(By.XPATH,'/html/body/div/div/div[3]/div[1]/div[2]/div[12]/div/div/nav/a[2]')\n",
    "search.click()"
   ]
  },
  {
   "cell_type": "code",
   "execution_count": 73,
   "id": "6a23fc0d",
   "metadata": {},
   "outputs": [],
   "source": [
    "product_des.clear()"
   ]
  },
  {
   "cell_type": "code",
   "execution_count": 74,
   "id": "c2b07ec9",
   "metadata": {},
   "outputs": [
    {
     "name": "stdout",
     "output_type": "stream",
     "text": [
      "0\n"
     ]
    }
   ],
   "source": [
    "print(len(product_des))"
   ]
  },
  {
   "cell_type": "code",
   "execution_count": 75,
   "id": "076c80ca",
   "metadata": {},
   "outputs": [
    {
     "name": "stdout",
     "output_type": "stream",
     "text": [
      "['UV Protection Retro Square Sunglasses (54)', 'HOLBROOK Wayfarer Sunglass', 'UV Protection Wayfarer Sunglasses (50)', 'UV Protection Rectangular Sunglasses (Free Size)', 'UV Protection Cat-eye, Retro Square, Oval, Round Sungla...', 'UV Protection Retro Square Sunglasses (Free Size)', 'UV Protection, Polarized, Gradient, Mirrored Retro Squa...', 'UV Protection Rectangular Sunglasses (Free Size)', 'UV Protection Wayfarer Sunglasses (58)', 'UV Protection Rectangular, Retro Square Sunglasses (58)', 'UV Protection Retro Square Sunglasses (Free Size)', 'UV Protection Round Sunglasses (53)', 'UV Protection Wayfarer Sunglasses (50)', 'UV Protection Spectacle Sunglasses (15)', 'UV Protection Retro Square Sunglasses (52)', 'Polarized, UV Protection Rectangular Sunglasses (65)', 'UV Protection Retro Square Sunglasses (Free Size)', 'Polarized Clubmaster Sunglasses (52)', 'by Lenskart Polarized, UV Protection Aviator Sunglasses...', 'UV Protection Retro Square Sunglasses (Free Size)', 'UV Protection Round Sunglasses (50)', 'UV Protection, Riding Glasses, Polarized, Gradient Wayf...', 'Gradient, UV Protection Wayfarer Sunglasses (Free Size)', 'Polarized, UV Protection Round Sunglasses (49)', 'UV Protection Round Sunglasses (53)', 'Gradient Wayfarer Sunglasses (50)', 'UV Protection Wayfarer Sunglasses (59)', 'Polarized, UV Protection Retro Square Sunglasses (55)', 'Mirrored, Night Vision, UV Protection Wayfarer, Aviator...', 'UV Protection Wayfarer Sunglasses (53)', 'Polarized, UV Protection Retro Square Sunglasses (55)', 'UV Protection Wayfarer Sunglasses (56)', 'UV Protection, Polarized Retro Square Sunglasses (55)', 'Polarized, UV Protection Wayfarer Sunglasses (54)', 'UV Protection, Polarized Round Sunglasses (47)', 'UV Protection Rectangular Sunglasses (Free Size)', 'UV Protection Wayfarer Sunglasses (59)', 'Polarized, UV Protection Round Sunglasses (48)', 'UV Protection Sunglass', 'Riding Glasses, UV Protection Retro Square Sunglasses (...', 'UV Protection Round Sunglasses (54)', 'UV Protection, Riding Glasses, Polarized, Gradient Wayf...', 'Mirrored Aviator Sunglasses (58)', 'Polarized, UV Protection Round Sunglasses (51)', 'UV Protection Rectangular Sunglasses (52)', 'UV Protection, Night Vision, Riding Glasses Wayfarer Su...', 'Polarized, UV Protection Round Sunglasses (51)', 'Polarized, UV Protection Round Sunglasses (50)', 'by Lenskart Polarized, UV Protection Retro Square Sungl...', 'UV Protection Aviator Sunglasses (52)', 'UV Protection Round Sunglasses (Free Size)', 'Mirrored, UV Protection Wayfarer Sunglasses (Free Size)', 'Mirrored, Night Vision, UV Protection Wayfarer, Aviator...', 'UV Protection Retro Square Sunglasses (51)', 'UV Protection Wayfarer Sunglasses (53)', 'UV Protection, Riding Glasses, Polarized Wayfarer Sungl...', 'Mirrored, Night Vision, UV Protection Wayfarer, Aviator...', 'Polarized, UV Protection Round Sunglasses (50)', 'UV Protection Wayfarer Sunglasses (Free Size)', 'Polarized, UV Protection, Riding Glasses Wayfarer Sungl...', 'UV Protection Aviator Sunglasses (Free Size)', 'UV Protection Round Sunglasses (53)', 'Polarized, UV Protection Round Sunglasses (57)', 'UV Protection Rectangular Sunglasses (Free Size)', 'UV Protection, Riding Glasses, Night Vision Spectacle ...', 'UV Protection, Gradient Butterfly Sunglasses (62)', 'Polarized, UV Protection Wayfarer Sunglasses (56)', 'Polarized, UV Protection Rectangular Sunglasses (62)', 'UV Protection Aviator Sunglasses (Free Size)', 'Gradient, UV Protection Round Sunglasses (Free Size)', 'UV Protection, Gradient Butterfly, Shield Sunglasses (6...', 'UV Protection Aviator Sunglasses (Free Size)', 'Polarized, UV Protection Wayfarer Sunglasses (54)', 'Toughened Glass Lens, UV Protection, Riding Glasses, Ni...', 'UV Protection Aviator Sunglasses (Free Size)', 'UV Protection Retro Square Sunglasses (54)', 'HOLBROOK Wayfarer Sunglass', 'UV Protection Wayfarer Sunglasses (50)', 'UV Protection Rectangular Sunglasses (Free Size)', 'UV Protection Cat-eye, Retro Square, Oval, Round Sungla...', 'UV Protection Retro Square Sunglasses (Free Size)', 'UV Protection, Polarized, Gradient, Mirrored Retro Squa...', 'UV Protection Rectangular Sunglasses (Free Size)', 'UV Protection Wayfarer Sunglasses (58)', 'UV Protection Rectangular, Retro Square Sunglasses (58)', 'UV Protection Retro Square Sunglasses (Free Size)', 'UV Protection Round Sunglasses (53)', 'UV Protection Wayfarer Sunglasses (50)', 'UV Protection Spectacle Sunglasses (15)', 'UV Protection Retro Square Sunglasses (52)', 'Polarized, UV Protection Rectangular Sunglasses (65)', 'UV Protection Retro Square Sunglasses (Free Size)', 'Polarized, UV Protection Wayfarer Sunglasses (56)', 'Polarized, UV Protection Retro Square Sunglasses (55)', 'UV Protection Retro Square Sunglasses (Free Size)', 'UV Protection Round Sunglasses (50)', 'UV Protection, Riding Glasses, Polarized, Gradient Wayf...', 'Gradient, UV Protection Wayfarer Sunglasses (Free Size)', 'UV Protection, Riding Glasses, Mirrored Retro Square Su...', 'Polarized Clubmaster Sunglasses (52)', 'Gradient Wayfarer Sunglasses (50)', 'UV Protection Wayfarer Sunglasses (59)', 'by Lenskart Polarized, UV Protection Aviator Sunglasses...', 'Polarized, UV Protection Round Sunglasses (49)', 'UV Protection Wayfarer Sunglasses (53)', 'Polarized, UV Protection Retro Square Sunglasses (55)', 'UV Protection Wayfarer Sunglasses (56)', 'UV Protection Round Sunglasses (53)', 'Mirrored, Night Vision, UV Protection Wayfarer, Aviator...', 'UV Protection, Polarized Round Sunglasses (47)', 'UV Protection Rectangular Sunglasses (Free Size)']\n"
     ]
    }
   ],
   "source": [
    "start=0\n",
    "end=3\n",
    "\n",
    "for page in range(start,end):\n",
    "    pd_tag=driver.find_elements(By.XPATH,'//a[@class=\"IRpwTa\"]')\n",
    "    for i in pd_tag:\n",
    "        product_des.append(i.text)\n",
    "    next_button=driver.find_element(By.XPATH,'//a[@class=\"_1LKTO3\"]')\n",
    "    next_button.click()\n",
    "    time.sleep(3)\n",
    "\n",
    "print(product_des)"
   ]
  },
  {
   "cell_type": "code",
   "execution_count": 76,
   "id": "385e04fc",
   "metadata": {},
   "outputs": [
    {
     "name": "stdout",
     "output_type": "stream",
     "text": [
      "['UV Protection Retro Square Sunglasses (54)', 'HOLBROOK Wayfarer Sunglass', 'UV Protection Wayfarer Sunglasses (50)', 'UV Protection Rectangular Sunglasses (Free Size)', 'UV Protection Cat-eye, Retro Square, Oval, Round Sungla...', 'UV Protection Retro Square Sunglasses (Free Size)', 'UV Protection, Polarized, Gradient, Mirrored Retro Squa...', 'UV Protection Rectangular Sunglasses (Free Size)', 'UV Protection Wayfarer Sunglasses (58)', 'UV Protection Rectangular, Retro Square Sunglasses (58)', 'UV Protection Retro Square Sunglasses (Free Size)', 'UV Protection Round Sunglasses (53)', 'UV Protection Wayfarer Sunglasses (50)', 'UV Protection Spectacle Sunglasses (15)', 'UV Protection Retro Square Sunglasses (52)', 'Polarized, UV Protection Rectangular Sunglasses (65)', 'UV Protection Retro Square Sunglasses (Free Size)', 'Polarized Clubmaster Sunglasses (52)', 'by Lenskart Polarized, UV Protection Aviator Sunglasses...', 'UV Protection Retro Square Sunglasses (Free Size)', 'UV Protection Round Sunglasses (50)', 'UV Protection, Riding Glasses, Polarized, Gradient Wayf...', 'Gradient, UV Protection Wayfarer Sunglasses (Free Size)', 'Polarized, UV Protection Round Sunglasses (49)', 'UV Protection Round Sunglasses (53)', 'Gradient Wayfarer Sunglasses (50)', 'UV Protection Wayfarer Sunglasses (59)', 'Polarized, UV Protection Retro Square Sunglasses (55)', 'Mirrored, Night Vision, UV Protection Wayfarer, Aviator...', 'UV Protection Wayfarer Sunglasses (53)', 'Polarized, UV Protection Retro Square Sunglasses (55)', 'UV Protection Wayfarer Sunglasses (56)', 'UV Protection, Polarized Retro Square Sunglasses (55)', 'Polarized, UV Protection Wayfarer Sunglasses (54)', 'UV Protection, Polarized Round Sunglasses (47)', 'UV Protection Rectangular Sunglasses (Free Size)', 'UV Protection Wayfarer Sunglasses (59)', 'Polarized, UV Protection Round Sunglasses (48)', 'UV Protection Sunglass', 'Riding Glasses, UV Protection Retro Square Sunglasses (...', 'UV Protection Round Sunglasses (54)', 'UV Protection, Riding Glasses, Polarized, Gradient Wayf...', 'Mirrored Aviator Sunglasses (58)', 'Polarized, UV Protection Round Sunglasses (51)', 'UV Protection Rectangular Sunglasses (52)', 'UV Protection, Night Vision, Riding Glasses Wayfarer Su...', 'Polarized, UV Protection Round Sunglasses (51)', 'Polarized, UV Protection Round Sunglasses (50)', 'by Lenskart Polarized, UV Protection Retro Square Sungl...', 'UV Protection Aviator Sunglasses (52)', 'UV Protection Round Sunglasses (Free Size)', 'Mirrored, UV Protection Wayfarer Sunglasses (Free Size)', 'Mirrored, Night Vision, UV Protection Wayfarer, Aviator...', 'UV Protection Retro Square Sunglasses (51)', 'UV Protection Wayfarer Sunglasses (53)', 'UV Protection, Riding Glasses, Polarized Wayfarer Sungl...', 'Mirrored, Night Vision, UV Protection Wayfarer, Aviator...', 'Polarized, UV Protection Round Sunglasses (50)', 'UV Protection Wayfarer Sunglasses (Free Size)', 'Polarized, UV Protection, Riding Glasses Wayfarer Sungl...', 'UV Protection Aviator Sunglasses (Free Size)', 'UV Protection Round Sunglasses (53)', 'Polarized, UV Protection Round Sunglasses (57)', 'UV Protection Rectangular Sunglasses (Free Size)', 'UV Protection, Riding Glasses, Night Vision Spectacle ...', 'UV Protection, Gradient Butterfly Sunglasses (62)', 'Polarized, UV Protection Wayfarer Sunglasses (56)', 'Polarized, UV Protection Rectangular Sunglasses (62)', 'UV Protection Aviator Sunglasses (Free Size)', 'Gradient, UV Protection Round Sunglasses (Free Size)', 'UV Protection, Gradient Butterfly, Shield Sunglasses (6...', 'UV Protection Aviator Sunglasses (Free Size)', 'Polarized, UV Protection Wayfarer Sunglasses (54)', 'Toughened Glass Lens, UV Protection, Riding Glasses, Ni...', 'UV Protection Aviator Sunglasses (Free Size)', 'UV Protection Retro Square Sunglasses (54)', 'HOLBROOK Wayfarer Sunglass', 'UV Protection Wayfarer Sunglasses (50)', 'UV Protection Rectangular Sunglasses (Free Size)', 'UV Protection Cat-eye, Retro Square, Oval, Round Sungla...', 'UV Protection Retro Square Sunglasses (Free Size)', 'UV Protection, Polarized, Gradient, Mirrored Retro Squa...', 'UV Protection Rectangular Sunglasses (Free Size)', 'UV Protection Wayfarer Sunglasses (58)', 'UV Protection Rectangular, Retro Square Sunglasses (58)', 'UV Protection Retro Square Sunglasses (Free Size)', 'UV Protection Round Sunglasses (53)', 'UV Protection Wayfarer Sunglasses (50)', 'UV Protection Spectacle Sunglasses (15)', 'UV Protection Retro Square Sunglasses (52)', 'Polarized, UV Protection Rectangular Sunglasses (65)', 'UV Protection Retro Square Sunglasses (Free Size)', 'Polarized, UV Protection Wayfarer Sunglasses (56)', 'Polarized, UV Protection Retro Square Sunglasses (55)', 'UV Protection Retro Square Sunglasses (Free Size)', 'UV Protection Round Sunglasses (50)', 'UV Protection, Riding Glasses, Polarized, Gradient Wayf...', 'Gradient, UV Protection Wayfarer Sunglasses (Free Size)', 'UV Protection, Riding Glasses, Mirrored Retro Square Su...', 'Polarized Clubmaster Sunglasses (52)']\n"
     ]
    }
   ],
   "source": [
    "del product_des[100:]\n",
    "\n",
    "print(product_des)"
   ]
  },
  {
   "cell_type": "code",
   "execution_count": 77,
   "id": "9e535735",
   "metadata": {},
   "outputs": [
    {
     "name": "stdout",
     "output_type": "stream",
     "text": [
      "100\n"
     ]
    }
   ],
   "source": [
    "print(len(product_des))"
   ]
  },
  {
   "cell_type": "code",
   "execution_count": 78,
   "id": "892d79b0",
   "metadata": {},
   "outputs": [],
   "source": [
    "search=driver.find_element(By.XPATH,'/html/body/div/div/div[3]/div[1]/div[2]/div[12]/div/div/nav/a[2]')\n",
    "search.click()"
   ]
  },
  {
   "cell_type": "code",
   "execution_count": 88,
   "id": "a42a8b4e",
   "metadata": {},
   "outputs": [],
   "source": [
    "price.clear()"
   ]
  },
  {
   "cell_type": "code",
   "execution_count": 79,
   "id": "8e219dd7",
   "metadata": {},
   "outputs": [
    {
     "name": "stdout",
     "output_type": "stream",
     "text": [
      "0\n"
     ]
    }
   ],
   "source": [
    "print(len(price))"
   ]
  },
  {
   "cell_type": "code",
   "execution_count": 80,
   "id": "cadfcd15",
   "metadata": {},
   "outputs": [
    {
     "name": "stdout",
     "output_type": "stream",
     "text": [
      "['₹490', '₹4,981', '₹194', '₹675', '₹168', '₹199', '₹249', '₹263', '₹826', '₹152', '₹497', '₹183', '₹199', '₹849', '₹194', '₹183', '₹6,000', '₹1,999', '₹849', '₹256', '₹1,979', '₹1,799', '₹372', '₹335', '₹292', '₹748', '₹854', '₹899', '₹249', '₹649', '₹2,375', '₹3,599', '₹749', '₹199', '₹849', '₹882', '₹899', '₹2,199', '₹499', '₹269', '₹649', '₹6,000', '₹249', '₹245', '₹299', '₹292', '₹379', '₹949', '₹395', '₹249', '₹1,049', '₹949', '₹648', '₹2,723', '₹699', '₹274', '₹899', '₹3,134', '₹194', '₹1,406', '₹899', '₹949', '₹825', '₹199', '₹179', '₹199', '₹2,375', '₹413', '₹199', '₹245', '₹664', '₹2,099', '₹2,199', '₹612', '₹449', '₹399', '₹750', '₹1,799', '₹249', '₹309', '₹490', '₹4,981', '₹194', '₹675', '₹168', '₹199', '₹249', '₹263', '₹826', '₹152', '₹497', '₹183', '₹199', '₹849', '₹194', '₹183', '₹6,000', '₹1,999', '₹849', '₹256', '₹1,979', '₹854', '₹372', '₹335', '₹292', '₹748', '₹899', '₹2,375', '₹249', '₹649', '₹699', '₹1,799', '₹749', '₹199', '₹849', '₹882', '₹3,599', '₹899', '₹499', '₹269']\n"
     ]
    }
   ],
   "source": [
    "start=0\n",
    "end=3\n",
    "\n",
    "for page in range(start,end):\n",
    "    pc_tag=driver.find_elements(By.XPATH,'//div[@class=\"_30jeq3\"]')\n",
    "    for i in pc_tag:\n",
    "        price.append(i.text)\n",
    "    next_button=driver.find_element(By.XPATH,'//a[@class=\"_1LKTO3\"]')\n",
    "    next_button.click()\n",
    "    time.sleep(3)\n",
    "\n",
    "print(price)"
   ]
  },
  {
   "cell_type": "code",
   "execution_count": 81,
   "id": "7c2f00e5",
   "metadata": {},
   "outputs": [
    {
     "name": "stdout",
     "output_type": "stream",
     "text": [
      "['₹490', '₹4,981', '₹194', '₹675', '₹168', '₹199', '₹249', '₹263', '₹826', '₹152', '₹497', '₹183', '₹199', '₹849', '₹194', '₹183', '₹6,000', '₹1,999', '₹849', '₹256', '₹1,979', '₹1,799', '₹372', '₹335', '₹292', '₹748', '₹854', '₹899', '₹249', '₹649', '₹2,375', '₹3,599', '₹749', '₹199', '₹849', '₹882', '₹899', '₹2,199', '₹499', '₹269', '₹649', '₹6,000', '₹249', '₹245', '₹299', '₹292', '₹379', '₹949', '₹395', '₹249', '₹1,049', '₹949', '₹648', '₹2,723', '₹699', '₹274', '₹899', '₹3,134', '₹194', '₹1,406', '₹899', '₹949', '₹825', '₹199', '₹179', '₹199', '₹2,375', '₹413', '₹199', '₹245', '₹664', '₹2,099', '₹2,199', '₹612', '₹449', '₹399', '₹750', '₹1,799', '₹249', '₹309', '₹490', '₹4,981', '₹194', '₹675', '₹168', '₹199', '₹249', '₹263', '₹826', '₹152', '₹497', '₹183', '₹199', '₹849', '₹194', '₹183', '₹6,000', '₹1,999', '₹849', '₹256']\n"
     ]
    }
   ],
   "source": [
    "del price[100:]\n",
    "\n",
    "print(price)"
   ]
  },
  {
   "cell_type": "code",
   "execution_count": 82,
   "id": "31de261a",
   "metadata": {},
   "outputs": [
    {
     "name": "stdout",
     "output_type": "stream",
     "text": [
      "100\n"
     ]
    }
   ],
   "source": [
    "print(len(price))"
   ]
  },
  {
   "cell_type": "code",
   "execution_count": 83,
   "id": "059a7d9f",
   "metadata": {},
   "outputs": [],
   "source": [
    "search=driver.find_element(By.XPATH,'/html/body/div/div/div[3]/div[1]/div[2]/div[12]/div/div/nav/a[2]')\n",
    "search.click()"
   ]
  },
  {
   "cell_type": "code",
   "execution_count": 95,
   "id": "f70d6003",
   "metadata": {},
   "outputs": [],
   "source": [
    "offer.clear()"
   ]
  },
  {
   "cell_type": "code",
   "execution_count": 84,
   "id": "3ad270fa",
   "metadata": {},
   "outputs": [
    {
     "name": "stdout",
     "output_type": "stream",
     "text": [
      "0\n"
     ]
    }
   ],
   "source": [
    "print(len(offer))"
   ]
  },
  {
   "cell_type": "code",
   "execution_count": 85,
   "id": "95c1d5e6",
   "metadata": {},
   "outputs": [
    {
     "name": "stdout",
     "output_type": "stream",
     "text": [
      "['75% off', '42% off', '85% off', '24% off', '71% off', '80% off', '75% off', '82% off', '24% off', '88% off', '66% off', '87% off', '80% off', '80% off', '85% off', '48% off', '44% off', '80% off', '80% off', '41% off', '50% off', '81% off', '66% off', '70% off', '25% off', '67% off', '55% off', '75% off', '67% off', '47% off', '20% off', '25% off', '80% off', '80% off', '11% off', '38% off', '79% off', '75% off', '89% off', '67% off', '80% off', '81% off', '88% off', '70% off', '74% off', '52% off', '80% off', '80% off', '47% off', '52% off', '74% off', '30% off', '72% off', '86% off', '55% off', '47% off', '85% off', '64% off', '55% off', '52% off', '24% off', '66% off', '75% off', '80% off', '47% off', '72% off', '60% off', '84% off', '66% off', '41% off', '38% off', '31% off', '77% off', '85% off', '42% off', '50% off', '50% off', '80% off', '75% off', '42% off', '85% off', '24% off', '71% off', '80% off', '75% off', '82% off', '24% off', '88% off', '66% off', '87% off', '80% off', '80% off', '85% off', '48% off', '44% off', '80% off', '80% off', '44% off', '67% off', '81% off', '66% off', '70% off', '25% off', '55% off', '47% off', '75% off', '67% off', '50% off', '20% off', '25% off', '80% off', '80% off', '11% off', '55% off', '38% off', '75% off', '89% off']\n"
     ]
    }
   ],
   "source": [
    "start=0\n",
    "end=3\n",
    "\n",
    "for page in range(start,end):\n",
    "    off_tag=driver.find_elements(By.XPATH,'//div[@class=\"_3Ay6Sb\"]')\n",
    "    for i in off_tag:\n",
    "        offer.append(i.text)\n",
    "    next_button=driver.find_element(By.XPATH,'//a[@class=\"_1LKTO3\"]')\n",
    "    next_button.click()\n",
    "    time.sleep(3)\n",
    "\n",
    "print(offer)"
   ]
  },
  {
   "cell_type": "code",
   "execution_count": 86,
   "id": "be1b0b52",
   "metadata": {},
   "outputs": [
    {
     "name": "stdout",
     "output_type": "stream",
     "text": [
      "['75% off', '42% off', '85% off', '24% off', '71% off', '80% off', '75% off', '82% off', '24% off', '88% off', '66% off', '87% off', '80% off', '80% off', '85% off', '48% off', '44% off', '80% off', '80% off', '41% off', '50% off', '81% off', '66% off', '70% off', '25% off', '67% off', '55% off', '75% off', '67% off', '47% off', '20% off', '25% off', '80% off', '80% off', '11% off', '38% off', '79% off', '75% off', '89% off', '67% off', '80% off', '81% off', '88% off', '70% off', '74% off', '52% off', '80% off', '80% off', '47% off', '52% off', '74% off', '30% off', '72% off', '86% off', '55% off', '47% off', '85% off', '64% off', '55% off', '52% off', '24% off', '66% off', '75% off', '80% off', '47% off', '72% off', '60% off', '84% off', '66% off', '41% off', '38% off', '31% off', '77% off', '85% off', '42% off', '50% off', '50% off', '80% off', '75% off', '42% off', '85% off', '24% off', '71% off', '80% off', '75% off', '82% off', '24% off', '88% off', '66% off', '87% off', '80% off', '80% off', '85% off', '48% off', '44% off', '80% off', '80% off', '44% off', '67% off', '81% off']\n"
     ]
    }
   ],
   "source": [
    "del offer[100:]\n",
    "\n",
    "print(offer)"
   ]
  },
  {
   "cell_type": "code",
   "execution_count": 87,
   "id": "de95411a",
   "metadata": {},
   "outputs": [
    {
     "name": "stdout",
     "output_type": "stream",
     "text": [
      "100\n"
     ]
    }
   ],
   "source": [
    "print(len(offer))"
   ]
  },
  {
   "cell_type": "code",
   "execution_count": 88,
   "id": "8728f661",
   "metadata": {},
   "outputs": [
    {
     "name": "stdout",
     "output_type": "stream",
     "text": [
      "100 100 100 100\n"
     ]
    }
   ],
   "source": [
    "print(len(brand),len(product_des),len(price),len(offer))"
   ]
  },
  {
   "cell_type": "code",
   "execution_count": 89,
   "id": "f5b71d69",
   "metadata": {},
   "outputs": [
    {
     "data": {
      "text/html": [
       "<div>\n",
       "<style scoped>\n",
       "    .dataframe tbody tr th:only-of-type {\n",
       "        vertical-align: middle;\n",
       "    }\n",
       "\n",
       "    .dataframe tbody tr th {\n",
       "        vertical-align: top;\n",
       "    }\n",
       "\n",
       "    .dataframe thead th {\n",
       "        text-align: right;\n",
       "    }\n",
       "</style>\n",
       "<table border=\"1\" class=\"dataframe\">\n",
       "  <thead>\n",
       "    <tr style=\"text-align: right;\">\n",
       "      <th></th>\n",
       "      <th>Brand</th>\n",
       "      <th>Product Description</th>\n",
       "      <th>Price</th>\n",
       "      <th>Offer</th>\n",
       "    </tr>\n",
       "  </thead>\n",
       "  <tbody>\n",
       "    <tr>\n",
       "      <th>0</th>\n",
       "      <td>PIRASO</td>\n",
       "      <td>UV Protection Retro Square Sunglasses (54)</td>\n",
       "      <td>₹490</td>\n",
       "      <td>75% off</td>\n",
       "    </tr>\n",
       "    <tr>\n",
       "      <th>1</th>\n",
       "      <td>ROZZETTA CRAFT</td>\n",
       "      <td>HOLBROOK Wayfarer Sunglass</td>\n",
       "      <td>₹4,981</td>\n",
       "      <td>42% off</td>\n",
       "    </tr>\n",
       "    <tr>\n",
       "      <th>2</th>\n",
       "      <td>Fastrack</td>\n",
       "      <td>UV Protection Wayfarer Sunglasses (50)</td>\n",
       "      <td>₹194</td>\n",
       "      <td>85% off</td>\n",
       "    </tr>\n",
       "    <tr>\n",
       "      <th>3</th>\n",
       "      <td>SRPM</td>\n",
       "      <td>UV Protection Rectangular Sunglasses (Free Size)</td>\n",
       "      <td>₹675</td>\n",
       "      <td>24% off</td>\n",
       "    </tr>\n",
       "    <tr>\n",
       "      <th>4</th>\n",
       "      <td>Elligator</td>\n",
       "      <td>UV Protection Cat-eye, Retro Square, Oval, Rou...</td>\n",
       "      <td>₹168</td>\n",
       "      <td>71% off</td>\n",
       "    </tr>\n",
       "    <tr>\n",
       "      <th>...</th>\n",
       "      <td>...</td>\n",
       "      <td>...</td>\n",
       "      <td>...</td>\n",
       "      <td>...</td>\n",
       "    </tr>\n",
       "    <tr>\n",
       "      <th>95</th>\n",
       "      <td>Cool enter</td>\n",
       "      <td>UV Protection Round Sunglasses (50)</td>\n",
       "      <td>₹183</td>\n",
       "      <td>80% off</td>\n",
       "    </tr>\n",
       "    <tr>\n",
       "      <th>96</th>\n",
       "      <td>ROYAL SON</td>\n",
       "      <td>UV Protection, Riding Glasses, Polarized, Grad...</td>\n",
       "      <td>₹6,000</td>\n",
       "      <td>80% off</td>\n",
       "    </tr>\n",
       "    <tr>\n",
       "      <th>97</th>\n",
       "      <td>ROYAL SON</td>\n",
       "      <td>Gradient, UV Protection Wayfarer Sunglasses (F...</td>\n",
       "      <td>₹1,999</td>\n",
       "      <td>44% off</td>\n",
       "    </tr>\n",
       "    <tr>\n",
       "      <th>98</th>\n",
       "      <td>RELIZA</td>\n",
       "      <td>UV Protection, Riding Glasses, Mirrored Retro ...</td>\n",
       "      <td>₹849</td>\n",
       "      <td>67% off</td>\n",
       "    </tr>\n",
       "    <tr>\n",
       "      <th>99</th>\n",
       "      <td>ROADWAY</td>\n",
       "      <td>Polarized Clubmaster Sunglasses (52)</td>\n",
       "      <td>₹256</td>\n",
       "      <td>81% off</td>\n",
       "    </tr>\n",
       "  </tbody>\n",
       "</table>\n",
       "<p>100 rows × 4 columns</p>\n",
       "</div>"
      ],
      "text/plain": [
       "             Brand                                Product Description   Price  \\\n",
       "0           PIRASO         UV Protection Retro Square Sunglasses (54)    ₹490   \n",
       "1   ROZZETTA CRAFT                         HOLBROOK Wayfarer Sunglass  ₹4,981   \n",
       "2         Fastrack             UV Protection Wayfarer Sunglasses (50)    ₹194   \n",
       "3             SRPM   UV Protection Rectangular Sunglasses (Free Size)    ₹675   \n",
       "4        Elligator  UV Protection Cat-eye, Retro Square, Oval, Rou...    ₹168   \n",
       "..             ...                                                ...     ...   \n",
       "95      Cool enter                UV Protection Round Sunglasses (50)    ₹183   \n",
       "96       ROYAL SON  UV Protection, Riding Glasses, Polarized, Grad...  ₹6,000   \n",
       "97       ROYAL SON  Gradient, UV Protection Wayfarer Sunglasses (F...  ₹1,999   \n",
       "98          RELIZA  UV Protection, Riding Glasses, Mirrored Retro ...    ₹849   \n",
       "99         ROADWAY               Polarized Clubmaster Sunglasses (52)    ₹256   \n",
       "\n",
       "      Offer  \n",
       "0   75% off  \n",
       "1   42% off  \n",
       "2   85% off  \n",
       "3   24% off  \n",
       "4   71% off  \n",
       "..      ...  \n",
       "95  80% off  \n",
       "96  80% off  \n",
       "97  44% off  \n",
       "98  67% off  \n",
       "99  81% off  \n",
       "\n",
       "[100 rows x 4 columns]"
      ]
     },
     "execution_count": 89,
     "metadata": {},
     "output_type": "execute_result"
    }
   ],
   "source": [
    "df=pd.DataFrame({'Brand':brand,'Product Description':product_des,'Price':price,'Offer':offer})\n",
    "df"
   ]
  },
  {
   "cell_type": "markdown",
   "id": "adcf7b96",
   "metadata": {},
   "source": [
    "# Question No 5"
   ]
  },
  {
   "cell_type": "code",
   "execution_count": 90,
   "id": "4f4b21bb",
   "metadata": {
    "scrolled": true
   },
   "outputs": [],
   "source": [
    "driver = webdriver.Chrome()"
   ]
  },
  {
   "cell_type": "code",
   "execution_count": 91,
   "id": "94a0bfe9",
   "metadata": {},
   "outputs": [],
   "source": [
    "driver.get(\"https://www.flipkart.com/apple-iphone-11-black-64-gb/product-reviews/itm4e5041ba101fd?pid=MOBFWQ6BXGJCEYNY&lid=LSTMOBFWQ6BXGJCEYNYZXSHRJ&market\")"
   ]
  },
  {
   "cell_type": "code",
   "execution_count": 92,
   "id": "58e70511",
   "metadata": {},
   "outputs": [],
   "source": [
    "rating=[]\n",
    "review_sum=[]\n",
    "full_review=[]"
   ]
  },
  {
   "cell_type": "code",
   "execution_count": 93,
   "id": "4faf4f8d",
   "metadata": {},
   "outputs": [
    {
     "name": "stdout",
     "output_type": "stream",
     "text": [
      "['5', '5', '5', '5', '5', '5', '5', '5', '5', '5']\n"
     ]
    }
   ],
   "source": [
    "rating_tag=driver.find_elements(By.XPATH,'//div[@class=\"_3LWZlK _1BLPMq\"]')\n",
    "\n",
    "for i in rating_tag:\n",
    "    rt=i.text\n",
    "    rating.append(rt)\n",
    "next_button=driver.find_element(By.XPATH,'//a[@class=\"_1LKTO3\"]')\n",
    "next_button.click()    \n",
    "print(rating)"
   ]
  },
  {
   "cell_type": "code",
   "execution_count": null,
   "id": "b4b5d6d2",
   "metadata": {},
   "outputs": [],
   "source": []
  },
  {
   "cell_type": "code",
   "execution_count": 94,
   "id": "888847e8",
   "metadata": {},
   "outputs": [
    {
     "name": "stdout",
     "output_type": "stream",
     "text": [
      "['5', '5', '5', '5', '5', '5', '5', '5', '5', '5', '5', '5', '5', '5', '5', '5', '5', '5', '5', '5', '5', '5', '4', '5', '5', '5', '4', '5', '5', '5', '5', '5', '5', '5', '5', '5', '5', '4', '5', '5', '5', '5', '5', '5', '5', '5', '5', '5', '5', '5', '5', '5', '5', '5', '5', '5', '5', '5', '5', '5', '5', '5', '5', '4', '4', '5', '5', '5', '5', '5', '5', '5', '5', '5', '5', '5', '5', '5', '5', '5', '5', '4', '5', '5', '5', '5', '5', '5', '5', '5', '5', '5', '4', '5', '5', '5', '5', '5', '5', '5']\n"
     ]
    }
   ],
   "source": [
    "start=0\n",
    "end=9\n",
    "\n",
    "for page in range(start,end):\n",
    "    rating_tag=driver.find_elements(By.XPATH,'//div[@class=\"_3LWZlK _1BLPMq\"]')\n",
    "    for i in rating_tag:\n",
    "        rating.append(i.text)\n",
    "    next_button=driver.find_element(By.XPATH,'/html/body/div/div/div[3]/div/div/div[2]/div[13]/div/div/nav/a[12]')\n",
    "    next_button.click()\n",
    "    time.sleep(7)\n",
    "\n",
    "print(rating)"
   ]
  },
  {
   "cell_type": "code",
   "execution_count": 95,
   "id": "01fc3648",
   "metadata": {},
   "outputs": [
    {
     "name": "stdout",
     "output_type": "stream",
     "text": [
      "['5', '5', '5', '5', '5', '5', '5', '5', '5', '5', '5', '5', '5', '5', '5', '5', '5', '5', '5', '5', '5', '5', '4', '5', '5', '5', '4', '5', '5', '5', '5', '5', '5', '5', '5', '5', '5', '4', '5', '5', '5', '5', '5', '5', '5', '5', '5', '5', '5', '5', '5', '5', '5', '5', '5', '5', '5', '5', '5', '5', '5', '5', '5', '4', '4', '5', '5', '5', '5', '5', '5', '5', '5', '5', '5', '5', '5', '5', '5', '5', '5', '4', '5', '5', '5', '5', '5', '5', '5', '5', '5', '5', '4', '5', '5', '5', '5', '5', '5', '5']\n",
      "100\n"
     ]
    }
   ],
   "source": [
    "print(rating)\n",
    "\n",
    "print(len(rating))"
   ]
  },
  {
   "cell_type": "code",
   "execution_count": 96,
   "id": "a9c2ba20",
   "metadata": {},
   "outputs": [
    {
     "name": "stdout",
     "output_type": "stream",
     "text": [
      "100\n"
     ]
    }
   ],
   "source": [
    "print(len(rating))"
   ]
  },
  {
   "cell_type": "code",
   "execution_count": null,
   "id": "a10bfd4d",
   "metadata": {},
   "outputs": [],
   "source": []
  },
  {
   "cell_type": "code",
   "execution_count": 97,
   "id": "c83ae74e",
   "metadata": {},
   "outputs": [],
   "source": [
    "driver.get(\"https://www.flipkart.com/apple-iphone-11-black-64-gb/product-reviews/itm4e5041ba101fd?pid=MOBFWQ6BXGJCEYNY&lid=LSTMOBFWQ6BXGJCEYNYZXSHRJ&market\")"
   ]
  },
  {
   "cell_type": "code",
   "execution_count": 98,
   "id": "b1ecc414",
   "metadata": {},
   "outputs": [
    {
     "name": "stdout",
     "output_type": "stream",
     "text": [
      "0\n"
     ]
    }
   ],
   "source": [
    "print(len(review_sum))"
   ]
  },
  {
   "cell_type": "code",
   "execution_count": 99,
   "id": "22695367",
   "metadata": {},
   "outputs": [
    {
     "name": "stdout",
     "output_type": "stream",
     "text": [
      "['Classy product', 'Mind-blowing purchase', 'Wonderful', 'Terrific', 'Fabulous!', 'Just wow!', 'Must buy!', 'Perfect product!', 'Best in the market!', 'Worth every penny']\n"
     ]
    }
   ],
   "source": [
    "review_sum_tag=driver.find_elements(By.XPATH,'//p[@class=\"_2-N8zT\"]')\n",
    "\n",
    "for i in review_sum_tag:\n",
    "    rst=i.text\n",
    "    review_sum.append(rst)\n",
    "next_button=driver.find_element(By.XPATH,'//a[@class=\"_1LKTO3\"]')\n",
    "next_button.click()    \n",
    "print(review_sum)\n"
   ]
  },
  {
   "cell_type": "code",
   "execution_count": 100,
   "id": "59784503",
   "metadata": {},
   "outputs": [
    {
     "name": "stdout",
     "output_type": "stream",
     "text": [
      "10\n"
     ]
    }
   ],
   "source": [
    "print(len(review_sum))"
   ]
  },
  {
   "cell_type": "code",
   "execution_count": 101,
   "id": "0becf533",
   "metadata": {},
   "outputs": [
    {
     "name": "stdout",
     "output_type": "stream",
     "text": [
      "['Classy product', 'Mind-blowing purchase', 'Wonderful', 'Terrific', 'Fabulous!', 'Just wow!', 'Must buy!', 'Perfect product!', 'Best in the market!', 'Worth every penny', 'Must buy!', 'Great product', 'Terrific purchase', 'Excellent', 'Simply awesome', 'Brilliant', 'Terrific purchase', 'Fabulous!', 'Awesome', 'Wonderful', 'Simply awesome', 'Best in the market!', 'Worth the money', 'Excellent', 'Best in the market!', 'Highly recommended', 'Very Good', 'Just wow!', 'Super!', 'Brilliant', 'Highly recommended', 'Perfect product!', 'Best in the market!', 'Brilliant', 'Wonderful', 'Classy product', 'Highly recommended', 'Value-for-money', 'Worth every penny', 'Worth every penny', 'Wonderful', 'Simply awesome', 'Awesome', 'Best in the market!', 'Best in the market!', 'Just wow!', 'Perfect product!', 'Highly recommended', 'Simply awesome', 'Great product', 'Brilliant', 'Must buy!', 'Just wow!', 'Awesome', 'Worth every penny', 'Fabulous!', 'Wonderful', 'Fabulous!', 'Brilliant', 'Highly recommended', 'Fabulous!', 'Classy product', 'Mind-blowing purchase', 'Good quality product', 'Pretty good', 'Excellent', 'Wonderful', 'Excellent', 'Brilliant', 'Terrific purchase', 'Mind-blowing purchase', 'Just wow!', 'Worth every penny', 'Perfect product!', 'Simply awesome', 'Must buy!', 'Must buy!', 'Wonderful', 'Perfect product!', 'Highly recommended', 'Highly recommended', 'Good choice', 'Highly recommended', 'Best in the market!', 'Perfect product!', 'Highly recommended', 'Wonderful', 'Must buy!', 'Super!', 'Highly recommended', 'Mind-blowing purchase', 'Classy product', 'Value-for-money', 'Perfect product!', 'Great product', 'Wonderful', 'Great product', 'Wonderful', 'Just wow!', 'Great product']\n"
     ]
    }
   ],
   "source": [
    "start=0\n",
    "end=9\n",
    "\n",
    "for page in range(start,end):\n",
    "    review_sum_tag=driver.find_elements(By.XPATH,'//p[@class=\"_2-N8zT\"]')\n",
    "    for i in review_sum_tag:\n",
    "        review_sum.append(i.text)\n",
    "    next_button=driver.find_element(By.XPATH,'/html/body/div/div/div[3]/div/div/div[2]/div[13]/div/div/nav/a[12]')\n",
    "    next_button.click()\n",
    "    time.sleep(7)\n",
    "\n",
    "print(review_sum)"
   ]
  },
  {
   "cell_type": "code",
   "execution_count": 102,
   "id": "8556410e",
   "metadata": {},
   "outputs": [
    {
     "name": "stdout",
     "output_type": "stream",
     "text": [
      "100\n"
     ]
    }
   ],
   "source": [
    "print(len(review_sum))"
   ]
  },
  {
   "cell_type": "code",
   "execution_count": null,
   "id": "2b7e21cf",
   "metadata": {},
   "outputs": [],
   "source": []
  },
  {
   "cell_type": "code",
   "execution_count": 103,
   "id": "f331a1d8",
   "metadata": {},
   "outputs": [],
   "source": [
    "driver.get(\"https://www.flipkart.com/apple-iphone-11-black-64-gb/product-reviews/itm4e5041ba101fd?pid=MOBFWQ6BXGJCEYNY&lid=LSTMOBFWQ6BXGJCEYNYZXSHRJ&market\")"
   ]
  },
  {
   "cell_type": "code",
   "execution_count": 124,
   "id": "d2e1da66",
   "metadata": {},
   "outputs": [],
   "source": [
    "full_review.clear()"
   ]
  },
  {
   "cell_type": "code",
   "execution_count": 104,
   "id": "b3ba9e90",
   "metadata": {
    "scrolled": false
   },
   "outputs": [
    {
     "name": "stdout",
     "output_type": "stream",
     "text": [
      "0\n"
     ]
    }
   ],
   "source": [
    "print(len(full_review))"
   ]
  },
  {
   "cell_type": "code",
   "execution_count": 105,
   "id": "d07c72ed",
   "metadata": {},
   "outputs": [
    {
     "name": "stdout",
     "output_type": "stream",
     "text": [
      "['Camera is awesome\\nBest battery backup\\nA performer 👌🏻\\nIt will be a real value for money if they provide charger and earphone inbox!', 'Photos super', 'This is amazing at all', 'Very very good', 'Super🔥 and good performance 👌❤️', 'Perfect Product!!', 'It’s really awesome', 'V Good all', 'Good Camera', 'Feeling awesome after getting the delivery of my phone. Dual speakers makes the sound quality very loud. Amazing!!']\n"
     ]
    }
   ],
   "source": [
    "full_review_tag=driver.find_elements(By.XPATH,'//div[@class=\"t-ZTKy\"]')\n",
    "\n",
    "for i in full_review_tag:\n",
    "    frt=i.text\n",
    "    full_review.append(frt)\n",
    "next_button=driver.find_element(By.XPATH,'//a[@class=\"_1LKTO3\"]')\n",
    "next_button.click()    \n",
    "print(full_review)"
   ]
  },
  {
   "cell_type": "code",
   "execution_count": 106,
   "id": "67ab29d9",
   "metadata": {},
   "outputs": [
    {
     "name": "stdout",
     "output_type": "stream",
     "text": [
      "10\n"
     ]
    }
   ],
   "source": [
    "print(len(full_review))"
   ]
  },
  {
   "cell_type": "code",
   "execution_count": 107,
   "id": "69bd3fc1",
   "metadata": {},
   "outputs": [
    {
     "name": "stdout",
     "output_type": "stream",
     "text": [
      "['Camera is awesome\\nBest battery backup\\nA performer 👌🏻\\nIt will be a real value for money if they provide charger and earphone inbox!', 'Photos super', 'This is amazing at all', 'Very very good', 'Super🔥 and good performance 👌❤️', 'Perfect Product!!', 'It’s really awesome', 'V Good all', 'Good Camera', 'Feeling awesome after getting the delivery of my phone. Dual speakers makes the sound quality very loud. Amazing!!', 'Go for iPhone 11 , if confused between iPhone 11 or iPhone 12 mini.Battery Life is enhanced , it worked for complete 2 days without charging it. Explored new features of taking screenshot by clicking on apple logo by Haptic Touch , Portrait mode with stage effect enhanced & slow motion selfie.', 'Purple is best', 'Value for money 😍', 'Best camera ever', 'Buy it if you afford it 😜', 'Excellent Phone.', 'Value for money 🖤🖤', 'It’s very good battery life and display and video quality and ther performance of iPhone.....🔥🔥🌈', 'I dreamt about this day from a long time.... Getting an iPhone with my own money.... Super happy and worth spending every penny', 'Very good', 'Really satisfied with the Product I received... It’s totally genuine and the packaging was also really good so if ur planning to buy just go for it.', 'Damn this phone is a blast . Upgraded from android to ios and is a duperb experience. Battery backup is top notch and display also pretty good', 'Camera is just wow 👌👌', 'NYC', 'Superbb performance n camera is awesome 😍😍', 'Awesome Battery Life...Camera clarity is too good..\\nValue for money...Its gives full day battery backup in single charge...', '🎈Battery\\n🎈Performance\\n🎈Camera\\n🎈Price\\n\\n🎊All together worth IT\\n\\n♥️♥️♥️♥️', 'Nice product\\nThe camera is extremely good which i liked the most.\\nGot delivery within 24 hrs. Thanks to Flipkart', 'Good product 👌I love iPhone', 'Phone Is So Good', \"It's my first time to use iOS phone and I am loving my upgradation 😍😍 I love the color, I love the assebility of the phone....I need to learn more about its functionality, but as far as I have seen, it's quite easy and it has a lot of functions to work on, specially if you are a content writer or a blogger you get a lot of content creation platforms and they are really amazing.\\n\\nThis phone not only for good quality photography but a lot of other task too.😍💯\", 'Amazing phone with great cameras and better battery which gives you the best performance. I just love the camera .', 'Great iPhone very snappy experience as apple kind. Upgraded from iPhone 7.\\nPros\\n-Camera top class\\n- Battery top performed\\n-Chipset no need to say as apple kind\\n-Security as you expect from apple\\n- Display super bright industry leading colour\\naccuracy and super responsive\\n-Build quality as expect from apple sturdy\\npremium durable beautiful stylish.\\n-Os most stable os in smartphone industry\\n\\nCons\\n-No 5G\\n-Display is not based on OLED technology\\n-Charger headphones and 1 apple stic...\\nREAD MORE', 'very good camera quality', 'Amazing...I am switched Samsung note9 into Iphone 11 one year ago..This phone is amazing...Android ki auqat Iphone use karne ke baad hi pata chalegi!!!!', 'Gifted my man on his 30th birthday 🎂 He loves it.. Him happy so i am more than happy 😍😘❤️🥰', 'Awesome Best iPhone 😍👍🏼', \"I'm Really happy with the product\\nDelivery was fast as well\\n..it was a gift for my sister and she loved it so much.\", 'Previously I was using one plus 3t it was a great phone\\nAnd then I decided to upgrade I am stuck between Samsung s10 plus or iPhone 11\\nI have seen the specs and everything were good except the display it’s somewhere between 720-1080 and it’s not even an amoled it’s an LCD display\\nBut I decided to go with iPhone because I have never used an IOS device I have Been an android user from the past 9 years I ordered IPhone 11 (128gb) product red\\nMy experience after using 3 weeks\\n1. The delivery ...\\nREAD MORE', 'excellent look...', 'If you get it you would definitely not regret it. It is a premium flagship phone. Love for apple, love for iphone.', 'Awsn loved it', 'Always love the apple products, upgraded from old iPhone 6S plus to this after having my first baby. I just love to click baby’s photos with it. Overall I just love this phone. Battery back up is okay, sound quality is good. Haven’t tested yet waterproof yet. Only one thing I hate is apple could have given charger & headphones in box.', 'Don’t expect much from front camera… especially who loves beauty mode and filters.. back cameras are good…video department is always plus point in iPhones… battery capacity is really surprising lasts for one day at least… performance always good and smooth… speaker’s quality is good…built quality best and haptic feedback is enjoyable…\\nNote : images are good after you edit', 'first iphone from android.\\nwhat can I say, iphone 11 says it all.\\nearlier I used to abuse iphone users by saying show off, but after using it .. it’s completely worth it..\\np.s: there is still little pain in lower abdomen 😜', 'Loving it!!! 🤩\\nSE to 11❤️\\nA Big & Worthy Upgrade🥰💥', 'Value for money\\n5 star rating\\nExcellent camera\\nBattery backup full day in single charge.\\n\\nTougher and water resistant design, glossy back.\\nThe screen has excellent brightness and contrast.\\nApple A13 Bionic is the fastest smartphone chip on the planet.\\nExcellent battery life, fast charging support.\\nStereo speakers with great quality.', 'What a camera .....just awesome ..you can feel this iPhone just awesome . Good for gaming also ...try pubg in hd it’s just wow', 'over all its nice.. color... purple. 😍', 'Amazing Powerful and Durable Gadget.\\n\\nI’m am very happy with the camera picture quality, Amazing face id unlocked in dark room, Strong battery with perfect screen size as you can carry easily in pocket. This is my third iPhone.\\n\\nI shifted from android Samsung Note series to iPhone because of the strong build quality and peace of mind for next 3-4 years.\\n\\nDon’t think to much just go for it and I suggest you to go for minimum 128gb variant or more 256gb.\\n\\nI’ve attached my puppy pics and no fi...\\nREAD MORE', 'A wort full value for money decision it’s . Simply go for it in 2021 its still a good decision . Awesome camera , Super smothered performance, Heck of build quality. And Most important it protects your privacy.', 'This is my first Iphone. Very smooth and super fast\\nThankyou @Flipkart god bless you with more success.', 'Switched from 6s and absolutely loving it 😍\\nEverything is sooo good. Totally worth it 💯☺️', 'iPhone 11 is a good phone. Not a very big difference between 12 except for the OLED screen and a very minor camera improvement which is you cant make a difference. If you are planning for a iPhone and you have budget you definitely can go for this without second thoughts.\\nNow some people are complaining and giving review 0 or so because there is no charger and headphones, but thats been already mentioned so I assume they are illiterate. Its not that Flipkart is removing them duh. Anyways bee...\\nREAD MORE', 'iPhone is delivered on time. Display is great u won’t feel that it’s a hd panel. Quality is excellent. Sounds is great it has stereo setup. Camera is good. iOS 14.2 comes in the box. U roughly get 113 gb free if u buy 128 gb. This is my second iPhone and i love it. Value for money.', 'Everything is perfect pictures come out so clearly and at first I wasn’t sure when I got it then when I started to use it and get the hang of it it was amazing!! I can’t wait to see what the next future phones will be like. The screen display on this bad boy are unbelievable they are so clear and never fail me. The performance is super cool there is a lot of cool features as well I like this phone because I feel that it is easy to use and one of my favorite things about this phone is the Face...\\nREAD MORE', 'Definitely worth purchase', 'This is my first iOS phone. I am very happy with this product. Very much satisfied with this. I love this phone.', 'Fantastic phone', 'My first ever I phone and awesome performance camera battery and smoother than my previous phone', 'Gift this to your loved ones fabulous product and amazing super fast delivery by flipkart', 'Best and amazing product.....phone looks so premium.... battary is also good as expected .... Wide angle camera is so addictive ...if you are a IOS lover....then this phone will be the best choice for you all!!💯🔥', 'I’m satisfy😍😍', \"I'm switching this phone to oppo reno 10x zoom\\nIt's really impressive\\nRarely I'm missing smooth display touch response like oppo reno but\\nI really loved it.\\nCamera really impressive\", 'I was using Iphone 6s and also Oneplus 6t. Both mobiles were perfectly alright in Photos, gaming, and smooth interface . My 6s mobile getting battery issue. thought upgrade to 11. Really like this mobile of its Internal storage (compare to 6s) , camera and its touch feeling. Its a worth buying mobile for me.', 'A perfect phone and a good battery super camera and the sound is dynamic overall the phone is perfect for upgrading from lower iPhone model to iPhone 11', 'I upgraded from 7 plus and Im not regretting it. The only thing missing is OLED display other than that 11 is no where lesser than 11pro.', 'Review After 10month\\nSuperb quality product\\nBattery run 40hrs perfect\\nAfter 10 months battery health was 95% with 20W adapter\\nLove apple 🍎', 'Awesome camera❤️ and gud battery backup', 'Awesome 💙', 'Absolutely powerful gadget. Loved it’s look! Soo glassy and classy. I would definitely recommend this model of Apple. Only disappointed with the 5W charger, one should purchase an 18W adapter for fast charging. Though battery backup is great. Bought it in September 2020, reviewing after so long so I’m gonna put the genuine review here.✅', 'Product 100%', 'i11 is worthy to buy, too much happy with the product. Thank u flipkart I received the item on time..loved it..', 'It’s a must buy who is looking for an upgrade from previous generation of iPhones. If you are using XR then still you can hold on for sometime and upgrade to 2020 model else this phone is a must buy . Camera quality is amazing and wide angle is something to count upon. Performance wise it’s amazing and feels premium while holding in hand. So a big YES for this device. Go for 128 GB variant as the 4K videos will occupy lots of space and the storage can get over very quickly. Try to buy it with...\\nREAD MORE', 'Just awesome phone, everything works in such a smooth and refined way !!!\\nCamera - next level\\nDisplay - next level\\nPerformance - monster\\nBattery - next level\\nEverything works at the best level with A13 Bionic Chip\\nValue for money iphone\\nYou should go for this just killer performance 🔥🔥', 'I rate this product 5* as it has got amazing user experience with the best performing A13 bionic processor. The screen responds and graphics rendering is top notch. With casual gaming and internet browsing, the battery lasts for approx. 1 day. Camera is very good. You will fall in love with the portrait mode. You can call me a loyal Apple customer or whatever but I won’t stop praising the products and overall experience. That user experience matters and is worth every penny you pay.\\n\\nBelow ar...\\nREAD MORE', 'Loved it...', 'Awesome camera.', 'Very nice iPhone 11 i lake', 'Amazing camera quality.', 'Amazing camera quality as expected, battery also has very good performance. Display, body, and touch experience is the best I’ve ever had. Sound quality of speakers is more than sufficient. Apple is known for it’s customer friendly security services and I can see it how. The A13 processor is the best in its work. So I would definitely recommend it for everyone who are looking for it, just go for it without delay.\\n\\nThe most amazing thing it the delivery. Flipkart has delivered it in the span ...\\nREAD MORE', 'So far it’s been an AMAZING experience coming back to iOS after nearly a decade but it’s not as versatile as android though phone is sturdy dropped it accidentally a couple of times and nothing happened fortunately camera is awesome', 'Best Mobile in the world... after 11pro\\nnothing to say...\\njust ..... jst...😍😍😍', 'Very good', 'Value for money❤️❤️\\nIts awesome mobile phone in the world ...\\nDisplay was very good and bright ..\\nTrust me freinds you r never regret after Buying..\\nJust go for it....\\nI love this phone and i switch to iphone x to 11', 'iphone 11 is a very good phone to buy only if you can compromise for the display. The display on this is device is pretty good but you can get other options with better displays in this price segment.\\nIf you can survive with an HD+ LCD panel with thicker bezels and a notch up top then this is a very good phone for you.\\nCameras are awesome, battery backup excellent, great performance and a decent premium look. Good job Apple !', 'Excellent Fabulous Adorable Iphone 11 Value for money and premium phone', 'Best Apple iPhone that i have bought at a very reasonable price, camera quality is next level just awesome n of superior quality android phones not even close(RIP) to that and also battery is really good but packaging by Flipkart of iPhone was very poor of such a expensive product, firstly im bit worried about the quality of product if i purchased it through online how was the product but i think now this was mine best decision to bought it through Flipkart online because i got genuine Apple...\\nREAD MORE', 'Exactly mach what you expect and where Spent your money .\\nPros:\\n1. Battery 10/10\\n2. Camera 10/10\\n3. Performance 10/10\\n4. Premiem Feel 10/10\\n5. One handed grip 9/10\\n6. Network Capability 9/10\\n7. Siri 8/10\\n8. App manegement 9/10\\n9. Sound on Speaker 8/10\\n\\nCons:\\n1. Side Panel colour quality 6/10\\n2. In-box Charger 6/10', 'Excellent product but packing was not upto mark..', 'Excellent camera 📸 And Display touching very Nice And Smooth and very improvement against\\nI phone 11 and new processor is very fast', 'Just enjoy the power of it!', \"Just got this iphone 11\\nAnd it is most powerful mobile phone I have used ever\\n\\nSo,go for it if you want a phone with best specification like camera,battery backup,display, A13 bionic chip\\n\\nThat's my review about this phone but yours can be differ from me....\", \"Iphone is just awesome.. battery backup is very very nice.. continuously for 10 hours we can use it.camera is just awesome.. display is just fab.i love it alot..i had to wait 15 days for it as i pre ordered it..overalll it's worth the price..these all images are clicked by my iPhone..and i love it.\", 'Awesome phone, great display(may not be a OLED)...very fast processor...taking portrait photo is the real joy.', 'Its good.. a little heavy on my pinky but its cute ! Well m not any great photographer but putting these pictures just in case u knw…. Would help someone make any decisions', 'Superb Phone..', 'Quality camera', 'Loved it!!', \"I was using android phone earlier..I was thinking apple phones are much more costy than other phones with less specifications..so why to waste money in this??..But trust me guys once if you start using ios then you won't go back to android...beleive me this phone is the best than all other...There is no other phone which can beat iphones in terms of camera..iphones gives the best real image..its very faster and smoother than android phones...if you think to switch to ios iphone 11 is the best...\\nREAD MORE\"]\n"
     ]
    }
   ],
   "source": [
    "start=0\n",
    "end=9\n",
    "\n",
    "for page in range(start,end):\n",
    "    full_review_tag=driver.find_elements(By.XPATH,'//div[@class=\"t-ZTKy\"]')\n",
    "    for i in full_review_tag:\n",
    "        full_review.append(i.text)\n",
    "    next_button=driver.find_element(By.XPATH,'/html/body/div/div/div[3]/div/div/div[2]/div[13]/div/div/nav/a[12]')\n",
    "    next_button.click()\n",
    "    time.sleep(7)\n",
    "\n",
    "print(full_review)"
   ]
  },
  {
   "cell_type": "code",
   "execution_count": 108,
   "id": "39280a09",
   "metadata": {},
   "outputs": [
    {
     "name": "stdout",
     "output_type": "stream",
     "text": [
      "100 100 100\n"
     ]
    }
   ],
   "source": [
    "print(len(rating),len(review_sum),len(full_review))"
   ]
  },
  {
   "cell_type": "code",
   "execution_count": 109,
   "id": "bcf78624",
   "metadata": {},
   "outputs": [
    {
     "data": {
      "text/html": [
       "<div>\n",
       "<style scoped>\n",
       "    .dataframe tbody tr th:only-of-type {\n",
       "        vertical-align: middle;\n",
       "    }\n",
       "\n",
       "    .dataframe tbody tr th {\n",
       "        vertical-align: top;\n",
       "    }\n",
       "\n",
       "    .dataframe thead th {\n",
       "        text-align: right;\n",
       "    }\n",
       "</style>\n",
       "<table border=\"1\" class=\"dataframe\">\n",
       "  <thead>\n",
       "    <tr style=\"text-align: right;\">\n",
       "      <th></th>\n",
       "      <th>Raings</th>\n",
       "      <th>Review Summary</th>\n",
       "      <th>Full Summary</th>\n",
       "    </tr>\n",
       "  </thead>\n",
       "  <tbody>\n",
       "    <tr>\n",
       "      <th>0</th>\n",
       "      <td>5</td>\n",
       "      <td>Classy product</td>\n",
       "      <td>Camera is awesome\\nBest battery backup\\nA perf...</td>\n",
       "    </tr>\n",
       "    <tr>\n",
       "      <th>1</th>\n",
       "      <td>5</td>\n",
       "      <td>Mind-blowing purchase</td>\n",
       "      <td>Photos super</td>\n",
       "    </tr>\n",
       "    <tr>\n",
       "      <th>2</th>\n",
       "      <td>5</td>\n",
       "      <td>Wonderful</td>\n",
       "      <td>This is amazing at all</td>\n",
       "    </tr>\n",
       "    <tr>\n",
       "      <th>3</th>\n",
       "      <td>5</td>\n",
       "      <td>Terrific</td>\n",
       "      <td>Very very good</td>\n",
       "    </tr>\n",
       "    <tr>\n",
       "      <th>4</th>\n",
       "      <td>5</td>\n",
       "      <td>Fabulous!</td>\n",
       "      <td>Super🔥 and good performance 👌❤️</td>\n",
       "    </tr>\n",
       "    <tr>\n",
       "      <th>...</th>\n",
       "      <td>...</td>\n",
       "      <td>...</td>\n",
       "      <td>...</td>\n",
       "    </tr>\n",
       "    <tr>\n",
       "      <th>95</th>\n",
       "      <td>5</td>\n",
       "      <td>Wonderful</td>\n",
       "      <td>Its good.. a little heavy on my pinky but its ...</td>\n",
       "    </tr>\n",
       "    <tr>\n",
       "      <th>96</th>\n",
       "      <td>5</td>\n",
       "      <td>Great product</td>\n",
       "      <td>Superb Phone..</td>\n",
       "    </tr>\n",
       "    <tr>\n",
       "      <th>97</th>\n",
       "      <td>5</td>\n",
       "      <td>Wonderful</td>\n",
       "      <td>Quality camera</td>\n",
       "    </tr>\n",
       "    <tr>\n",
       "      <th>98</th>\n",
       "      <td>5</td>\n",
       "      <td>Just wow!</td>\n",
       "      <td>Loved it!!</td>\n",
       "    </tr>\n",
       "    <tr>\n",
       "      <th>99</th>\n",
       "      <td>5</td>\n",
       "      <td>Great product</td>\n",
       "      <td>I was using android phone earlier..I was think...</td>\n",
       "    </tr>\n",
       "  </tbody>\n",
       "</table>\n",
       "<p>100 rows × 3 columns</p>\n",
       "</div>"
      ],
      "text/plain": [
       "   Raings         Review Summary  \\\n",
       "0       5         Classy product   \n",
       "1       5  Mind-blowing purchase   \n",
       "2       5              Wonderful   \n",
       "3       5               Terrific   \n",
       "4       5              Fabulous!   \n",
       "..    ...                    ...   \n",
       "95      5              Wonderful   \n",
       "96      5          Great product   \n",
       "97      5              Wonderful   \n",
       "98      5              Just wow!   \n",
       "99      5          Great product   \n",
       "\n",
       "                                         Full Summary  \n",
       "0   Camera is awesome\\nBest battery backup\\nA perf...  \n",
       "1                                        Photos super  \n",
       "2                              This is amazing at all  \n",
       "3                                      Very very good  \n",
       "4                     Super🔥 and good performance 👌❤️  \n",
       "..                                                ...  \n",
       "95  Its good.. a little heavy on my pinky but its ...  \n",
       "96                                     Superb Phone..  \n",
       "97                                     Quality camera  \n",
       "98                                         Loved it!!  \n",
       "99  I was using android phone earlier..I was think...  \n",
       "\n",
       "[100 rows x 3 columns]"
      ]
     },
     "execution_count": 109,
     "metadata": {},
     "output_type": "execute_result"
    }
   ],
   "source": [
    "df=pd.DataFrame({'Raings':rating,'Review Summary':review_sum,'Full Summary':full_review})\n",
    "df"
   ]
  },
  {
   "cell_type": "markdown",
   "id": "f30037b2",
   "metadata": {},
   "source": [
    "# Question No 6"
   ]
  },
  {
   "cell_type": "code",
   "execution_count": 112,
   "id": "867b4447",
   "metadata": {
    "scrolled": true
   },
   "outputs": [],
   "source": [
    "driver = webdriver.Chrome()"
   ]
  },
  {
   "cell_type": "code",
   "execution_count": 113,
   "id": "55bd81ea",
   "metadata": {},
   "outputs": [],
   "source": [
    "driver.get(\"https://www.flipkart.com/\")"
   ]
  },
  {
   "cell_type": "code",
   "execution_count": 114,
   "id": "0039dbbb",
   "metadata": {},
   "outputs": [],
   "source": [
    "product= driver.find_element(By.CLASS_NAME,\"_3704LK\")\n",
    "product.send_keys('sneakers')"
   ]
  },
  {
   "cell_type": "code",
   "execution_count": 115,
   "id": "262cc8ea",
   "metadata": {},
   "outputs": [],
   "source": [
    "search=driver.find_element(By.CLASS_NAME,'L0Z3Pu')\n",
    "search.click()"
   ]
  },
  {
   "cell_type": "code",
   "execution_count": 116,
   "id": "bda1ffcd",
   "metadata": {},
   "outputs": [],
   "source": [
    "sbrand=[]\n",
    "sproduct_des=[]\n",
    "sprice=[]"
   ]
  },
  {
   "cell_type": "code",
   "execution_count": 158,
   "id": "c12558b0",
   "metadata": {},
   "outputs": [],
   "source": [
    "sbrand.clear()"
   ]
  },
  {
   "cell_type": "code",
   "execution_count": 117,
   "id": "b74efdb7",
   "metadata": {},
   "outputs": [
    {
     "name": "stdout",
     "output_type": "stream",
     "text": [
      "0\n"
     ]
    }
   ],
   "source": [
    "print(len(sbrand))"
   ]
  },
  {
   "cell_type": "code",
   "execution_count": null,
   "id": "fdfb6622",
   "metadata": {},
   "outputs": [],
   "source": []
  },
  {
   "cell_type": "code",
   "execution_count": 118,
   "id": "11563e56",
   "metadata": {},
   "outputs": [
    {
     "name": "stdout",
     "output_type": "stream",
     "text": [
      "['BAUCHHAAR', 'BAUCHHAAR', 'Magnolia', 'aadi', 'BRUTON', 'Magnolia', 'Kzaara', 'BIRDE', 'asian', 'Kraasa', 'K- FOOTLANCE', 'Airson', 'LE GREEM', 'Sparx', 'Kraasa', 'Kzaara', 'K- FOOTLANCE', 'RapidBox', 'asian', 'BRUTON', 'BIRDE', 'Krors', 'Nobelite', 'PUMA', 'PUMA', 'ADIDAS', 'ATOM', 'K- FOOTLANCE', 'asian', 'BIRDE', 'K- FOOTLANCE', 'K- FOOTLANCE', 'HIGHLANDER', 'Kzaara', 'aadi', 'Vellinto', 'Dizzler', 'RapidBox', 'asian', 'PUMA']\n"
     ]
    }
   ],
   "source": [
    "sbd_tag=driver.find_elements(By.XPATH,'//div[@class=\"_2WkVRV\"]')\n",
    "\n",
    "for i in sbd_tag:\n",
    "    sbrand.append(i.text)\n",
    "next_button=driver.find_element(By.XPATH,'//a[@class=\"_1LKTO3\"]')\n",
    "next_button.click()\n",
    "\n",
    "print(sbrand)"
   ]
  },
  {
   "cell_type": "code",
   "execution_count": 119,
   "id": "864db0d7",
   "metadata": {},
   "outputs": [
    {
     "name": "stdout",
     "output_type": "stream",
     "text": [
      "40\n"
     ]
    }
   ],
   "source": [
    "print(len(sbrand))"
   ]
  },
  {
   "cell_type": "code",
   "execution_count": 120,
   "id": "7cf2b93e",
   "metadata": {},
   "outputs": [
    {
     "name": "stdout",
     "output_type": "stream",
     "text": [
      "['BAUCHHAAR', 'BAUCHHAAR', 'Magnolia', 'aadi', 'BRUTON', 'Magnolia', 'Kzaara', 'BIRDE', 'asian', 'Kraasa', 'K- FOOTLANCE', 'Airson', 'LE GREEM', 'Sparx', 'Kraasa', 'Kzaara', 'K- FOOTLANCE', 'RapidBox', 'asian', 'BRUTON', 'BIRDE', 'Krors', 'Nobelite', 'PUMA', 'PUMA', 'ADIDAS', 'ATOM', 'K- FOOTLANCE', 'asian', 'BIRDE', 'K- FOOTLANCE', 'K- FOOTLANCE', 'HIGHLANDER', 'Kzaara', 'aadi', 'Vellinto', 'Dizzler', 'RapidBox', 'asian', 'PUMA', 'BIRDE', 'K- FOOTLANCE', 'Airson', 'asian', 'Deals4you', 'asian', 'Airson', 'RapidBox', 'RED TAPE', 'PUMA', 'BIRDE', 'Krors', 'aadi', 'Labbin', 'Sparx', 'ATOM', 'ATOM', 'K- FOOTLANCE', 'asian', 'BIRDE', 'K- FOOTLANCE', 'K- FOOTLANCE', 'HRX by Hrithik Roshan', 'EZDEZARIO', 'BRUTON', 'Sparx', \"K' Footlance\", 'RapidBox', 'Roadster', 'asian', 'BIRDE', 'RapidBox', 'BIRDE', 'aadi', 'asian', 'asian', 'Kraasa', 'RapidBox', 'HRX by Hrithik Roshan', 'LIBERTY', 'Elevarse', 'BAUCHHAAR', 'asian', 'PUMA', 'HRX by Hrithik Roshan', 'MILESWALKER', 'BIRDE', 'Dizzler', 'PETER ENGLAND', 'PUMA', 'AIRBELL', 'asian', 'U.S. POLO ASSN.', 'HRX by Hrithik Roshan', 'PUMA', 'Footox', 'RapidBox', 'K- FOOTLANCE', 'Sparx', 'PUMA', 'AIRBELL', 'New Balance', 'PUMA', 'asian', 'Magnolia', 'asian', 'AIRBELL', 'SOLETHREADS', 'Sparx', 'aadi', 'HIGHLANDER', 'New Balance', 'U.S. POLO ASSN.', 'BIRDE', 'HRX by Hrithik Roshan', 'Deals4you', 'HIGHLANDER', 'bacca bucci', 'Magnolia', 'lejano']\n"
     ]
    }
   ],
   "source": [
    "start=0\n",
    "end=2\n",
    "\n",
    "for page in range(start,end):\n",
    "    sbd_tag=driver.find_elements(By.XPATH,'//div[@class=\"_2WkVRV\"]')\n",
    "    for i in sbd_tag:\n",
    "        sbrand.append(i.text)\n",
    "    next_button=driver.find_element(By.XPATH,'/html/body/div/div/div[3]/div[1]/div[2]/div[12]/div/div/nav/a[12]/span')\n",
    "    next_button.click()\n",
    "    time.sleep(7)\n",
    "    \n",
    "print(sbrand)"
   ]
  },
  {
   "cell_type": "code",
   "execution_count": 121,
   "id": "dada8867",
   "metadata": {},
   "outputs": [
    {
     "name": "stdout",
     "output_type": "stream",
     "text": [
      "120\n"
     ]
    }
   ],
   "source": [
    "print(len(sbrand))"
   ]
  },
  {
   "cell_type": "code",
   "execution_count": 122,
   "id": "e0181811",
   "metadata": {},
   "outputs": [
    {
     "name": "stdout",
     "output_type": "stream",
     "text": [
      "['BAUCHHAAR', 'BAUCHHAAR', 'Magnolia', 'aadi', 'BRUTON', 'Magnolia', 'Kzaara', 'BIRDE', 'asian', 'Kraasa', 'K- FOOTLANCE', 'Airson', 'LE GREEM', 'Sparx', 'Kraasa', 'Kzaara', 'K- FOOTLANCE', 'RapidBox', 'asian', 'BRUTON', 'BIRDE', 'Krors', 'Nobelite', 'PUMA', 'PUMA', 'ADIDAS', 'ATOM', 'K- FOOTLANCE', 'asian', 'BIRDE', 'K- FOOTLANCE', 'K- FOOTLANCE', 'HIGHLANDER', 'Kzaara', 'aadi', 'Vellinto', 'Dizzler', 'RapidBox', 'asian', 'PUMA', 'BIRDE', 'K- FOOTLANCE', 'Airson', 'asian', 'Deals4you', 'asian', 'Airson', 'RapidBox', 'RED TAPE', 'PUMA', 'BIRDE', 'Krors', 'aadi', 'Labbin', 'Sparx', 'ATOM', 'ATOM', 'K- FOOTLANCE', 'asian', 'BIRDE', 'K- FOOTLANCE', 'K- FOOTLANCE', 'HRX by Hrithik Roshan', 'EZDEZARIO', 'BRUTON', 'Sparx', \"K' Footlance\", 'RapidBox', 'Roadster', 'asian', 'BIRDE', 'RapidBox', 'BIRDE', 'aadi', 'asian', 'asian', 'Kraasa', 'RapidBox', 'HRX by Hrithik Roshan', 'LIBERTY', 'Elevarse', 'BAUCHHAAR', 'asian', 'PUMA', 'HRX by Hrithik Roshan', 'MILESWALKER', 'BIRDE', 'Dizzler', 'PETER ENGLAND', 'PUMA', 'AIRBELL', 'asian', 'U.S. POLO ASSN.', 'HRX by Hrithik Roshan', 'PUMA', 'Footox', 'RapidBox', 'K- FOOTLANCE', 'Sparx', 'PUMA']\n"
     ]
    }
   ],
   "source": [
    "del sbrand[100:]\n",
    "\n",
    "print(sbrand)"
   ]
  },
  {
   "cell_type": "code",
   "execution_count": 123,
   "id": "0a67e650",
   "metadata": {},
   "outputs": [
    {
     "name": "stdout",
     "output_type": "stream",
     "text": [
      "100\n"
     ]
    }
   ],
   "source": [
    "print(len(sbrand))"
   ]
  },
  {
   "cell_type": "code",
   "execution_count": 124,
   "id": "1cf61b2f",
   "metadata": {},
   "outputs": [],
   "source": [
    "search=driver.find_element(By.XPATH,'/html/body/div/div/div[3]/div[1]/div[2]/div[12]/div/div/nav/a[2]')\n",
    "search.click()"
   ]
  },
  {
   "cell_type": "code",
   "execution_count": 126,
   "id": "165eb581",
   "metadata": {},
   "outputs": [
    {
     "name": "stdout",
     "output_type": "stream",
     "text": [
      "0\n"
     ]
    }
   ],
   "source": [
    "print(len(sproduct_des))"
   ]
  },
  {
   "cell_type": "code",
   "execution_count": 127,
   "id": "c364b71b",
   "metadata": {},
   "outputs": [
    {
     "name": "stdout",
     "output_type": "stream",
     "text": [
      "['Casual Sneakers White Outdoor Shoes For Boys And Men Sn...', 'Sneakers For Men', 'Modern Trendy Sneakers boot Sneakers Sneakers For Men', 'Synthetic Leather |Lightweight|Comfort|Summer|Trendy|Wa...', 'Modern Trendy Shoes Sneakers For Men', 'Sneakers For Men', 'Sneakers For Men', 'Thunder-01 White Color Change Sneakers,Casuals,Loafer S...', 'Sneakers For Women', 'Sneakers For Men', 'Sneakers For Men', 'Sneakers For Men', 'SM-747 Sneakers For Men', 'Casuals, Canvas, Partywear Sneakers For Men', 'Combo Pack Of 4 Casual Shoes Loafer Shoes Sneakers For ...', \"Styles Men's Fashion Outdoor Trend High Top Sports Shoe...\", 'Sneakers For Men', 'SM-162 Black Walking ,Training,Sneakers,Loafers,Canvas,...', 'Sneakers For Men', 'Hustle V2 Sneakers For Men', 'Hustle V2 Sneakers For Men', 'Trendy-21 White Color Change Sneakers,Casuals,Loafers S...', 'Sneakers For Men', 'Sneakers For Men', 'STREET ICON M Sneakers For Men', 'Combo Pack of 2 Casual Shoes Sneakers For Men', 'Sneakers For Men', 'Sneakers For Men', 'Sneakers For Men', 'Sneakers For Men', 'Skypy-31 Shoes Sneakers For Men', 'Sneakers For Men', 'Fila Mens REACHER OLV Casual Shoes Sneakers For Men', 'Casual Sneakrs For Men Sneakers For Men', 'Junior Zero1 Sports shoes for Men | Gym Training Walkin...']\n"
     ]
    }
   ],
   "source": [
    "sproduct_des_tag=driver.find_elements(By.XPATH,'//a[@class=\"IRpwTa\"]')\n",
    "\n",
    "for i in sproduct_des_tag:\n",
    "    sproduct_des.append(i.text)\n",
    "next_button=driver.find_element(By.XPATH,'//a[@class=\"_1LKTO3\"]')\n",
    "next_button.click()\n",
    "\n",
    "print(sproduct_des)"
   ]
  },
  {
   "cell_type": "code",
   "execution_count": 128,
   "id": "a936b5d7",
   "metadata": {},
   "outputs": [
    {
     "name": "stdout",
     "output_type": "stream",
     "text": [
      "['Casual Sneakers White Outdoor Shoes For Boys And Men Sn...', 'Sneakers For Men', 'Modern Trendy Sneakers boot Sneakers Sneakers For Men', 'Synthetic Leather |Lightweight|Comfort|Summer|Trendy|Wa...', 'Modern Trendy Shoes Sneakers For Men', 'Sneakers For Men', 'Sneakers For Men', 'Thunder-01 White Color Change Sneakers,Casuals,Loafer S...', 'Sneakers For Women', 'Sneakers For Men', 'Sneakers For Men', 'Sneakers For Men', 'SM-747 Sneakers For Men', 'Casuals, Canvas, Partywear Sneakers For Men', 'Combo Pack Of 4 Casual Shoes Loafer Shoes Sneakers For ...', \"Styles Men's Fashion Outdoor Trend High Top Sports Shoe...\", 'Sneakers For Men', 'SM-162 Black Walking ,Training,Sneakers,Loafers,Canvas,...', 'Sneakers For Men', 'Hustle V2 Sneakers For Men', 'Hustle V2 Sneakers For Men', 'Trendy-21 White Color Change Sneakers,Casuals,Loafers S...', 'Sneakers For Men', 'Sneakers For Men', 'STREET ICON M Sneakers For Men', 'Combo Pack of 2 Casual Shoes Sneakers For Men', 'Sneakers For Men', 'Sneakers For Men', 'Sneakers For Men', 'Sneakers For Men', 'Skypy-31 Shoes Sneakers For Men', 'Sneakers For Men', 'Fila Mens REACHER OLV Casual Shoes Sneakers For Men', 'Casual Sneakrs For Men Sneakers For Men', 'Junior Zero1 Sports shoes for Men | Gym Training Walkin...', 'Hustle V2 Sneakers For Men', 'Carnival-02 Mens High Top Casual Chunky Sneakers Sneake...', 'Walking Sports Shoes for Women | Soft Cushioned Insole,...', 'Hustle V2 Sneakers For Men', 'Achiever-15 Grey Sneakers,Loafers,Casuals,Synthetic Sne...', 'Mesh| Lightweight| Premiun| Comfort| Summer Tendy| Outd...', 'Casual Sneakers ColourFul Block Shoes For Boys And Men ...', 'Sneakers For Men', 'Stylish and Comfirtable Shoes For Mens Sneakers For Men', 'Sneakers For Men', 'Sneakers For Men', 'Club Culture Sneakers For Men', '2 Combo Sneaker Shoes Sneakers For Men', 'Combo Pack Of 2 Casual Shoes Sneakers For Men', 'Achiever-16 Blue Sneakers,Casuals,Walking,Stylish Loafe...', 'Sneakers For Men', 'SM-162 Navy Blue Walking,Training ,Sneakers,Loafers,Can...', 'Skypy-31 Walking Shoes,Training Shoes,Sneakers,Loafers,...', 'Premium Casual Shoes For Men Sneakers For Men', 'SM-322 Sneakers For Men', 'Sneakers For Men', 'Combo Pack Of 2 Casual Shoes Sneakers For Men', 'Gliders RIDER-E Sneakers For Men', \"Men's W-05 Casual White Sneaker Shoes With Waterproof S...\", 'Buzz Sneakers For Men', 'CLUB CULTURE Sneakers For Men', 'Stylish Casual Sports Shoe Sneakers For Women Sneakers ...', 'Sneakers For Men', 'Hustle V2 Sneakers For Men', 'GAIMAN 2.O Sneakers For Men', 'CLUB CULTURE Sneakers For Men', 'Smash Vulc Sneakers For Men', \"Men's Shoes | Casual Shoes | Sports Shoes Sneakers For ...\", 'SM-784 Sneakers For Men', 'Harper Wns Sneakers For Women', 'Buzz Sneakers For Men', 'WATERPROOF-05cFULLBLACK Sneakers For Men', 'Sneakers For Men', 'Sneakers For Men', 'Comfortable and Light Weight sports shoes for men and b...', 'Sneakers For Men', 'SM-162 Sneakers For Men', 'Lightweight,Comfort,Summer,Trendy,Walking,Outdoor,Styli...', 'Sneakers For Men', 'Premium Sports Shoes For Men Pack Of 2 Sneakers For Men', 'Combo Pack Of 2 Casual Shoes Sneakers For Men', 'CLUB CULTURE Sneakers For Men', 'Sneakers For Women', 'Mesh Lightweight | Comfort |Premium | Trendy | Summer &...', 'asian Thunder-01 White Color Change Sneakers,Casuals,Lo...', 'Sneakers For Men', 'Sneakers For Men', '2 Combo Sneaker Shoes Sneakers For Men', 'Premium Casual Shoes for Women Sneakers For Women', 'Sneakers For Men', \"Women's Mesh Sports Shoes Walking Sneakers For Women\", 'Zod Runner V3 Sneakers For Men', 'Sneakers For Men', 'Mesh| Lightweight | Comfort |Sneakers| Premium | Trendy...', '500 Sneakers For Men', 'Waterproof-15 Grey Synthetic Sports,Training,Gym,Casual...', 'Skypy-31 Walking Shoes,Training Shoes,Sneakers,Loafers,...', 'RS-Simul8 Tech Sneakers For Men', '2 Combo Sneaker Shoes Sneakers For Men', 'Mesh Lightweight | Comfort |Premium | Trendy | Summer &...', 'Sneakers For Men', 'Pride White Sneakers,Casuals,Walking,Loafers,Stylish Sn...', 'Modern Trendy Sneakers Shoes Sneakers For Men', 'Sneakers For Men', '997 Sneakers For Men', 'Skye Sneakers For Women', 'Lightweight,Comfort,Summer,Trendy,Walking,Outdoor,Styli...', 'Sneakers For Men', 'Skypy-31 Walking Shoes,Training Shoes,Sneakers,Loafers,...', 'Sneakers For Men', 'SAINT Low top Classic Sneakers/Casual Shoes for Men Sne...', \"EL PASO Men's White Faux Leather Casual Lace Up Sneaker...\", 'CLARKIN Sneakers For Men']\n"
     ]
    }
   ],
   "source": [
    "start=0\n",
    "end=2\n",
    "\n",
    "for page in range(start,end):\n",
    "    sproduct_des_tag=driver.find_elements(By.XPATH,'//a[@class=\"IRpwTa\"]')\n",
    "    for i in sproduct_des_tag:\n",
    "        sproduct_des.append(i.text)\n",
    "    next_button=driver.find_element(By.XPATH,'/html/body/div/div/div[3]/div[1]/div[2]/div[12]/div/div/nav/a[12]/span')\n",
    "    next_button.click()\n",
    "    time.sleep(7)\n",
    "    \n",
    "print(sproduct_des)"
   ]
  },
  {
   "cell_type": "code",
   "execution_count": 129,
   "id": "6872f9de",
   "metadata": {},
   "outputs": [
    {
     "name": "stdout",
     "output_type": "stream",
     "text": [
      "['Casual Sneakers White Outdoor Shoes For Boys And Men Sn...', 'Sneakers For Men', 'Modern Trendy Sneakers boot Sneakers Sneakers For Men', 'Synthetic Leather |Lightweight|Comfort|Summer|Trendy|Wa...', 'Modern Trendy Shoes Sneakers For Men', 'Sneakers For Men', 'Sneakers For Men', 'Thunder-01 White Color Change Sneakers,Casuals,Loafer S...', 'Sneakers For Women', 'Sneakers For Men', 'Sneakers For Men', 'Sneakers For Men', 'SM-747 Sneakers For Men', 'Casuals, Canvas, Partywear Sneakers For Men', 'Combo Pack Of 4 Casual Shoes Loafer Shoes Sneakers For ...', \"Styles Men's Fashion Outdoor Trend High Top Sports Shoe...\", 'Sneakers For Men', 'SM-162 Black Walking ,Training,Sneakers,Loafers,Canvas,...', 'Sneakers For Men', 'Hustle V2 Sneakers For Men', 'Hustle V2 Sneakers For Men', 'Trendy-21 White Color Change Sneakers,Casuals,Loafers S...', 'Sneakers For Men', 'Sneakers For Men', 'STREET ICON M Sneakers For Men', 'Combo Pack of 2 Casual Shoes Sneakers For Men', 'Sneakers For Men', 'Sneakers For Men', 'Sneakers For Men', 'Sneakers For Men', 'Skypy-31 Shoes Sneakers For Men', 'Sneakers For Men', 'Fila Mens REACHER OLV Casual Shoes Sneakers For Men', 'Casual Sneakrs For Men Sneakers For Men', 'Junior Zero1 Sports shoes for Men | Gym Training Walkin...', 'Hustle V2 Sneakers For Men', 'Carnival-02 Mens High Top Casual Chunky Sneakers Sneake...', 'Walking Sports Shoes for Women | Soft Cushioned Insole,...', 'Hustle V2 Sneakers For Men', 'Achiever-15 Grey Sneakers,Loafers,Casuals,Synthetic Sne...', 'Mesh| Lightweight| Premiun| Comfort| Summer Tendy| Outd...', 'Casual Sneakers ColourFul Block Shoes For Boys And Men ...', 'Sneakers For Men', 'Stylish and Comfirtable Shoes For Mens Sneakers For Men', 'Sneakers For Men', 'Sneakers For Men', 'Club Culture Sneakers For Men', '2 Combo Sneaker Shoes Sneakers For Men', 'Combo Pack Of 2 Casual Shoes Sneakers For Men', 'Achiever-16 Blue Sneakers,Casuals,Walking,Stylish Loafe...', 'Sneakers For Men', 'SM-162 Navy Blue Walking,Training ,Sneakers,Loafers,Can...', 'Skypy-31 Walking Shoes,Training Shoes,Sneakers,Loafers,...', 'Premium Casual Shoes For Men Sneakers For Men', 'SM-322 Sneakers For Men', 'Sneakers For Men', 'Combo Pack Of 2 Casual Shoes Sneakers For Men', 'Gliders RIDER-E Sneakers For Men', \"Men's W-05 Casual White Sneaker Shoes With Waterproof S...\", 'Buzz Sneakers For Men', 'CLUB CULTURE Sneakers For Men', 'Stylish Casual Sports Shoe Sneakers For Women Sneakers ...', 'Sneakers For Men', 'Hustle V2 Sneakers For Men', 'GAIMAN 2.O Sneakers For Men', 'CLUB CULTURE Sneakers For Men', 'Smash Vulc Sneakers For Men', \"Men's Shoes | Casual Shoes | Sports Shoes Sneakers For ...\", 'SM-784 Sneakers For Men', 'Harper Wns Sneakers For Women', 'Buzz Sneakers For Men', 'WATERPROOF-05cFULLBLACK Sneakers For Men', 'Sneakers For Men', 'Sneakers For Men', 'Comfortable and Light Weight sports shoes for men and b...', 'Sneakers For Men', 'SM-162 Sneakers For Men', 'Lightweight,Comfort,Summer,Trendy,Walking,Outdoor,Styli...', 'Sneakers For Men', 'Premium Sports Shoes For Men Pack Of 2 Sneakers For Men', 'Combo Pack Of 2 Casual Shoes Sneakers For Men', 'CLUB CULTURE Sneakers For Men', 'Sneakers For Women', 'Mesh Lightweight | Comfort |Premium | Trendy | Summer &...', 'asian Thunder-01 White Color Change Sneakers,Casuals,Lo...', 'Sneakers For Men', 'Sneakers For Men', '2 Combo Sneaker Shoes Sneakers For Men', 'Premium Casual Shoes for Women Sneakers For Women', 'Sneakers For Men', \"Women's Mesh Sports Shoes Walking Sneakers For Women\", 'Zod Runner V3 Sneakers For Men', 'Sneakers For Men', 'Mesh| Lightweight | Comfort |Sneakers| Premium | Trendy...', '500 Sneakers For Men', 'Waterproof-15 Grey Synthetic Sports,Training,Gym,Casual...', 'Skypy-31 Walking Shoes,Training Shoes,Sneakers,Loafers,...', 'RS-Simul8 Tech Sneakers For Men', '2 Combo Sneaker Shoes Sneakers For Men', 'Mesh Lightweight | Comfort |Premium | Trendy | Summer &...']\n"
     ]
    }
   ],
   "source": [
    "del sproduct_des[100:]\n",
    "\n",
    "print(sproduct_des)"
   ]
  },
  {
   "cell_type": "code",
   "execution_count": 130,
   "id": "4cb29fb9",
   "metadata": {},
   "outputs": [
    {
     "name": "stdout",
     "output_type": "stream",
     "text": [
      "100\n"
     ]
    }
   ],
   "source": [
    "print(len(sproduct_des))"
   ]
  },
  {
   "cell_type": "code",
   "execution_count": 131,
   "id": "c8e2c7c1",
   "metadata": {},
   "outputs": [],
   "source": [
    "search=driver.find_element(By.XPATH,'/html/body/div/div/div[3]/div[1]/div[2]/div[12]/div/div/nav/a[2]')\n",
    "search.click()"
   ]
  },
  {
   "cell_type": "code",
   "execution_count": 132,
   "id": "236192fc",
   "metadata": {},
   "outputs": [
    {
     "name": "stdout",
     "output_type": "stream",
     "text": [
      "0\n"
     ]
    }
   ],
   "source": [
    "print(len(sprice))"
   ]
  },
  {
   "cell_type": "code",
   "execution_count": 133,
   "id": "bcbdc402",
   "metadata": {},
   "outputs": [
    {
     "name": "stdout",
     "output_type": "stream",
     "text": [
      "['₹549', '₹429', '₹499', '₹387', '₹299', '₹299', '₹499', '₹449', '₹799', '₹399', '₹494', '₹494', '₹549', '₹854', '₹499', '₹499', '₹539', '₹2,096', '₹499', '₹499', '₹649', '₹649', '₹469', '₹1,399', '₹1,399', '₹649', '₹796', '₹696', '₹1,655', '₹479', '₹695', '₹796', '₹696', '₹499', '₹435', '₹509', '₹639', '₹649', '₹672', '₹989']\n"
     ]
    }
   ],
   "source": [
    "sprice_tag=driver.find_elements(By.XPATH,'//div[@class=\"_30jeq3\"]')\n",
    "\n",
    "for i in sprice_tag:\n",
    "    sprice.append(i.text)\n",
    "next_button=driver.find_element(By.XPATH,'//a[@class=\"_1LKTO3\"]')\n",
    "next_button.click()\n",
    "\n",
    "print(sprice)"
   ]
  },
  {
   "cell_type": "code",
   "execution_count": 134,
   "id": "e1409833",
   "metadata": {},
   "outputs": [
    {
     "name": "stdout",
     "output_type": "stream",
     "text": [
      "['₹549', '₹429', '₹499', '₹387', '₹299', '₹299', '₹499', '₹449', '₹799', '₹399', '₹494', '₹494', '₹549', '₹854', '₹499', '₹499', '₹539', '₹2,096', '₹499', '₹499', '₹649', '₹649', '₹469', '₹1,399', '₹1,399', '₹649', '₹796', '₹696', '₹1,655', '₹479', '₹695', '₹796', '₹696', '₹499', '₹435', '₹509', '₹639', '₹649', '₹672', '₹989', '₹479', '₹449', '₹1,399', '₹1,139', '₹599', '₹1,028', '₹695', '₹479', '₹1,399', '₹549', '₹539', '₹1,389', '₹383', '₹588', '₹579', '₹719', '₹999', '₹499', '₹1,389', '₹494', '₹999', '₹489', '₹1,047', '₹499', '₹479', '₹574', '₹695', '₹479', '₹809', '₹499', '₹750', '₹499', '₹509', '₹479', '₹959', '₹419', '₹695', '₹989', '₹479', '₹769', '₹297', '₹473', '₹769', '₹674', '₹1,319', '₹3,119', '₹479', '₹509', '₹549', '₹1,099', '₹809', '₹799', '₹1,399', '₹1,499', '₹975', '₹2,241', '₹695', '₹449', '₹299', '₹844', '₹798', '₹4,055', '₹1,199', '₹1,499', '₹674', '₹299', '₹809', '₹1,249', '₹1,049', '₹879', '₹497', '₹5,719', '₹429', '₹1,699', '₹479', '₹1,047', '₹479', '₹1,499', '₹599', '₹299']\n"
     ]
    }
   ],
   "source": [
    "start=0\n",
    "end=2\n",
    "\n",
    "for page in range(start,end):\n",
    "    sprice_tag=driver.find_elements(By.XPATH,'//div[@class=\"_30jeq3\"]')\n",
    "    for i in sprice_tag:\n",
    "        sprice.append(i.text)\n",
    "    next_button=driver.find_element(By.XPATH,'/html/body/div/div/div[3]/div[1]/div[2]/div[12]/div/div/nav/a[12]/span')\n",
    "    next_button.click()\n",
    "    time.sleep(5)\n",
    "    \n",
    "print(sprice)"
   ]
  },
  {
   "cell_type": "code",
   "execution_count": 135,
   "id": "d272669f",
   "metadata": {},
   "outputs": [
    {
     "name": "stdout",
     "output_type": "stream",
     "text": [
      "['₹549', '₹429', '₹499', '₹387', '₹299', '₹299', '₹499', '₹449', '₹799', '₹399', '₹494', '₹494', '₹549', '₹854', '₹499', '₹499', '₹539', '₹2,096', '₹499', '₹499', '₹649', '₹649', '₹469', '₹1,399', '₹1,399', '₹649', '₹796', '₹696', '₹1,655', '₹479', '₹695', '₹796', '₹696', '₹499', '₹435', '₹509', '₹639', '₹649', '₹672', '₹989', '₹479', '₹449', '₹1,399', '₹1,139', '₹599', '₹1,028', '₹695', '₹479', '₹1,399', '₹549', '₹539', '₹1,389', '₹383', '₹588', '₹579', '₹719', '₹999', '₹499', '₹1,389', '₹494', '₹999', '₹489', '₹1,047', '₹499', '₹479', '₹574', '₹695', '₹479', '₹809', '₹499', '₹750', '₹499', '₹509', '₹479', '₹959', '₹419', '₹695', '₹989', '₹479', '₹769', '₹297', '₹473', '₹769', '₹674', '₹1,319', '₹3,119', '₹479', '₹509', '₹549', '₹1,099', '₹809', '₹799', '₹1,399', '₹1,499', '₹975', '₹2,241', '₹695', '₹449', '₹299', '₹844']\n"
     ]
    }
   ],
   "source": [
    "del sprice[100:]\n",
    "\n",
    "print(sprice)"
   ]
  },
  {
   "cell_type": "code",
   "execution_count": 136,
   "id": "14ad2248",
   "metadata": {
    "scrolled": true
   },
   "outputs": [
    {
     "name": "stdout",
     "output_type": "stream",
     "text": [
      "100\n"
     ]
    }
   ],
   "source": [
    "print(len(sprice))"
   ]
  },
  {
   "cell_type": "code",
   "execution_count": 137,
   "id": "7bff66a5",
   "metadata": {},
   "outputs": [
    {
     "name": "stdout",
     "output_type": "stream",
     "text": [
      "100 100 100\n"
     ]
    }
   ],
   "source": [
    "print(len(sbrand),len(sproduct_des),len(sprice))"
   ]
  },
  {
   "cell_type": "code",
   "execution_count": 138,
   "id": "cc785568",
   "metadata": {},
   "outputs": [
    {
     "data": {
      "text/html": [
       "<div>\n",
       "<style scoped>\n",
       "    .dataframe tbody tr th:only-of-type {\n",
       "        vertical-align: middle;\n",
       "    }\n",
       "\n",
       "    .dataframe tbody tr th {\n",
       "        vertical-align: top;\n",
       "    }\n",
       "\n",
       "    .dataframe thead th {\n",
       "        text-align: right;\n",
       "    }\n",
       "</style>\n",
       "<table border=\"1\" class=\"dataframe\">\n",
       "  <thead>\n",
       "    <tr style=\"text-align: right;\">\n",
       "      <th></th>\n",
       "      <th>Sneakers Brand</th>\n",
       "      <th>Product Description</th>\n",
       "      <th>Price</th>\n",
       "    </tr>\n",
       "  </thead>\n",
       "  <tbody>\n",
       "    <tr>\n",
       "      <th>0</th>\n",
       "      <td>BAUCHHAAR</td>\n",
       "      <td>Casual Sneakers White Outdoor Shoes For Boys A...</td>\n",
       "      <td>₹549</td>\n",
       "    </tr>\n",
       "    <tr>\n",
       "      <th>1</th>\n",
       "      <td>BAUCHHAAR</td>\n",
       "      <td>Sneakers For Men</td>\n",
       "      <td>₹429</td>\n",
       "    </tr>\n",
       "    <tr>\n",
       "      <th>2</th>\n",
       "      <td>Magnolia</td>\n",
       "      <td>Modern Trendy Sneakers boot Sneakers Sneakers ...</td>\n",
       "      <td>₹499</td>\n",
       "    </tr>\n",
       "    <tr>\n",
       "      <th>3</th>\n",
       "      <td>aadi</td>\n",
       "      <td>Synthetic Leather |Lightweight|Comfort|Summer|...</td>\n",
       "      <td>₹387</td>\n",
       "    </tr>\n",
       "    <tr>\n",
       "      <th>4</th>\n",
       "      <td>BRUTON</td>\n",
       "      <td>Modern Trendy Shoes Sneakers For Men</td>\n",
       "      <td>₹299</td>\n",
       "    </tr>\n",
       "    <tr>\n",
       "      <th>...</th>\n",
       "      <td>...</td>\n",
       "      <td>...</td>\n",
       "      <td>...</td>\n",
       "    </tr>\n",
       "    <tr>\n",
       "      <th>95</th>\n",
       "      <td>Footox</td>\n",
       "      <td>Waterproof-15 Grey Synthetic Sports,Training,G...</td>\n",
       "      <td>₹2,241</td>\n",
       "    </tr>\n",
       "    <tr>\n",
       "      <th>96</th>\n",
       "      <td>RapidBox</td>\n",
       "      <td>Skypy-31 Walking Shoes,Training Shoes,Sneakers...</td>\n",
       "      <td>₹695</td>\n",
       "    </tr>\n",
       "    <tr>\n",
       "      <th>97</th>\n",
       "      <td>K- FOOTLANCE</td>\n",
       "      <td>RS-Simul8 Tech Sneakers For Men</td>\n",
       "      <td>₹449</td>\n",
       "    </tr>\n",
       "    <tr>\n",
       "      <th>98</th>\n",
       "      <td>Sparx</td>\n",
       "      <td>2 Combo Sneaker Shoes Sneakers For Men</td>\n",
       "      <td>₹299</td>\n",
       "    </tr>\n",
       "    <tr>\n",
       "      <th>99</th>\n",
       "      <td>PUMA</td>\n",
       "      <td>Mesh Lightweight | Comfort |Premium | Trendy |...</td>\n",
       "      <td>₹844</td>\n",
       "    </tr>\n",
       "  </tbody>\n",
       "</table>\n",
       "<p>100 rows × 3 columns</p>\n",
       "</div>"
      ],
      "text/plain": [
       "   Sneakers Brand                                Product Description   Price\n",
       "0       BAUCHHAAR  Casual Sneakers White Outdoor Shoes For Boys A...    ₹549\n",
       "1       BAUCHHAAR                                   Sneakers For Men    ₹429\n",
       "2        Magnolia  Modern Trendy Sneakers boot Sneakers Sneakers ...    ₹499\n",
       "3            aadi  Synthetic Leather |Lightweight|Comfort|Summer|...    ₹387\n",
       "4          BRUTON               Modern Trendy Shoes Sneakers For Men    ₹299\n",
       "..            ...                                                ...     ...\n",
       "95         Footox  Waterproof-15 Grey Synthetic Sports,Training,G...  ₹2,241\n",
       "96       RapidBox  Skypy-31 Walking Shoes,Training Shoes,Sneakers...    ₹695\n",
       "97   K- FOOTLANCE                    RS-Simul8 Tech Sneakers For Men    ₹449\n",
       "98          Sparx             2 Combo Sneaker Shoes Sneakers For Men    ₹299\n",
       "99           PUMA  Mesh Lightweight | Comfort |Premium | Trendy |...    ₹844\n",
       "\n",
       "[100 rows x 3 columns]"
      ]
     },
     "execution_count": 138,
     "metadata": {},
     "output_type": "execute_result"
    }
   ],
   "source": [
    "df=pd.DataFrame({'Sneakers Brand':sbrand,'Product Description':sproduct_des,'Price':sprice})\n",
    "df"
   ]
  },
  {
   "cell_type": "markdown",
   "id": "48e5cb58",
   "metadata": {},
   "source": [
    "# Question No 7"
   ]
  },
  {
   "cell_type": "code",
   "execution_count": 47,
   "id": "de66a920",
   "metadata": {},
   "outputs": [],
   "source": [
    "driver=webdriver.Chrome()"
   ]
  },
  {
   "cell_type": "code",
   "execution_count": 48,
   "id": "a9e94dd4",
   "metadata": {},
   "outputs": [],
   "source": [
    "driver.get(\"https://www.amazon.in/\")"
   ]
  },
  {
   "cell_type": "code",
   "execution_count": 49,
   "id": "3c218f84",
   "metadata": {},
   "outputs": [],
   "source": [
    "product= driver.find_element(By.ID,\"twotabsearchtextbox\")\n",
    "product.send_keys('Laptop')"
   ]
  },
  {
   "cell_type": "code",
   "execution_count": 54,
   "id": "b38024d2",
   "metadata": {},
   "outputs": [],
   "source": [
    "search=driver.find_element(By.ID,'nav-search-submit-button')\n",
    "search.click()"
   ]
  },
  {
   "cell_type": "code",
   "execution_count": 57,
   "id": "953a9d49",
   "metadata": {},
   "outputs": [],
   "source": [
    "processor=driver.find_element(By.XPATH,'/html/body/div[1]/div[2]/div[1]/div[2]/div/div[3]/span/div[1]/div/div/div[6]/ul[7]/span[10]/li/span/a/div/label/i')\n",
    "processor.click()"
   ]
  },
  {
   "cell_type": "code",
   "execution_count": 58,
   "id": "3500ad66",
   "metadata": {},
   "outputs": [],
   "source": [
    "laptop_title=[]\n",
    "laptop_ratings=[]\n",
    "laptop_price=[]"
   ]
  },
  {
   "cell_type": "code",
   "execution_count": 59,
   "id": "4eebedb5",
   "metadata": {},
   "outputs": [
    {
     "name": "stdout",
     "output_type": "stream",
     "text": [
      "['Dell Inspiron 5430 13th Gen Laptop, Intel i7-1360P/16GB/1TB SSD/14.0\" (35.56CMs) FHD+ WVA AG with Comfortview Support 250 nits/Backlit KB+FPR/Win 11+MSO\\'21/15 Month McAfee/Platinum Silver/1.59KGs', 'ASUS Vivobook 15, Intel Core i7-12650H 12th Gen, 15.6\" (39.62 cm) FHD, Thin and Light Laptop', 'Lenovo [SmartChoice] IdeaPad Slim 3 Intel Core i7 11th Gen 15.6\" (39.62cm) FHD Laptop (16GB/512GB SSD/Win 11/Office 2021/2 Years Warranty/Arctic Grey/1.65Kg), 82H803B6IN', 'HP Pavilion 14, 11Th Gen Intel Core I7-16Gb Ram/1Tb Ssd 14 Inches Laptop/Intel Iris Xe Graphics/Backlit Keyboard/Alexa/B&O Audio/Fast Charge/Fpr/Windows 11 Home/Ms Office, 14-Dv1029Tu,Natural Silver', 'Acer Nitro 5 AN515-58 Gaming Laptop 12th Gen Intel Core i7-12650H NVIDIA GeForce RTX 3070Ti 8GB Laptop', 'Dell Vostro 5630 13th Gen Laptop,Intel i7-1355U/16GB LPDDR5/512GB SSD/16.0\" (40.64cm)FHD+ Comfort View,16:10 aspect ratio /Win 11 + MSO\\'21/McAfee 15 Month/Titan Grey/FHD Camera/Hardware TPM 2.0/1.90kg', 'Lenovo IdeaPad Slim 5 Intel Core i7 12th Gen 15.6\" (39.62cm) FHD IPS Thin & Light Laptop (16GB/512GB SSD/Windows 11/Office 2021/Backlit/FPR/3months Game Pass/Storm Grey/1.85Kg), 82SF008WIN', 'MSI GF63 Thin, Intel Core i7-11800H, 40CM FHD 144Hz Gaming Laptop (16GB/512GB NVMe SSD/Windows 11 Home/Nvidia GeForce RTX 3050, GDDR6 4GB/Black/1.8Kg), 11UC-1293IN', 'ASUS TUF Gaming F15 (2023) 90WHr Battery, Intel Core i7-12700H 12th Gen, 15.6\" FHD 144Hz, 8GB RTX 4060, Gaming', '(Renewed) Lenovo Intel 5th Gen Core i7 14 Inch(35.56 cms) 1366 x 768 HD Laptop (8GB RAM/256GB SSD/Windows 10 Pro/MS Office/Intel HD Graphics,Black,2.0kg) Lenovo ThinkPad T450']\n"
     ]
    }
   ],
   "source": [
    "laptop_title_tag=driver.find_elements(By.XPATH,'//h2[@class=\"a-size-mini a-spacing-none a-color-base s-line-clamp-2\"]')\n",
    "\n",
    "for i in laptop_title_tag[0:10]:\n",
    "    title=i.text\n",
    "    laptop_title.append(title)\n",
    "\n",
    "print(laptop_title)\n"
   ]
  },
  {
   "cell_type": "code",
   "execution_count": 60,
   "id": "fa6251fe",
   "metadata": {},
   "outputs": [
    {
     "name": "stdout",
     "output_type": "stream",
     "text": [
      "10\n"
     ]
    }
   ],
   "source": [
    "print(len(laptop_title))"
   ]
  },
  {
   "cell_type": "code",
   "execution_count": 61,
   "id": "eb50c070",
   "metadata": {},
   "outputs": [
    {
     "name": "stdout",
     "output_type": "stream",
     "text": [
      "0\n"
     ]
    }
   ],
   "source": [
    "print(len(laptop_ratings))"
   ]
  },
  {
   "cell_type": "code",
   "execution_count": 62,
   "id": "d59664c6",
   "metadata": {},
   "outputs": [
    {
     "name": "stdout",
     "output_type": "stream",
     "text": [
      "['2', '233', '5', '25', '50', '2', '74', '2', '22', '182']\n"
     ]
    }
   ],
   "source": [
    "laptop_ratings_tag=driver.find_elements(By.XPATH,'//span[@class=\"a-size-base s-underline-text\"]')\n",
    "\n",
    "for i in laptop_ratings_tag[0:10]:\n",
    "    lrat=i.text\n",
    "    laptop_ratings.append(lrat)\n",
    "\n",
    "print(laptop_ratings)"
   ]
  },
  {
   "cell_type": "code",
   "execution_count": 63,
   "id": "c0af4f63",
   "metadata": {},
   "outputs": [
    {
     "name": "stdout",
     "output_type": "stream",
     "text": [
      "0\n"
     ]
    }
   ],
   "source": [
    "print(len(laptop_price))"
   ]
  },
  {
   "cell_type": "code",
   "execution_count": 64,
   "id": "3e1ad3bd",
   "metadata": {},
   "outputs": [
    {
     "name": "stdout",
     "output_type": "stream",
     "text": [
      "['86,420', '61,990', '62,990', '79,990', '1,04,990', '89,990', '80,990', '71,490', '1,15,990', '29,099']\n"
     ]
    }
   ],
   "source": [
    "laptop_price_tag=driver.find_elements(By.XPATH,'//span[@class=\"a-price-whole\"]')\n",
    "\n",
    "for i in laptop_price_tag[0:10]:\n",
    "    lpr=i.text\n",
    "    laptop_price.append(lpr)\n",
    "\n",
    "print(laptop_price)"
   ]
  },
  {
   "cell_type": "code",
   "execution_count": 65,
   "id": "d8eef71b",
   "metadata": {},
   "outputs": [
    {
     "name": "stdout",
     "output_type": "stream",
     "text": [
      "10 10 10\n"
     ]
    }
   ],
   "source": [
    "print(len(laptop_title),len(laptop_ratings),len(laptop_price))"
   ]
  },
  {
   "cell_type": "code",
   "execution_count": 67,
   "id": "8da4ee10",
   "metadata": {
    "scrolled": true
   },
   "outputs": [
    {
     "data": {
      "text/html": [
       "<div>\n",
       "<style scoped>\n",
       "    .dataframe tbody tr th:only-of-type {\n",
       "        vertical-align: middle;\n",
       "    }\n",
       "\n",
       "    .dataframe tbody tr th {\n",
       "        vertical-align: top;\n",
       "    }\n",
       "\n",
       "    .dataframe thead th {\n",
       "        text-align: right;\n",
       "    }\n",
       "</style>\n",
       "<table border=\"1\" class=\"dataframe\">\n",
       "  <thead>\n",
       "    <tr style=\"text-align: right;\">\n",
       "      <th></th>\n",
       "      <th>Title</th>\n",
       "      <th>Ratings</th>\n",
       "      <th>Price</th>\n",
       "    </tr>\n",
       "  </thead>\n",
       "  <tbody>\n",
       "    <tr>\n",
       "      <th>0</th>\n",
       "      <td>Dell Inspiron 5430 13th Gen Laptop, Intel i7-1...</td>\n",
       "      <td>2</td>\n",
       "      <td>86,420</td>\n",
       "    </tr>\n",
       "    <tr>\n",
       "      <th>1</th>\n",
       "      <td>ASUS Vivobook 15, Intel Core i7-12650H 12th Ge...</td>\n",
       "      <td>233</td>\n",
       "      <td>61,990</td>\n",
       "    </tr>\n",
       "    <tr>\n",
       "      <th>2</th>\n",
       "      <td>Lenovo [SmartChoice] IdeaPad Slim 3 Intel Core...</td>\n",
       "      <td>5</td>\n",
       "      <td>62,990</td>\n",
       "    </tr>\n",
       "    <tr>\n",
       "      <th>3</th>\n",
       "      <td>HP Pavilion 14, 11Th Gen Intel Core I7-16Gb Ra...</td>\n",
       "      <td>25</td>\n",
       "      <td>79,990</td>\n",
       "    </tr>\n",
       "    <tr>\n",
       "      <th>4</th>\n",
       "      <td>Acer Nitro 5 AN515-58 Gaming Laptop 12th Gen I...</td>\n",
       "      <td>50</td>\n",
       "      <td>1,04,990</td>\n",
       "    </tr>\n",
       "    <tr>\n",
       "      <th>5</th>\n",
       "      <td>Dell Vostro 5630 13th Gen Laptop,Intel i7-1355...</td>\n",
       "      <td>2</td>\n",
       "      <td>89,990</td>\n",
       "    </tr>\n",
       "    <tr>\n",
       "      <th>6</th>\n",
       "      <td>Lenovo IdeaPad Slim 5 Intel Core i7 12th Gen 1...</td>\n",
       "      <td>74</td>\n",
       "      <td>80,990</td>\n",
       "    </tr>\n",
       "    <tr>\n",
       "      <th>7</th>\n",
       "      <td>MSI GF63 Thin, Intel Core i7-11800H, 40CM FHD ...</td>\n",
       "      <td>2</td>\n",
       "      <td>71,490</td>\n",
       "    </tr>\n",
       "    <tr>\n",
       "      <th>8</th>\n",
       "      <td>ASUS TUF Gaming F15 (2023) 90WHr Battery, Inte...</td>\n",
       "      <td>22</td>\n",
       "      <td>1,15,990</td>\n",
       "    </tr>\n",
       "    <tr>\n",
       "      <th>9</th>\n",
       "      <td>(Renewed) Lenovo Intel 5th Gen Core i7 14 Inch...</td>\n",
       "      <td>182</td>\n",
       "      <td>29,099</td>\n",
       "    </tr>\n",
       "  </tbody>\n",
       "</table>\n",
       "</div>"
      ],
      "text/plain": [
       "                                               Title Ratings     Price\n",
       "0  Dell Inspiron 5430 13th Gen Laptop, Intel i7-1...       2    86,420\n",
       "1  ASUS Vivobook 15, Intel Core i7-12650H 12th Ge...     233    61,990\n",
       "2  Lenovo [SmartChoice] IdeaPad Slim 3 Intel Core...       5    62,990\n",
       "3  HP Pavilion 14, 11Th Gen Intel Core I7-16Gb Ra...      25    79,990\n",
       "4  Acer Nitro 5 AN515-58 Gaming Laptop 12th Gen I...      50  1,04,990\n",
       "5  Dell Vostro 5630 13th Gen Laptop,Intel i7-1355...       2    89,990\n",
       "6  Lenovo IdeaPad Slim 5 Intel Core i7 12th Gen 1...      74    80,990\n",
       "7  MSI GF63 Thin, Intel Core i7-11800H, 40CM FHD ...       2    71,490\n",
       "8  ASUS TUF Gaming F15 (2023) 90WHr Battery, Inte...      22  1,15,990\n",
       "9  (Renewed) Lenovo Intel 5th Gen Core i7 14 Inch...     182    29,099"
      ]
     },
     "execution_count": 67,
     "metadata": {},
     "output_type": "execute_result"
    }
   ],
   "source": [
    "df=pd.DataFrame({'Title':laptop_title,'Ratings':laptop_ratings,'Price':laptop_price})\n",
    "df"
   ]
  },
  {
   "cell_type": "markdown",
   "id": "aec476fe",
   "metadata": {},
   "source": [
    "# Question No 8"
   ]
  },
  {
   "cell_type": "code",
   "execution_count": 68,
   "id": "72742f6a",
   "metadata": {},
   "outputs": [],
   "source": [
    "driver=webdriver.Chrome()"
   ]
  },
  {
   "cell_type": "code",
   "execution_count": 69,
   "id": "a19e684b",
   "metadata": {},
   "outputs": [],
   "source": [
    "driver.get(\"https://www.azquotes.com/\")"
   ]
  },
  {
   "cell_type": "code",
   "execution_count": 171,
   "id": "7d9998b9",
   "metadata": {},
   "outputs": [
    {
     "ename": "NoSuchElementException",
     "evalue": "Message: no such element: Unable to locate element: {\"method\":\"partial link text\",\"selector\":\"https://www.azquotes.com/top_quotes.html\"}\n  (Session info: chrome=115.0.5790.99); For documentation on this error, please visit: https://www.selenium.dev/documentation/webdriver/troubleshooting/errors#no-such-element-exception\nStacktrace:\nBacktrace:\n\tGetHandleVerifier [0x003BA813+48355]\n\t(No symbol) [0x0034C4B1]\n\t(No symbol) [0x00255358]\n\t(No symbol) [0x002809A5]\n\t(No symbol) [0x00280B3B]\n\t(No symbol) [0x002AE232]\n\t(No symbol) [0x0029A784]\n\t(No symbol) [0x002AC922]\n\t(No symbol) [0x0029A536]\n\t(No symbol) [0x002782DC]\n\t(No symbol) [0x002793DD]\n\tGetHandleVerifier [0x0061AABD+2539405]\n\tGetHandleVerifier [0x0065A78F+2800735]\n\tGetHandleVerifier [0x0065456C+2775612]\n\tGetHandleVerifier [0x004451E0+616112]\n\t(No symbol) [0x00355F8C]\n\t(No symbol) [0x00352328]\n\t(No symbol) [0x0035240B]\n\t(No symbol) [0x00344FF7]\n\tBaseThreadInitThunk [0x753200C9+25]\n\tRtlGetAppContainerNamedObjectPath [0x77027B1E+286]\n\tRtlGetAppContainerNamedObjectPath [0x77027AEE+238]\n",
     "output_type": "error",
     "traceback": [
      "\u001b[1;31m---------------------------------------------------------------------------\u001b[0m",
      "\u001b[1;31mNoSuchElementException\u001b[0m                    Traceback (most recent call last)",
      "Cell \u001b[1;32mIn[171], line 1\u001b[0m\n\u001b[1;32m----> 1\u001b[0m search\u001b[38;5;241m=\u001b[39mdriver\u001b[38;5;241m.\u001b[39mfind_element(By\u001b[38;5;241m.\u001b[39mPARTIAL_LINK_TEXT,\u001b[38;5;124m'\u001b[39m\u001b[38;5;124mhttps://www.azquotes.com/top_quotes.html\u001b[39m\u001b[38;5;124m'\u001b[39m)\n\u001b[0;32m      2\u001b[0m search\u001b[38;5;241m.\u001b[39mclick()\n",
      "File \u001b[1;32m~\\anaconda3\\Lib\\site-packages\\selenium\\webdriver\\remote\\webdriver.py:740\u001b[0m, in \u001b[0;36mWebDriver.find_element\u001b[1;34m(self, by, value)\u001b[0m\n\u001b[0;32m    737\u001b[0m     by \u001b[38;5;241m=\u001b[39m By\u001b[38;5;241m.\u001b[39mCSS_SELECTOR\n\u001b[0;32m    738\u001b[0m     value \u001b[38;5;241m=\u001b[39m \u001b[38;5;124mf\u001b[39m\u001b[38;5;124m'\u001b[39m\u001b[38;5;124m[name=\u001b[39m\u001b[38;5;124m\"\u001b[39m\u001b[38;5;132;01m{\u001b[39;00mvalue\u001b[38;5;132;01m}\u001b[39;00m\u001b[38;5;124m\"\u001b[39m\u001b[38;5;124m]\u001b[39m\u001b[38;5;124m'\u001b[39m\n\u001b[1;32m--> 740\u001b[0m \u001b[38;5;28;01mreturn\u001b[39;00m \u001b[38;5;28mself\u001b[39m\u001b[38;5;241m.\u001b[39mexecute(Command\u001b[38;5;241m.\u001b[39mFIND_ELEMENT, {\u001b[38;5;124m\"\u001b[39m\u001b[38;5;124musing\u001b[39m\u001b[38;5;124m\"\u001b[39m: by, \u001b[38;5;124m\"\u001b[39m\u001b[38;5;124mvalue\u001b[39m\u001b[38;5;124m\"\u001b[39m: value})[\u001b[38;5;124m\"\u001b[39m\u001b[38;5;124mvalue\u001b[39m\u001b[38;5;124m\"\u001b[39m]\n",
      "File \u001b[1;32m~\\anaconda3\\Lib\\site-packages\\selenium\\webdriver\\remote\\webdriver.py:346\u001b[0m, in \u001b[0;36mWebDriver.execute\u001b[1;34m(self, driver_command, params)\u001b[0m\n\u001b[0;32m    344\u001b[0m response \u001b[38;5;241m=\u001b[39m \u001b[38;5;28mself\u001b[39m\u001b[38;5;241m.\u001b[39mcommand_executor\u001b[38;5;241m.\u001b[39mexecute(driver_command, params)\n\u001b[0;32m    345\u001b[0m \u001b[38;5;28;01mif\u001b[39;00m response:\n\u001b[1;32m--> 346\u001b[0m     \u001b[38;5;28mself\u001b[39m\u001b[38;5;241m.\u001b[39merror_handler\u001b[38;5;241m.\u001b[39mcheck_response(response)\n\u001b[0;32m    347\u001b[0m     response[\u001b[38;5;124m\"\u001b[39m\u001b[38;5;124mvalue\u001b[39m\u001b[38;5;124m\"\u001b[39m] \u001b[38;5;241m=\u001b[39m \u001b[38;5;28mself\u001b[39m\u001b[38;5;241m.\u001b[39m_unwrap_value(response\u001b[38;5;241m.\u001b[39mget(\u001b[38;5;124m\"\u001b[39m\u001b[38;5;124mvalue\u001b[39m\u001b[38;5;124m\"\u001b[39m, \u001b[38;5;28;01mNone\u001b[39;00m))\n\u001b[0;32m    348\u001b[0m     \u001b[38;5;28;01mreturn\u001b[39;00m response\n",
      "File \u001b[1;32m~\\anaconda3\\Lib\\site-packages\\selenium\\webdriver\\remote\\errorhandler.py:245\u001b[0m, in \u001b[0;36mErrorHandler.check_response\u001b[1;34m(self, response)\u001b[0m\n\u001b[0;32m    243\u001b[0m         alert_text \u001b[38;5;241m=\u001b[39m value[\u001b[38;5;124m\"\u001b[39m\u001b[38;5;124malert\u001b[39m\u001b[38;5;124m\"\u001b[39m]\u001b[38;5;241m.\u001b[39mget(\u001b[38;5;124m\"\u001b[39m\u001b[38;5;124mtext\u001b[39m\u001b[38;5;124m\"\u001b[39m)\n\u001b[0;32m    244\u001b[0m     \u001b[38;5;28;01mraise\u001b[39;00m exception_class(message, screen, stacktrace, alert_text)  \u001b[38;5;66;03m# type: ignore[call-arg]  # mypy is not smart enough here\u001b[39;00m\n\u001b[1;32m--> 245\u001b[0m \u001b[38;5;28;01mraise\u001b[39;00m exception_class(message, screen, stacktrace)\n",
      "\u001b[1;31mNoSuchElementException\u001b[0m: Message: no such element: Unable to locate element: {\"method\":\"partial link text\",\"selector\":\"https://www.azquotes.com/top_quotes.html\"}\n  (Session info: chrome=115.0.5790.99); For documentation on this error, please visit: https://www.selenium.dev/documentation/webdriver/troubleshooting/errors#no-such-element-exception\nStacktrace:\nBacktrace:\n\tGetHandleVerifier [0x003BA813+48355]\n\t(No symbol) [0x0034C4B1]\n\t(No symbol) [0x00255358]\n\t(No symbol) [0x002809A5]\n\t(No symbol) [0x00280B3B]\n\t(No symbol) [0x002AE232]\n\t(No symbol) [0x0029A784]\n\t(No symbol) [0x002AC922]\n\t(No symbol) [0x0029A536]\n\t(No symbol) [0x002782DC]\n\t(No symbol) [0x002793DD]\n\tGetHandleVerifier [0x0061AABD+2539405]\n\tGetHandleVerifier [0x0065A78F+2800735]\n\tGetHandleVerifier [0x0065456C+2775612]\n\tGetHandleVerifier [0x004451E0+616112]\n\t(No symbol) [0x00355F8C]\n\t(No symbol) [0x00352328]\n\t(No symbol) [0x0035240B]\n\t(No symbol) [0x00344FF7]\n\tBaseThreadInitThunk [0x753200C9+25]\n\tRtlGetAppContainerNamedObjectPath [0x77027B1E+286]\n\tRtlGetAppContainerNamedObjectPath [0x77027AEE+238]\n"
     ]
    }
   ],
   "source": [
    "search=driver.find_element(By.PARTIAL_LINK_TEXT,'https://www.azquotes.com/top_quotes.html')\n",
    "search.click()"
   ]
  },
  {
   "cell_type": "code",
   "execution_count": null,
   "id": "0168b588",
   "metadata": {},
   "outputs": [],
   "source": []
  },
  {
   "cell_type": "code",
   "execution_count": null,
   "id": "55ad2758",
   "metadata": {},
   "outputs": [],
   "source": []
  },
  {
   "cell_type": "markdown",
   "id": "941cd06f",
   "metadata": {},
   "source": [
    "# Question No 9"
   ]
  },
  {
   "cell_type": "code",
   "execution_count": null,
   "id": "88785a92",
   "metadata": {},
   "outputs": [],
   "source": []
  },
  {
   "cell_type": "code",
   "execution_count": null,
   "id": "5b88ff39",
   "metadata": {},
   "outputs": [],
   "source": []
  },
  {
   "cell_type": "code",
   "execution_count": null,
   "id": "2b9d32fb",
   "metadata": {},
   "outputs": [],
   "source": []
  },
  {
   "cell_type": "code",
   "execution_count": null,
   "id": "413da4cc",
   "metadata": {},
   "outputs": [],
   "source": []
  },
  {
   "cell_type": "code",
   "execution_count": null,
   "id": "49aca0d6",
   "metadata": {},
   "outputs": [],
   "source": []
  },
  {
   "cell_type": "markdown",
   "id": "8affda9a",
   "metadata": {},
   "source": [
    "# Question No 10"
   ]
  },
  {
   "cell_type": "code",
   "execution_count": 71,
   "id": "9061cb77",
   "metadata": {},
   "outputs": [],
   "source": [
    "driver=webdriver.Chrome()"
   ]
  },
  {
   "cell_type": "code",
   "execution_count": 72,
   "id": "aa749ae2",
   "metadata": {},
   "outputs": [],
   "source": [
    "driver.get(\"https://www.motor1.com/\")"
   ]
  },
  {
   "cell_type": "code",
   "execution_count": 73,
   "id": "70a24b61",
   "metadata": {},
   "outputs": [],
   "source": [
    "product= driver.find_element(By.XPATH,\"/html/body/div[10]/div[2]/div/div/div[3]/div/div/div/form/input\")\n",
    "product.send_keys('50 most expensive cars')"
   ]
  },
  {
   "cell_type": "code",
   "execution_count": 74,
   "id": "34919f6d",
   "metadata": {},
   "outputs": [],
   "source": [
    "search=driver.find_element(By.XPATH,'/html/body/div[10]/div[2]/div/div/div[3]/div/div/div/form/button[1]')\n",
    "search.click()"
   ]
  },
  {
   "cell_type": "code",
   "execution_count": 75,
   "id": "1c11bab9",
   "metadata": {},
   "outputs": [],
   "source": [
    "search_=driver.find_element(By.XPATH,'/html/body/div[10]/div[9]/div/div[1]/div/div/div[2]/div/div[1]')\n",
    "search_.click()"
   ]
  },
  {
   "cell_type": "code",
   "execution_count": 77,
   "id": "01fd9579",
   "metadata": {},
   "outputs": [],
   "source": [
    "car_name=[]\n",
    "car_price=[]"
   ]
  },
  {
   "cell_type": "code",
   "execution_count": 83,
   "id": "0b5b8d8a",
   "metadata": {},
   "outputs": [
    {
     "name": "stdout",
     "output_type": "stream",
     "text": [
      "['De Tomaso P72', 'Ferrari LaFerrari', 'Pagani Huayra', 'McLaren Elva', 'Czinger 21C', 'Ferrari Monza', 'Gordon Murray T.33', 'Koenigsegg Gemera', 'Zenvo TSR-S', 'Hennessey Venom F5', 'Bentley Bacalar', 'Hispano Suiza Carmen Boulogne', 'Bentley Mulliner Batur', 'Deus Vayanne', 'SSC Tuatara', 'Lotus Evija', 'Aston Martin Vulcan', 'Delage D12', 'McLaren Speedtail', 'Rimac Nevera', 'Pagani Utopia', 'Pininfarina Battista', 'Ferrari FXX K Evo', 'Gordon Murray T.50', 'Lamborghini Countach', 'Mercedes-AMG Project One', 'Aston Martin Victor', 'Hennessey Venom F5 Roadster', 'Koenigsegg Jesko', 'Aston Martin Valkyrie', 'W Motors Lykan Hypersport', 'McLaren Solus', 'Pagani Huayra Roadster BC', 'Bugatti Chiron Pur Sport', 'Lamborghini Sian', 'Koenigsegg CC850', 'Bugatti Chiron Super Sport 300+', 'Lamborghini Veneno', 'Bugatti Bolide', 'Bugatti Mistral', 'Pagani Huayra Imola', 'Bugatti Divo', 'SP Automotive Chaos', 'Pagani Codalunga', 'Mercedes-Maybach Exelero', 'Bugatti Centodieci', 'Bugatti Chiron Profilée', 'Rolls-Royce Sweptail', 'Bugatti La Voiture Noire', 'Rolls-Royce Boat Tail*']\n"
     ]
    }
   ],
   "source": [
    "car_name_tag=driver.find_elements(By.XPATH,'//h3[@class=\"subheader\"]')\n",
    "\n",
    "for i in car_name_tag[0:50]:\n",
    "    car=i.text\n",
    "    car_name.append(car)\n",
    "\n",
    "print(car_name)"
   ]
  },
  {
   "cell_type": "code",
   "execution_count": 84,
   "id": "166673e4",
   "metadata": {},
   "outputs": [
    {
     "name": "stdout",
     "output_type": "stream",
     "text": [
      "50\n"
     ]
    }
   ],
   "source": [
    "print(len(car_name))"
   ]
  },
  {
   "cell_type": "code",
   "execution_count": 81,
   "id": "0f544de8",
   "metadata": {},
   "outputs": [],
   "source": [
    "car_name.clear()"
   ]
  },
  {
   "cell_type": "code",
   "execution_count": null,
   "id": "bb00ebfe",
   "metadata": {},
   "outputs": [],
   "source": []
  }
 ],
 "metadata": {
  "kernelspec": {
   "display_name": "Python 3 (ipykernel)",
   "language": "python",
   "name": "python3"
  },
  "language_info": {
   "codemirror_mode": {
    "name": "ipython",
    "version": 3
   },
   "file_extension": ".py",
   "mimetype": "text/x-python",
   "name": "python",
   "nbconvert_exporter": "python",
   "pygments_lexer": "ipython3",
   "version": "3.9.13"
  }
 },
 "nbformat": 4,
 "nbformat_minor": 5
}
